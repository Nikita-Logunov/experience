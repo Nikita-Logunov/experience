{
 "cells": [
  {
   "cell_type": "markdown",
   "id": "874b8f56-c8f6-4335-ac4f-1c5907ac3810",
   "metadata": {
    "panel-layout": {
     "height": 60.5938,
     "visible": true,
     "width": 100
    }
   },
   "source": [
    "# Project: Analysis of sales and ratings of games"
   ]
  },
  {
   "cell_type": "markdown",
   "id": "cae7ce83-97e1-4153-8f25-9cdfedfa87fc",
   "metadata": {
    "panel-layout": {
     "height": 51.1406,
     "visible": true,
     "width": 100
    }
   },
   "source": [
    "by Nikita Logunov"
   ]
  },
  {
   "cell_type": "markdown",
   "id": "ba7240f8-cc27-47f5-9b3e-4b2cc90d8864",
   "metadata": {
    "panel-layout": {
     "height": 137.344,
     "visible": true,
     "width": 100
    }
   },
   "source": [
    "<font color='black' style='font-size:24px; font-weight:bold'>Project goals and objectives</font>\n",
    "<br>In this project, we work with the `new_games.csv` dataset, which contains information on sales of games of different genres and platforms, as well as user and critic ratings of games. Our task is to get acquainted with the data, check its correctness and conduct pre-processing, having received the necessary data slice. Then categorize the games by user and critic ratings. And highlight the top-7 platforms by the number of games released over the entire required period."
   ]
  },
  {
   "cell_type": "markdown",
   "id": "8f5d2d5b-7fd9-4a52-9848-4156cab2632c",
   "metadata": {
    "panel-layout": {
     "height": 326.25,
     "visible": true,
     "width": 100
    },
    "scrolled": true
   },
   "source": [
    "<font color='black' style='font-size:24px; font-weight:bold'>Description of data</font>\n",
    "<br>\n",
    "The `new_games.csv` dataset contains the following fields:\n",
    "\n",
    "- `Name` — the name of the game.\n",
    "- `Platform` — the name of the platform.\n",
    "- `Year of Release` — the year the game was released.\n",
    "- `Genre` — the genre of the game.\n",
    "- `NA sales` — sales in North America (in millions of copies sold).\n",
    "- `EU sales` — sales in Europe (in millions of copies sold).\n",
    "- `JP sales` — sales in Japan (in millions of copies sold).\n",
    "- `Other sales` — sales in other countries (in millions of copies sold).\n",
    "- `Critic Score` — critics' score (from 0 to 100).\n",
    "- `User Score` — user score (from 0 to 10).\n",
    "- `Rating` — rating from the ESRB (Entertainment Software Rating Board). This association determines the rating of computer games and assigns them an appropriate age category."
   ]
  },
  {
   "cell_type": "markdown",
   "id": "b267cea4-4da9-4ba9-8eb7-abe857a0154d",
   "metadata": {
    "panel-layout": {
     "height": 251.688,
     "visible": true,
     "width": 100
    }
   },
   "source": [
    "<font color='black' style='font-size:24px; font-weight:bold'>Table of contents</font>\n",
    "<br>\n",
    "1. [Loading and studing the data](#1-bullet)\n",
    "2. [Checking for data errors and preprocessing them](#2-bullet)\n",
    "   -  [Names, or labels, of dataframe columns](#2.1-bullet)\n",
    "   -  [Converting data types](#2.2-bullet)\n",
    "   -  [Handling gaps in data](#2.3-bullet)\n",
    "   -  [Explicit and implicit duplicates in data](#2.4-bullet)\n",
    "3. [Filtering data](#3-bullet)\n",
    "4. [Categorizing data](#4-bullet)\n",
    "5. [General conclusion](#5-bullet)"
   ]
  },
  {
   "cell_type": "markdown",
   "id": "dd416ced-c002-452d-97eb-b5d5a5d56d1d",
   "metadata": {
    "panel-layout": {
     "height": 106.492,
     "visible": true,
     "width": 100
    }
   },
   "source": [
    "<a id=\"1-bullet\"></a>\n",
    "## Loading and studing the data\n",
    "\n",
    "Let's load the necessary libraries for data analysis and the data from the `new_games.csv` dataset. Then we'll output the basic information about the data using the `.info()` method and the first rows of the dataframe."
   ]
  },
  {
   "cell_type": "code",
   "execution_count": 7,
   "id": "b2c85afa-f946-4b4a-9211-b904143ac09b",
   "metadata": {},
   "outputs": [],
   "source": [
    "# Import the \"pandas\" library\n",
    "import pandas as pd"
   ]
  },
  {
   "cell_type": "code",
   "execution_count": 8,
   "id": "a1121ede-6825-4b14-b4ab-5edca1ebb830",
   "metadata": {},
   "outputs": [],
   "source": [
    "# Upload new_games.csv to a dataframe\n",
    "df = pd.read_csv('https://code.s3.yandex.net/datasets/new_games.csv')"
   ]
  },
  {
   "cell_type": "code",
   "execution_count": 9,
   "id": "0d7ea2a9-2ea1-4b91-ad8b-10524a5691ef",
   "metadata": {
    "panel-layout": {
     "height": 0,
     "visible": true,
     "width": 100
    }
   },
   "outputs": [
    {
     "name": "stdout",
     "output_type": "stream",
     "text": [
      "<class 'pandas.core.frame.DataFrame'>\n",
      "RangeIndex: 16956 entries, 0 to 16955\n",
      "Data columns (total 11 columns):\n",
      " #   Column           Non-Null Count  Dtype  \n",
      "---  ------           --------------  -----  \n",
      " 0   Name             16954 non-null  object \n",
      " 1   Platform         16956 non-null  object \n",
      " 2   Year of Release  16681 non-null  float64\n",
      " 3   Genre            16954 non-null  object \n",
      " 4   NA sales         16956 non-null  float64\n",
      " 5   EU sales         16956 non-null  object \n",
      " 6   JP sales         16956 non-null  object \n",
      " 7   Other sales      16956 non-null  float64\n",
      " 8   Critic Score     8242 non-null   float64\n",
      " 9   User Score       10152 non-null  object \n",
      " 10  Rating           10085 non-null  object \n",
      "dtypes: float64(4), object(7)\n",
      "memory usage: 1.4+ MB\n"
     ]
    }
   ],
   "source": [
    "# Displaying information about the dataframe\n",
    "df.info()"
   ]
  },
  {
   "cell_type": "markdown",
   "id": "ec497dda-eb60-45c2-a6b0-ef73cdb7fa20",
   "metadata": {
    "panel-layout": {
     "height": 51.1406,
     "visible": true,
     "width": 100
    }
   },
   "source": [
    "For ease of working with data, column names can be converted to **snake_case** and lowercase."
   ]
  },
  {
   "cell_type": "code",
   "execution_count": 11,
   "id": "7bb99208-689e-4765-acf1-40e92aea5035",
   "metadata": {
    "panel-layout": {
     "height": 170,
     "visible": true,
     "width": 100
    },
    "scrolled": true
   },
   "outputs": [
    {
     "data": {
      "text/html": [
       "<div>\n",
       "<style scoped>\n",
       "    .dataframe tbody tr th:only-of-type {\n",
       "        vertical-align: middle;\n",
       "    }\n",
       "\n",
       "    .dataframe tbody tr th {\n",
       "        vertical-align: top;\n",
       "    }\n",
       "\n",
       "    .dataframe thead th {\n",
       "        text-align: right;\n",
       "    }\n",
       "</style>\n",
       "<table border=\"1\" class=\"dataframe\">\n",
       "  <thead>\n",
       "    <tr style=\"text-align: right;\">\n",
       "      <th></th>\n",
       "      <th>Name</th>\n",
       "      <th>Platform</th>\n",
       "      <th>Year of Release</th>\n",
       "      <th>Genre</th>\n",
       "      <th>NA sales</th>\n",
       "      <th>EU sales</th>\n",
       "      <th>JP sales</th>\n",
       "      <th>Other sales</th>\n",
       "      <th>Critic Score</th>\n",
       "      <th>User Score</th>\n",
       "      <th>Rating</th>\n",
       "    </tr>\n",
       "  </thead>\n",
       "  <tbody>\n",
       "    <tr>\n",
       "      <th>0</th>\n",
       "      <td>Wii Sports</td>\n",
       "      <td>Wii</td>\n",
       "      <td>2006.0</td>\n",
       "      <td>Sports</td>\n",
       "      <td>41.36</td>\n",
       "      <td>28.96</td>\n",
       "      <td>3.77</td>\n",
       "      <td>8.45</td>\n",
       "      <td>76.0</td>\n",
       "      <td>8</td>\n",
       "      <td>E</td>\n",
       "    </tr>\n",
       "    <tr>\n",
       "      <th>1</th>\n",
       "      <td>Super Mario Bros.</td>\n",
       "      <td>NES</td>\n",
       "      <td>1985.0</td>\n",
       "      <td>Platform</td>\n",
       "      <td>29.08</td>\n",
       "      <td>3.58</td>\n",
       "      <td>6.81</td>\n",
       "      <td>0.77</td>\n",
       "      <td>NaN</td>\n",
       "      <td>NaN</td>\n",
       "      <td>NaN</td>\n",
       "    </tr>\n",
       "    <tr>\n",
       "      <th>2</th>\n",
       "      <td>Mario Kart Wii</td>\n",
       "      <td>Wii</td>\n",
       "      <td>2008.0</td>\n",
       "      <td>Racing</td>\n",
       "      <td>15.68</td>\n",
       "      <td>12.76</td>\n",
       "      <td>3.79</td>\n",
       "      <td>3.29</td>\n",
       "      <td>82.0</td>\n",
       "      <td>8.3</td>\n",
       "      <td>E</td>\n",
       "    </tr>\n",
       "    <tr>\n",
       "      <th>3</th>\n",
       "      <td>Wii Sports Resort</td>\n",
       "      <td>Wii</td>\n",
       "      <td>2009.0</td>\n",
       "      <td>Sports</td>\n",
       "      <td>15.61</td>\n",
       "      <td>10.93</td>\n",
       "      <td>3.28</td>\n",
       "      <td>2.95</td>\n",
       "      <td>80.0</td>\n",
       "      <td>8</td>\n",
       "      <td>E</td>\n",
       "    </tr>\n",
       "    <tr>\n",
       "      <th>4</th>\n",
       "      <td>Pokemon Red/Pokemon Blue</td>\n",
       "      <td>GB</td>\n",
       "      <td>1996.0</td>\n",
       "      <td>Role-Playing</td>\n",
       "      <td>11.27</td>\n",
       "      <td>8.89</td>\n",
       "      <td>10.22</td>\n",
       "      <td>1.00</td>\n",
       "      <td>NaN</td>\n",
       "      <td>NaN</td>\n",
       "      <td>NaN</td>\n",
       "    </tr>\n",
       "  </tbody>\n",
       "</table>\n",
       "</div>"
      ],
      "text/plain": [
       "                       Name Platform  Year of Release         Genre  NA sales  \\\n",
       "0                Wii Sports      Wii           2006.0        Sports     41.36   \n",
       "1         Super Mario Bros.      NES           1985.0      Platform     29.08   \n",
       "2            Mario Kart Wii      Wii           2008.0        Racing     15.68   \n",
       "3         Wii Sports Resort      Wii           2009.0        Sports     15.61   \n",
       "4  Pokemon Red/Pokemon Blue       GB           1996.0  Role-Playing     11.27   \n",
       "\n",
       "  EU sales JP sales  Other sales  Critic Score User Score Rating  \n",
       "0    28.96     3.77         8.45          76.0          8      E  \n",
       "1     3.58     6.81         0.77           NaN        NaN    NaN  \n",
       "2    12.76     3.79         3.29          82.0        8.3      E  \n",
       "3    10.93     3.28         2.95          80.0          8      E  \n",
       "4     8.89    10.22         1.00           NaN        NaN    NaN  "
      ]
     },
     "execution_count": 11,
     "metadata": {},
     "output_type": "execute_result"
    }
   ],
   "source": [
    "# Displaying the first lines of the dataframe\n",
    "df.head()"
   ]
  },
  {
   "cell_type": "markdown",
   "id": "702bfeb5-e97e-4cf2-8f42-9589a3687135",
   "metadata": {
    "panel-layout": {
     "height": 332.109,
     "visible": true,
     "width": 100
    }
   },
   "source": [
    "The `new_games.csv` dataset contains 11 columns and 16956 rows, which contain information about sales of games made in different genres and released on different platforms, as well as user and expert ratings of games.\n",
    "\n",
    "Let's study the data types and their correctness:\n",
    "- **Floating-point numeric values (float64).** Four columns: `Year of Release`, `NA sales`, `Other sales`, `Critic Score` - are represented by the `float64` type. `Year of Release` - the year of the game's release is better represented by the `int16` type (it is possible that when filling in the data, there were strings in place of gaps (for example, \"no data\"), then they were converted using `pd.to_numeric()` with the `errors='coerce'` parameter and got `NaN` instead of strings and floating-point numbers instead of integers). For the other columns, the data type is correct, since ratings and scores are often fractional numbers.\n",
    "But in the `Critic Score` column, all values have a zero remainder. For ease of perception, it is better to convert this column to an integer type.\n",
    "- **String data (object).** Seven columns have the `object` data type:\n",
    "- `Name` and `Genre` contain string information (game name and genre), which is logical for text data. The `object` data type is appropriate here.\n",
    "- `EU sales`, `JP sales`, `User Score` store information about game sales and user ratings. For such data, it is recommended to use the `float64` type, which is easier to use various aggregation methods with. Perhaps the data is string, since it was obtained from sources other than the data in the `NA sales`, `Other sales`, `Critic Score` columns with the `float64` type.\n",
    "- `Rating`, `Platform` store text data about rating and platform, but they can be considered as categorical features. In this case, we can use the `category` type to improve performance and optimize memory, since the set of values is limited and known in advance.\n",
    "\n",
    "After analyzing the data types, it is clear that 7 columns require a data type change."
   ]
  },
  {
   "cell_type": "markdown",
   "id": "a0438f34-f328-47e0-ac11-b5a823bbe692",
   "metadata": {
    "panel-layout": {
     "height": 55.2656,
     "visible": true,
     "width": 100
    }
   },
   "source": [
    "<a name=\"2-bullet\"></a>\n",
    "## Checking for data errors and preprocessing them"
   ]
  },
  {
   "cell_type": "markdown",
   "id": "a274bcde-31c4-4c5e-a590-7ed4590d292e",
   "metadata": {
    "panel-layout": {
     "height": 49.0703,
     "visible": true,
     "width": 100
    }
   },
   "source": [
    "<a class=\"anchor\" id=\"2.1-bullet\"></a>\n",
    "### Names, or labels, of dataframe columns"
   ]
  },
  {
   "cell_type": "code",
   "execution_count": 15,
   "id": "38266e49-98ab-45c0-9602-31ce790b90f1",
   "metadata": {
    "panel-layout": {
     "height": 61.4219,
     "visible": true,
     "width": 100
    }
   },
   "outputs": [
    {
     "data": {
      "text/plain": [
       "Index(['Name', 'Platform', 'Year of Release', 'Genre', 'NA sales', 'EU sales',\n",
       "       'JP sales', 'Other sales', 'Critic Score', 'User Score', 'Rating'],\n",
       "      dtype='object')"
      ]
     },
     "execution_count": 15,
     "metadata": {},
     "output_type": "execute_result"
    }
   ],
   "source": [
    "# Let's display the names of all columns in the dataframe and check their writing style\n",
    "df.columns"
   ]
  },
  {
   "cell_type": "code",
   "execution_count": 16,
   "id": "449df1cf-b7e4-4cee-b309-3d23bcd87d2e",
   "metadata": {
    "panel-layout": {
     "height": 61.4219,
     "visible": true,
     "width": 100
    },
    "scrolled": true
   },
   "outputs": [
    {
     "data": {
      "text/plain": [
       "Index(['name', 'platform', 'year_of_release', 'genre', 'na_sales', 'eu_sales',\n",
       "       'jp_sales', 'other_sales', 'critic_score', 'user_score', 'rating'],\n",
       "      dtype='object')"
      ]
     },
     "execution_count": 16,
     "metadata": {},
     "output_type": "execute_result"
    }
   ],
   "source": [
    "# Let's change all columns to snake_case style\n",
    "df.columns = df.columns.str.lower().str.replace(' ','_')\n",
    "df.columns"
   ]
  },
  {
   "cell_type": "markdown",
   "id": "60d3bea9-f7eb-4632-8e62-d45f1e9da547",
   "metadata": {
    "panel-layout": {
     "height": 49.0703,
     "visible": true,
     "width": 100
    }
   },
   "source": [
    "<a class=\"anchor\" id=\"2.2-bullet\"></a>\n",
    "### Converting data types"
   ]
  },
  {
   "cell_type": "code",
   "execution_count": 18,
   "id": "162f5532-7dc5-41b7-81cb-76b964f788af",
   "metadata": {},
   "outputs": [],
   "source": [
    "# Saving the number of rows of the original dataframe\n",
    "df_initial_rows = len(df)"
   ]
  },
  {
   "cell_type": "code",
   "execution_count": 19,
   "id": "639fce0d-33da-4b62-80fa-2f338598ac56",
   "metadata": {
    "panel-layout": {
     "height": 329,
     "visible": true,
     "width": 100
    },
    "scrolled": true
   },
   "outputs": [
    {
     "data": {
      "text/plain": [
       "name                  2\n",
       "platform              0\n",
       "year_of_release     275\n",
       "genre                 2\n",
       "na_sales              0\n",
       "eu_sales              0\n",
       "jp_sales              0\n",
       "other_sales           0\n",
       "critic_score       8714\n",
       "user_score         6804\n",
       "rating             6871\n",
       "dtype: int64"
      ]
     },
     "execution_count": 19,
     "metadata": {},
     "output_type": "execute_result"
    }
   ],
   "source": [
    "# Display the number of missing rows in a dataframe before converting data types\n",
    "df.isna().sum()"
   ]
  },
  {
   "cell_type": "code",
   "execution_count": 20,
   "id": "06234dc8-d78d-4ac6-8c04-48ffdba7853d",
   "metadata": {
    "panel-layout": {
     "height": 329,
     "visible": true,
     "width": 100
    }
   },
   "outputs": [
    {
     "data": {
      "text/plain": [
       "name                0.01\n",
       "platform            0.00\n",
       "year_of_release     1.62\n",
       "genre               0.01\n",
       "na_sales            0.00\n",
       "eu_sales            0.00\n",
       "jp_sales            0.00\n",
       "other_sales         0.00\n",
       "critic_score       51.39\n",
       "user_score         40.13\n",
       "rating             40.52\n",
       "dtype: float64"
      ]
     },
     "execution_count": 20,
     "metadata": {},
     "output_type": "execute_result"
    }
   ],
   "source": [
    "# Calculate the percentage of rows with gaps before converting data types\n",
    "round(df.isna().sum() / len(df) * 100, 2)"
   ]
  },
  {
   "cell_type": "code",
   "execution_count": 21,
   "id": "ce2c6db8-671d-46fa-a284-13df545d0c0c",
   "metadata": {},
   "outputs": [],
   "source": [
    "# To convert the data in the df['year_of_release'] column to type 'int16', first remove the gaps in this column\n",
    "df = df.dropna(subset=['year_of_release'])"
   ]
  },
  {
   "cell_type": "code",
   "execution_count": 22,
   "id": "d9e9109c-866d-40a6-a302-ded8e369290f",
   "metadata": {},
   "outputs": [],
   "source": [
    "# Now we can convert the data in the df['year_of_release'] column to type 'int16'\n",
    "df['year_of_release'] = df['year_of_release'].astype('int16')"
   ]
  },
  {
   "cell_type": "code",
   "execution_count": 23,
   "id": "f9bfa776-9b35-4efa-ab35-d75ade3cf39d",
   "metadata": {},
   "outputs": [],
   "source": [
    "# To convert the data in the df['critic_score'] column to type 'int8', first fill the gaps in this column with a placeholder -1\n",
    "df['critic_score'] = df['critic_score'].fillna(-1)"
   ]
  },
  {
   "cell_type": "code",
   "execution_count": 24,
   "id": "56f37ddf-30e1-40cb-bda1-374efeb8d4d8",
   "metadata": {},
   "outputs": [],
   "source": [
    "# Convert the data in the df['critic_score'] column to type 'int8'\n",
    "df['critic_score'] = pd.to_numeric(df['critic_score'], errors='coerce', downcast='integer')"
   ]
  },
  {
   "cell_type": "code",
   "execution_count": 25,
   "id": "bfe19359-9944-4659-b629-3439d69849b1",
   "metadata": {},
   "outputs": [],
   "source": [
    "# Convert columns df['eu_sales'] and df['jp_sales'] to the smallest 'float' type\n",
    "# and replace string values of type 'unknown' with NaN\n",
    "df['eu_sales'] = pd.to_numeric(df['eu_sales'], errors='coerce', downcast='float')\n",
    "df['jp_sales'] = pd.to_numeric(df['jp_sales'], errors='coerce', downcast='float')"
   ]
  },
  {
   "cell_type": "code",
   "execution_count": 26,
   "id": "3adc0b6a-b037-4525-8e68-2836fa53f8a5",
   "metadata": {},
   "outputs": [],
   "source": [
    "# Convert the df['user_score'] column to the 'float' type of the smallest bit depth\n",
    "df['user_score'] = pd.to_numeric(df['user_score'], errors='coerce', downcast='float')"
   ]
  },
  {
   "cell_type": "code",
   "execution_count": 27,
   "id": "1a66c7fe-7b06-47d9-a50d-97824c7bc513",
   "metadata": {},
   "outputs": [],
   "source": [
    "# Convert columns df[['rating', 'platform']] to type 'category'\n",
    "df[['rating',  'platform']] = df[['rating', 'platform']].astype('category')"
   ]
  },
  {
   "cell_type": "code",
   "execution_count": 28,
   "id": "fd389e2f-3eef-4116-acbb-f424ffc06348",
   "metadata": {
    "panel-layout": {
     "height": 329,
     "visible": true,
     "width": 100
    },
    "scrolled": true
   },
   "outputs": [
    {
     "data": {
      "text/plain": [
       "name                 object\n",
       "platform           category\n",
       "year_of_release       int16\n",
       "genre                object\n",
       "na_sales            float64\n",
       "eu_sales            float32\n",
       "jp_sales            float32\n",
       "other_sales         float64\n",
       "critic_score           int8\n",
       "user_score          float32\n",
       "rating             category\n",
       "dtype: object"
      ]
     },
     "execution_count": 28,
     "metadata": {},
     "output_type": "execute_result"
    }
   ],
   "source": [
    "# Checking the result of converting data types\n",
    "df.dtypes"
   ]
  },
  {
   "cell_type": "markdown",
   "id": "423a5bca-cc21-4322-a442-fa42832ba050",
   "metadata": {
    "panel-layout": {
     "height": 49.0703,
     "visible": true,
     "width": 100
    }
   },
   "source": [
    "<a class=\"anchor\" id=\"2.3-bullet\"></a>\n",
    "### Handling gaps in data"
   ]
  },
  {
   "cell_type": "code",
   "execution_count": 30,
   "id": "c28aaf67-ae2e-4476-ac59-b50cf4749f27",
   "metadata": {
    "panel-layout": {
     "height": 329,
     "visible": true,
     "width": 100
    }
   },
   "outputs": [
    {
     "data": {
      "text/plain": [
       "name                  2\n",
       "platform              0\n",
       "year_of_release       0\n",
       "genre                 2\n",
       "na_sales              0\n",
       "eu_sales              6\n",
       "jp_sales              4\n",
       "other_sales           0\n",
       "critic_score          0\n",
       "user_score         9123\n",
       "rating             6780\n",
       "dtype: int64"
      ]
     },
     "execution_count": 30,
     "metadata": {},
     "output_type": "execute_result"
    }
   ],
   "source": [
    "# Display the number of missing rows in a dataframe after converting data types\n",
    "df.isna().sum()"
   ]
  },
  {
   "cell_type": "code",
   "execution_count": 31,
   "id": "914fa21e-86c9-4bde-b01b-674d49856ad9",
   "metadata": {
    "panel-layout": {
     "height": 329,
     "visible": true,
     "width": 100
    }
   },
   "outputs": [
    {
     "data": {
      "text/plain": [
       "name                0.01\n",
       "platform            0.00\n",
       "year_of_release     0.00\n",
       "genre               0.01\n",
       "na_sales            0.00\n",
       "eu_sales            0.04\n",
       "jp_sales            0.02\n",
       "other_sales         0.00\n",
       "critic_score        0.00\n",
       "user_score         54.69\n",
       "rating             40.65\n",
       "dtype: float64"
      ]
     },
     "execution_count": 31,
     "metadata": {},
     "output_type": "execute_result"
    }
   ],
   "source": [
    "# Calculate the percentage of rows with gaps after converting data types\n",
    "round(df.isna().sum() / len(df) * 100, 2)"
   ]
  },
  {
   "cell_type": "markdown",
   "id": "afd46582-435f-4e60-9e3b-ff0b24d0bf5a",
   "metadata": {
    "panel-layout": {
     "height": 319.609,
     "visible": true,
     "width": 100
    }
   },
   "source": [
    "There are gaps in the following columns in the data (their number changed after type conversion):\n",
    "- `name`: 2 rows (0.01% of the data) are missing information about the game name. This is an insignificant share, these gaps can be ignored and removed.\n",
    "- `genre`: 2 rows (0.01% of the data) are missing information about the game genre. This is also an insignificant share, these gaps can be ignored and removed. It is possible that the gaps in this field are related to the gaps in `Name`, given the overall number of missing rows.\n",
    "- `year_of_release`: 275 rows (1.62% of the data) are missing information about the year of release of the game. This is an insignificant share of the data, such rows can be removed, which is what we did to correctly convert the data type to integer.\n",
    "- `eu_sales`: 6 rows (0.04% of the data) are missing information about the number of copies sold in the EU region. These gaps are random, but we can fill them with an average value depending on the platform name and the year of the game's release.\n",
    "- - `eu_sales`: 4 rows (0.02% of the data) are missing data on the number of copies sold in the JP region. We can also fill these gaps with an average value depending on the platform name and the year of the game's release.\n",
    "- `critic_score`: 8596 rows (51.53% of the data) are missing critic scores.\n",
    "- `user_score`: 9123 rows (54.69% of the data) are missing user scores.\n",
    "- `rating`: 6780 rows (40.65% of the data) are missing ratings.\n",
    "\n",
    "The last three fields with gaps are most often related and occur in the same row. This may be due to the fact that for the same game this data is only available for one platform (for example, the first platform of the game's release), while ratings and scores were not collected for the other platforms. There is also a possibility that for very old games or for games from other regions that are not translated into English, there are not enough critic and user ratings for natural reasons.\n",
    "\n",
    "There are a lot of gaps, so we will ignore them. In the `critic_score` column, we will fill the gaps with a \"placeholder\" -1 to correctly convert the data to an integer type."
   ]
  },
  {
   "cell_type": "code",
   "execution_count": 33,
   "id": "ef53e20d-f552-46b1-ba10-3ae79d939e75",
   "metadata": {
    "panel-layout": {
     "height": 0,
     "visible": true,
     "width": 100
    }
   },
   "outputs": [],
   "source": [
    "# Remove rows with gaps in columns 'name', 'genre'\n",
    "df.dropna(subset=['name', 'genre'], inplace=True)"
   ]
  },
  {
   "cell_type": "code",
   "execution_count": 34,
   "id": "11005502-3ff7-4a5e-9e9b-acc704d3f22e",
   "metadata": {},
   "outputs": [],
   "source": [
    "# Count the number of deleted lines with gaps\n",
    "rows_deleted = df_initial_rows - len(df)"
   ]
  },
  {
   "cell_type": "code",
   "execution_count": 35,
   "id": "9f21eb2f-fe55-4424-8d6a-f8304eb1ac6d",
   "metadata": {},
   "outputs": [],
   "source": [
    "# Fill in the gaps in the columns 'eu_sales' and 'jp_sales'. Group the data by platform and year, take the column\n",
    "# and use the .transform() method to apply an anonymous function (filling the gaps with the average value for the given platform and year)\n",
    "df.loc[:, 'eu_sales'] = df.groupby(['platform', 'year_of_release'], observed=True)['eu_sales'].transform(lambda x: x.fillna(x.mean()))\n",
    "df.loc[:, 'jp_sales'] = df.groupby(['platform', 'year_of_release'], observed=True)['jp_sales'].transform(lambda x: x.fillna(x.mean()))"
   ]
  },
  {
   "cell_type": "markdown",
   "id": "1b01e569-b198-4284-a6df-d7b304c80e91",
   "metadata": {
    "panel-layout": {
     "height": 49.0703,
     "visible": true,
     "width": 100
    }
   },
   "source": [
    "<a class=\"anchor\" id=\"2.4-bullet\"></a>\n",
    "### Explicit and implicit duplicates in data"
   ]
  },
  {
   "cell_type": "markdown",
   "id": "92be5145-28ba-4b34-b022-f5c0baafd3ba",
   "metadata": {
    "panel-layout": {
     "height": 68.2812,
     "visible": true,
     "width": 100
    }
   },
   "source": [
    "We will study unique values in categorical data with the names of the game genre, platform, rating, and year of release. Let's check if there are any hidden duplicates in the data due to typos or different spellings."
   ]
  },
  {
   "cell_type": "code",
   "execution_count": 38,
   "id": "abb4b3ff-6855-4638-b5e0-53ce9ab53f2a",
   "metadata": {},
   "outputs": [
    {
     "name": "stdout",
     "output_type": "stream",
     "text": [
      "Unique values in column platform:\n",
      "['2600', '3DO', '3DS', 'DC', 'DS', ..., 'Wii', 'WiiU', 'X360', 'XB', 'XOne']\n",
      "Length: 31\n",
      "Categories (31, object): ['2600', '3DO', '3DS', 'DC', ..., 'WiiU', 'X360', 'XB', 'XOne']\n",
      "\n",
      "Unique values in column year_of_release:\n",
      "[1980 1981 1982 1983 1984 1985 1986 1987 1988 1989 1990 1991 1992 1993\n",
      " 1994 1995 1996 1997 1998 1999 2000 2001 2002 2003 2004 2005 2006 2007\n",
      " 2008 2009 2010 2011 2012 2013 2014 2015 2016]\n",
      "\n",
      "Unique values in column genre:\n",
      "['ACTION' 'ADVENTURE' 'Action' 'Adventure' 'FIGHTING' 'Fighting' 'MISC'\n",
      " 'Misc' 'PLATFORM' 'PUZZLE' 'Platform' 'Puzzle' 'RACING' 'ROLE-PLAYING'\n",
      " 'Racing' 'Role-Playing' 'SHOOTER' 'SIMULATION' 'SPORTS' 'STRATEGY'\n",
      " 'Shooter' 'Simulation' 'Sports' 'Strategy']\n",
      "\n",
      "Unique values in column rating:\n",
      "['AO', 'E', 'E10+', 'EC', 'K-A', 'M', 'RP', 'T', NaN]\n",
      "Categories (8, object): ['AO', 'E', 'E10+', 'EC', 'K-A', 'M', 'RP', 'T']\n",
      "\n"
     ]
    }
   ],
   "source": [
    "# Output unique values in columns 'platform','year_of_release','genre','rating'\n",
    "for column in ['platform','year_of_release','genre','rating']:\n",
    "    print(f'Unique values in column {column}:')\n",
    "    print(df[column].sort_values().unique())\n",
    "    print()"
   ]
  },
  {
   "cell_type": "markdown",
   "id": "04fe5168-5673-4a65-8e32-392fe0c8a885",
   "metadata": {
    "panel-layout": {
     "height": 68.7812,
     "visible": true,
     "width": 100
    }
   },
   "source": [
    "There are implicit duplicates in the `genre` column in the data. Each value is duplicated in uppercase. It is possible that the data was presented differently in different sources and was not converted to the same form when loaded into the dataframe. Let's convert them to a single form in lowercase and remove the duplicates."
   ]
  },
  {
   "cell_type": "code",
   "execution_count": 40,
   "id": "80eafd26-c471-4942-a5b3-fcdf6c0ce13d",
   "metadata": {
    "panel-layout": {
     "height": 51.1406,
     "visible": true,
     "width": 100
    },
    "scrolled": true
   },
   "outputs": [
    {
     "data": {
      "text/plain": [
       "'Number of rows before removing duplicates: 16679'"
      ]
     },
     "execution_count": 40,
     "metadata": {},
     "output_type": "execute_result"
    }
   ],
   "source": [
    "# Number of rows in the dataframe before removing duplicates\n",
    "initial_row_count = len(df)\n",
    "f'Number of rows before removing duplicates: {initial_row_count}'"
   ]
  },
  {
   "cell_type": "code",
   "execution_count": 41,
   "id": "8ab88cf3-ee68-42ba-ae08-c613b134163a",
   "metadata": {},
   "outputs": [],
   "source": [
    "# Convert the values in the 'genre' column to lowercase\n",
    "df.loc[:, 'genre'] = df['genre'].str.lower()"
   ]
  },
  {
   "cell_type": "code",
   "execution_count": 42,
   "id": "09deaaf6-04e6-4072-a122-e104a68ca4c3",
   "metadata": {},
   "outputs": [],
   "source": [
    "# Find the number and proportion of duplicates\n",
    "count_duplicates = df.duplicated().sum()\n",
    "duplicates_share = round(count_duplicates / initial_row_count * 100, 2)"
   ]
  },
  {
   "cell_type": "code",
   "execution_count": 43,
   "id": "5362463a-0d35-4f0f-b5cc-652b3976559e",
   "metadata": {
    "panel-layout": {
     "height": 51.1406,
     "visible": true,
     "width": 100
    }
   },
   "outputs": [
    {
     "data": {
      "text/plain": [
       "'There were 235 duplicate rows found, which is 1.41% of the total number of rows.'"
      ]
     },
     "execution_count": 43,
     "metadata": {},
     "output_type": "execute_result"
    }
   ],
   "source": [
    "f'There were {count_duplicates} duplicate rows found, which is {duplicates_share}% of the total number of rows.'"
   ]
  },
  {
   "cell_type": "code",
   "execution_count": 44,
   "id": "1877a08d-ee3d-42fc-8ed2-f492e6e429d5",
   "metadata": {
    "panel-layout": {
     "height": 0,
     "visible": true,
     "width": 100
    }
   },
   "outputs": [],
   "source": [
    "#Removing obvious duplicates\n",
    "df.drop_duplicates(inplace=True)"
   ]
  },
  {
   "cell_type": "code",
   "execution_count": 45,
   "id": "61eb439b-2a7f-4660-837b-b5f15e2decbb",
   "metadata": {
    "panel-layout": {
     "height": 51.1406,
     "visible": true,
     "width": 100
    }
   },
   "outputs": [
    {
     "data": {
      "text/plain": [
       "'Number of rows after removing duplicates: 16444'"
      ]
     },
     "execution_count": 45,
     "metadata": {},
     "output_type": "execute_result"
    }
   ],
   "source": [
    "# Number of rows in the dataframe after removing duplicates\n",
    "final_row_count = len(df)\n",
    "f'Number of rows after removing duplicates: {final_row_count}'"
   ]
  },
  {
   "cell_type": "code",
   "execution_count": 46,
   "id": "e2a446ff-10e1-4318-ac4b-8fcf0bd989bd",
   "metadata": {},
   "outputs": [],
   "source": [
    "# Convert the values in column 'name' to lowercase (to check for implicit duplicates)\n",
    "df.loc[:, 'name'] = df['name'].str.lower()"
   ]
  },
  {
   "cell_type": "code",
   "execution_count": 47,
   "id": "704913e3-4b3b-42d3-bcc7-d5e3a29e9669",
   "metadata": {
    "panel-layout": {
     "height": 27.1406,
     "visible": true,
     "width": 100
    }
   },
   "outputs": [
    {
     "data": {
      "text/plain": [
       "0"
      ]
     },
     "execution_count": 47,
     "metadata": {},
     "output_type": "execute_result"
    }
   ],
   "source": [
    "# Check if there are any duplicates left\n",
    "df.duplicated().sum()"
   ]
  },
  {
   "cell_type": "code",
   "execution_count": 48,
   "id": "829304db-a776-445f-a51d-bbb3e0baa71a",
   "metadata": {
    "panel-layout": {
     "height": 51.1406,
     "visible": true,
     "width": 100
    }
   },
   "outputs": [
    {
     "data": {
      "text/plain": [
       "'Number of rows in DataFrame decreased by 3.02%'"
      ]
     },
     "execution_count": 48,
     "metadata": {},
     "output_type": "execute_result"
    }
   ],
   "source": [
    "f'Total rows removed (gaps and duplicates): {count_duplicates + rows_deleted}'\n",
    "f'Number of rows in DataFrame decreased by {round((count_duplicates + rows_deleted)*100/df_initial_rows, 2)}%'"
   ]
  },
  {
   "cell_type": "markdown",
   "id": "b7423a3c-88c1-47c8-89ec-b656ec572ed8",
   "metadata": {
    "panel-layout": {
     "height": 137.344,
     "visible": true,
     "width": 100
    }
   },
   "source": [
    "<font color='black' style='font-size:24px; font-weight:bold'>Conclusion:</font>\n",
    "<br>The gaps that were decided to be removed were found in the `genre`, `name` and `year_of_release` columns: a total of 277 rows with gaps. The only duplicates in the dataframe were in the `genre` column (the same words, but in uppercase). After eliminating duplicates, 16444 rows remained out of 16679. 235 duplicates were removed (1.41% of the rows). In total, the number of rows in the dataframe was reduced by 512 rows, or 3.02% of the original number."
   ]
  },
  {
   "cell_type": "markdown",
   "id": "99048ff6-f194-4df5-9fc3-fee30c0d02f4",
   "metadata": {
    "panel-layout": {
     "height": 55.2656,
     "visible": true,
     "width": 100
    }
   },
   "source": [
    "<a class=\"anchor\" id=\"3-bullet\"></a>\n",
    "## Filtering data"
   ]
  },
  {
   "cell_type": "code",
   "execution_count": 103,
   "id": "0debaaee-499a-4bbf-8c9f-26f4c441fa4f",
   "metadata": {},
   "outputs": [],
   "source": [
    "# Filter the data for 2000-2013 and put it into a new dataframe\n",
    "df_actual = df[ df['year_of_release'].between(2000,2013) ]"
   ]
  },
  {
   "cell_type": "code",
   "execution_count": 105,
   "id": "0cf1e440-fac6-467f-b5d4-5c35e7523708",
   "metadata": {
    "panel-layout": {
     "height": 0,
     "visible": true,
     "width": 100
    },
    "scrolled": true
   },
   "outputs": [
    {
     "name": "stdout",
     "output_type": "stream",
     "text": [
      "<class 'pandas.core.frame.DataFrame'>\n",
      "Index: 12781 entries, 0 to 16954\n",
      "Data columns (total 11 columns):\n",
      " #   Column           Non-Null Count  Dtype   \n",
      "---  ------           --------------  -----   \n",
      " 0   name             12781 non-null  object  \n",
      " 1   platform         12781 non-null  category\n",
      " 2   year_of_release  12781 non-null  int16   \n",
      " 3   genre            12781 non-null  object  \n",
      " 4   na_sales         12781 non-null  float64 \n",
      " 5   eu_sales         12781 non-null  float32 \n",
      " 6   jp_sales         12781 non-null  float32 \n",
      " 7   other_sales      12781 non-null  float64 \n",
      " 8   critic_score     12781 non-null  int8    \n",
      " 9   user_score       6483 non-null   float32 \n",
      " 10  rating           8723 non-null   category\n",
      "dtypes: category(2), float32(3), float64(2), int16(1), int8(1), object(2)\n",
      "memory usage: 713.1+ KB\n"
     ]
    }
   ],
   "source": [
    "# Output information about the new dataframe\n",
    "df_actual.info()"
   ]
  },
  {
   "cell_type": "code",
   "execution_count": 53,
   "id": "ca69281e-3a56-4d3a-a227-38c7f4dcebc2",
   "metadata": {
    "panel-layout": {
     "height": 170,
     "visible": true,
     "width": 100
    },
    "scrolled": true
   },
   "outputs": [
    {
     "data": {
      "text/html": [
       "<div>\n",
       "<style scoped>\n",
       "    .dataframe tbody tr th:only-of-type {\n",
       "        vertical-align: middle;\n",
       "    }\n",
       "\n",
       "    .dataframe tbody tr th {\n",
       "        vertical-align: top;\n",
       "    }\n",
       "\n",
       "    .dataframe thead th {\n",
       "        text-align: right;\n",
       "    }\n",
       "</style>\n",
       "<table border=\"1\" class=\"dataframe\">\n",
       "  <thead>\n",
       "    <tr style=\"text-align: right;\">\n",
       "      <th></th>\n",
       "      <th>name</th>\n",
       "      <th>platform</th>\n",
       "      <th>year_of_release</th>\n",
       "      <th>genre</th>\n",
       "      <th>na_sales</th>\n",
       "      <th>eu_sales</th>\n",
       "      <th>jp_sales</th>\n",
       "      <th>other_sales</th>\n",
       "      <th>critic_score</th>\n",
       "      <th>user_score</th>\n",
       "      <th>rating</th>\n",
       "    </tr>\n",
       "  </thead>\n",
       "  <tbody>\n",
       "    <tr>\n",
       "      <th>0</th>\n",
       "      <td>wii sports</td>\n",
       "      <td>Wii</td>\n",
       "      <td>2006</td>\n",
       "      <td>sports</td>\n",
       "      <td>41.36</td>\n",
       "      <td>28.959999</td>\n",
       "      <td>3.77</td>\n",
       "      <td>8.45</td>\n",
       "      <td>76</td>\n",
       "      <td>8.0</td>\n",
       "      <td>E</td>\n",
       "    </tr>\n",
       "    <tr>\n",
       "      <th>2</th>\n",
       "      <td>mario kart wii</td>\n",
       "      <td>Wii</td>\n",
       "      <td>2008</td>\n",
       "      <td>racing</td>\n",
       "      <td>15.68</td>\n",
       "      <td>12.760000</td>\n",
       "      <td>3.79</td>\n",
       "      <td>3.29</td>\n",
       "      <td>82</td>\n",
       "      <td>8.3</td>\n",
       "      <td>E</td>\n",
       "    </tr>\n",
       "    <tr>\n",
       "      <th>3</th>\n",
       "      <td>wii sports resort</td>\n",
       "      <td>Wii</td>\n",
       "      <td>2009</td>\n",
       "      <td>sports</td>\n",
       "      <td>15.61</td>\n",
       "      <td>10.930000</td>\n",
       "      <td>3.28</td>\n",
       "      <td>2.95</td>\n",
       "      <td>80</td>\n",
       "      <td>8.0</td>\n",
       "      <td>E</td>\n",
       "    </tr>\n",
       "    <tr>\n",
       "      <th>6</th>\n",
       "      <td>new super mario bros.</td>\n",
       "      <td>DS</td>\n",
       "      <td>2006</td>\n",
       "      <td>platform</td>\n",
       "      <td>11.28</td>\n",
       "      <td>9.140000</td>\n",
       "      <td>6.50</td>\n",
       "      <td>2.88</td>\n",
       "      <td>89</td>\n",
       "      <td>8.5</td>\n",
       "      <td>E</td>\n",
       "    </tr>\n",
       "    <tr>\n",
       "      <th>7</th>\n",
       "      <td>wii play</td>\n",
       "      <td>Wii</td>\n",
       "      <td>2006</td>\n",
       "      <td>misc</td>\n",
       "      <td>13.96</td>\n",
       "      <td>9.180000</td>\n",
       "      <td>2.93</td>\n",
       "      <td>2.84</td>\n",
       "      <td>58</td>\n",
       "      <td>6.6</td>\n",
       "      <td>E</td>\n",
       "    </tr>\n",
       "  </tbody>\n",
       "</table>\n",
       "</div>"
      ],
      "text/plain": [
       "                    name platform  year_of_release     genre  na_sales  \\\n",
       "0             wii sports      Wii             2006    sports     41.36   \n",
       "2         mario kart wii      Wii             2008    racing     15.68   \n",
       "3      wii sports resort      Wii             2009    sports     15.61   \n",
       "6  new super mario bros.       DS             2006  platform     11.28   \n",
       "7               wii play      Wii             2006      misc     13.96   \n",
       "\n",
       "    eu_sales  jp_sales  other_sales  critic_score  user_score rating  \n",
       "0  28.959999      3.77         8.45            76         8.0      E  \n",
       "2  12.760000      3.79         3.29            82         8.3      E  \n",
       "3  10.930000      3.28         2.95            80         8.0      E  \n",
       "6   9.140000      6.50         2.88            89         8.5      E  \n",
       "7   9.180000      2.93         2.84            58         6.6      E  "
      ]
     },
     "execution_count": 53,
     "metadata": {},
     "output_type": "execute_result"
    }
   ],
   "source": [
    "# Look at the first lines of the filtered dataframe\n",
    "df_actual.head()"
   ]
  },
  {
   "cell_type": "markdown",
   "id": "1e05279e-d976-491f-869e-61b99a0b11ab",
   "metadata": {
    "panel-layout": {
     "height": 55.2656,
     "visible": true,
     "width": 100
    }
   },
   "source": [
    "<a class=\"anchor\" id=\"4-bullet\"></a>\n",
    "## Categorizing data\n"
   ]
  },
  {
   "cell_type": "code",
   "execution_count": 113,
   "id": "4649f6a5-c86f-4a13-b7a5-eed7bdc0920a",
   "metadata": {},
   "outputs": [],
   "source": [
    "# Divide all games into categories based on user ratings\n",
    "df_actual.loc[:, 'user_score_group'] = pd.cut(df_actual['user_score'], bins=[0, 3, 8, 10.001], right=False, labels=[\"Low Rating\", \"Average Rating\", \"High Rating\"])"
   ]
  },
  {
   "cell_type": "code",
   "execution_count": 115,
   "id": "d0dbd85b-3127-4e29-befc-60c31e721c8f",
   "metadata": {
    "scrolled": true
   },
   "outputs": [],
   "source": [
    "# Divide all games by critics' scores into categories\n",
    "df_actual.loc[:, 'critic_score_group'] = pd.cut(df_actual['critic_score'], bins=[0, 30, 80, 100.001], right=False, labels=[\"Low score\", \"Average score\", \"High score\"])"
   ]
  },
  {
   "cell_type": "code",
   "execution_count": 57,
   "id": "d3eb7fd2-4b26-4ab5-b89e-b5f967564b34",
   "metadata": {
    "panel-layout": {
     "height": 172.5,
     "visible": true,
     "width": 100
    }
   },
   "outputs": [
    {
     "data": {
      "text/html": [
       "<div>\n",
       "<style scoped>\n",
       "    .dataframe tbody tr th:only-of-type {\n",
       "        vertical-align: middle;\n",
       "    }\n",
       "\n",
       "    .dataframe tbody tr th {\n",
       "        vertical-align: top;\n",
       "    }\n",
       "\n",
       "    .dataframe thead th {\n",
       "        text-align: right;\n",
       "    }\n",
       "</style>\n",
       "<table border=\"1\" class=\"dataframe\">\n",
       "  <thead>\n",
       "    <tr style=\"text-align: right;\">\n",
       "      <th></th>\n",
       "      <th>name</th>\n",
       "      <th>platform</th>\n",
       "      <th>year_of_release</th>\n",
       "      <th>genre</th>\n",
       "      <th>na_sales</th>\n",
       "      <th>eu_sales</th>\n",
       "      <th>jp_sales</th>\n",
       "      <th>other_sales</th>\n",
       "      <th>critic_score</th>\n",
       "      <th>user_score</th>\n",
       "      <th>rating</th>\n",
       "      <th>user_score_group</th>\n",
       "      <th>critic_score_group</th>\n",
       "    </tr>\n",
       "  </thead>\n",
       "  <tbody>\n",
       "    <tr>\n",
       "      <th>0</th>\n",
       "      <td>wii sports</td>\n",
       "      <td>Wii</td>\n",
       "      <td>2006</td>\n",
       "      <td>sports</td>\n",
       "      <td>41.36</td>\n",
       "      <td>28.959999</td>\n",
       "      <td>3.77</td>\n",
       "      <td>8.45</td>\n",
       "      <td>76</td>\n",
       "      <td>8.0</td>\n",
       "      <td>E</td>\n",
       "      <td>High Rating</td>\n",
       "      <td>Average score</td>\n",
       "    </tr>\n",
       "    <tr>\n",
       "      <th>2</th>\n",
       "      <td>mario kart wii</td>\n",
       "      <td>Wii</td>\n",
       "      <td>2008</td>\n",
       "      <td>racing</td>\n",
       "      <td>15.68</td>\n",
       "      <td>12.760000</td>\n",
       "      <td>3.79</td>\n",
       "      <td>3.29</td>\n",
       "      <td>82</td>\n",
       "      <td>8.3</td>\n",
       "      <td>E</td>\n",
       "      <td>High Rating</td>\n",
       "      <td>High score</td>\n",
       "    </tr>\n",
       "    <tr>\n",
       "      <th>3</th>\n",
       "      <td>wii sports resort</td>\n",
       "      <td>Wii</td>\n",
       "      <td>2009</td>\n",
       "      <td>sports</td>\n",
       "      <td>15.61</td>\n",
       "      <td>10.930000</td>\n",
       "      <td>3.28</td>\n",
       "      <td>2.95</td>\n",
       "      <td>80</td>\n",
       "      <td>8.0</td>\n",
       "      <td>E</td>\n",
       "      <td>High Rating</td>\n",
       "      <td>High score</td>\n",
       "    </tr>\n",
       "    <tr>\n",
       "      <th>6</th>\n",
       "      <td>new super mario bros.</td>\n",
       "      <td>DS</td>\n",
       "      <td>2006</td>\n",
       "      <td>platform</td>\n",
       "      <td>11.28</td>\n",
       "      <td>9.140000</td>\n",
       "      <td>6.50</td>\n",
       "      <td>2.88</td>\n",
       "      <td>89</td>\n",
       "      <td>8.5</td>\n",
       "      <td>E</td>\n",
       "      <td>High Rating</td>\n",
       "      <td>High score</td>\n",
       "    </tr>\n",
       "    <tr>\n",
       "      <th>7</th>\n",
       "      <td>wii play</td>\n",
       "      <td>Wii</td>\n",
       "      <td>2006</td>\n",
       "      <td>misc</td>\n",
       "      <td>13.96</td>\n",
       "      <td>9.180000</td>\n",
       "      <td>2.93</td>\n",
       "      <td>2.84</td>\n",
       "      <td>58</td>\n",
       "      <td>6.6</td>\n",
       "      <td>E</td>\n",
       "      <td>Average Rating</td>\n",
       "      <td>Average score</td>\n",
       "    </tr>\n",
       "  </tbody>\n",
       "</table>\n",
       "</div>"
      ],
      "text/plain": [
       "                    name platform  year_of_release     genre  na_sales  \\\n",
       "0             wii sports      Wii             2006    sports     41.36   \n",
       "2         mario kart wii      Wii             2008    racing     15.68   \n",
       "3      wii sports resort      Wii             2009    sports     15.61   \n",
       "6  new super mario bros.       DS             2006  platform     11.28   \n",
       "7               wii play      Wii             2006      misc     13.96   \n",
       "\n",
       "    eu_sales  jp_sales  other_sales  critic_score  user_score rating  \\\n",
       "0  28.959999      3.77         8.45            76         8.0      E   \n",
       "2  12.760000      3.79         3.29            82         8.3      E   \n",
       "3  10.930000      3.28         2.95            80         8.0      E   \n",
       "6   9.140000      6.50         2.88            89         8.5      E   \n",
       "7   9.180000      2.93         2.84            58         6.6      E   \n",
       "\n",
       "  user_score_group critic_score_group  \n",
       "0      High Rating      Average score  \n",
       "2      High Rating         High score  \n",
       "3      High Rating         High score  \n",
       "6      High Rating         High score  \n",
       "7   Average Rating      Average score  "
      ]
     },
     "execution_count": 57,
     "metadata": {},
     "output_type": "execute_result"
    }
   ],
   "source": [
    "# Look at the first rows of the dataframe with the added categories\n",
    "df_actual.head()"
   ]
  },
  {
   "cell_type": "code",
   "execution_count": 58,
   "id": "b26be033-086b-4993-a1aa-3395dfe67461",
   "metadata": {},
   "outputs": [],
   "source": [
    "# Group the data by platforms and calculate the size of each group\n",
    "count_platform = df_actual.groupby('platform', observed=True).size().reset_index(name='count')"
   ]
  },
  {
   "cell_type": "code",
   "execution_count": 59,
   "id": "ac402f66-3467-4134-a905-576bd1c53a88",
   "metadata": {},
   "outputs": [],
   "source": [
    "# We sort platforms by the number of games in descending order\n",
    "platform_counts_sorted = count_platform.sort_values(by='count', ascending=False)"
   ]
  },
  {
   "cell_type": "code",
   "execution_count": 60,
   "id": "2633fb5b-2e9c-495a-a98d-091be3e95c20",
   "metadata": {
    "panel-layout": {
     "height": 223,
     "visible": true,
     "width": 100
    }
   },
   "outputs": [
    {
     "data": {
      "text/html": [
       "<div>\n",
       "<style scoped>\n",
       "    .dataframe tbody tr th:only-of-type {\n",
       "        vertical-align: middle;\n",
       "    }\n",
       "\n",
       "    .dataframe tbody tr th {\n",
       "        vertical-align: top;\n",
       "    }\n",
       "\n",
       "    .dataframe thead th {\n",
       "        text-align: right;\n",
       "    }\n",
       "</style>\n",
       "<table border=\"1\" class=\"dataframe\">\n",
       "  <thead>\n",
       "    <tr style=\"text-align: right;\">\n",
       "      <th></th>\n",
       "      <th>platform</th>\n",
       "      <th>count</th>\n",
       "    </tr>\n",
       "  </thead>\n",
       "  <tbody>\n",
       "    <tr>\n",
       "      <th>9</th>\n",
       "      <td>PS2</td>\n",
       "      <td>2127</td>\n",
       "    </tr>\n",
       "    <tr>\n",
       "      <th>2</th>\n",
       "      <td>DS</td>\n",
       "      <td>2120</td>\n",
       "    </tr>\n",
       "    <tr>\n",
       "      <th>15</th>\n",
       "      <td>Wii</td>\n",
       "      <td>1275</td>\n",
       "    </tr>\n",
       "    <tr>\n",
       "      <th>12</th>\n",
       "      <td>PSP</td>\n",
       "      <td>1180</td>\n",
       "    </tr>\n",
       "    <tr>\n",
       "      <th>17</th>\n",
       "      <td>X360</td>\n",
       "      <td>1121</td>\n",
       "    </tr>\n",
       "    <tr>\n",
       "      <th>10</th>\n",
       "      <td>PS3</td>\n",
       "      <td>1087</td>\n",
       "    </tr>\n",
       "    <tr>\n",
       "      <th>4</th>\n",
       "      <td>GBA</td>\n",
       "      <td>811</td>\n",
       "    </tr>\n",
       "  </tbody>\n",
       "</table>\n",
       "</div>"
      ],
      "text/plain": [
       "   platform  count\n",
       "9       PS2   2127\n",
       "2        DS   2120\n",
       "15      Wii   1275\n",
       "12      PSP   1180\n",
       "17     X360   1121\n",
       "10      PS3   1087\n",
       "4       GBA    811"
      ]
     },
     "execution_count": 60,
     "metadata": {},
     "output_type": "execute_result"
    }
   ],
   "source": [
    "# We list the top-7 platforms for the period from 2000 to 2013\n",
    "platform_counts_sorted.head(7)"
   ]
  },
  {
   "cell_type": "markdown",
   "id": "ce51fb13-8398-4c4c-a7d1-6bf63354e088",
   "metadata": {
    "panel-layout": {
     "height": 175.555,
     "visible": true,
     "width": 100
    }
   },
   "source": [
    "<a class=\"anchor\" id=\"5-bullet\"></a>\n",
    "## General conclusion:\n",
    "As a result of data preprocessing, the data frame was cleared of gaps and duplicates, and data types were converted. In total, the number of rows in the data frame was reduced by 512 rows, or 3.02% of the original number.\n",
    "We were interested in data for 2000-2013, so we sliced the data using a Boolean mask with `.between()` method and saved it to a new dataset, which we continued working with.\n",
    "Next, we added new columns `user_score_group` and `critic_score_group`, and assigned each game to the `High rating`, `Average rating` and `Low rating` groups - depending on user and critic ratings.\n",
    "Using grouping and sorting, we found the top-7 platforms by the number of games. The largest platforms from 2000-2013 are `PS2` and `DS`."
   ]
  }
 ],
 "metadata": {
  "ExecuteTimeLog": [
   {
    "duration": 94,
    "start_time": "2025-06-11T10:51:24.853Z"
   }
  ],
  "kernelspec": {
   "display_name": "Python [conda env:base] *",
   "language": "python",
   "name": "conda-base-py"
  },
  "language_info": {
   "codemirror_mode": {
    "name": "ipython",
    "version": 3
   },
   "file_extension": ".py",
   "mimetype": "text/x-python",
   "name": "python",
   "nbconvert_exporter": "python",
   "pygments_lexer": "ipython3",
   "version": "3.12.7"
  },
  "panel-cell-order": [
   "45fca10c",
   "874b8f56-c8f6-4335-ac4f-1c5907ac3810",
   "cae7ce83-97e1-4153-8f25-9cdfedfa87fc",
   "4765cee1",
   "ba7240f8-cc27-47f5-9b3e-4b2cc90d8864",
   "8f5d2d5b-7fd9-4a52-9848-4156cab2632c",
   "943b3458-949d-4db1-b535-6ee495e0cabe",
   "b267cea4-4da9-4ba9-8eb7-abe857a0154d",
   "dd416ced-c002-452d-97eb-b5d5a5d56d1d",
   "634691d3",
   "0d7ea2a9-2ea1-4b91-ad8b-10524a5691ef",
   "ec497dda-eb60-45c2-a6b0-ef73cdb7fa20",
   "7bb99208-689e-4765-acf1-40e92aea5035",
   "702bfeb5-e97e-4cf2-8f42-9589a3687135",
   "a751e3a4",
   "a0438f34-f328-47e0-ac11-b5a823bbe692",
   "a274bcde-31c4-4c5e-a590-7ed4590d292e",
   "38266e49-98ab-45c0-9602-31ce790b90f1",
   "449df1cf-b7e4-4cee-b309-3d23bcd87d2e",
   "dd8baf2f",
   "60d3bea9-f7eb-4632-8e62-d45f1e9da547",
   "639fce0d-33da-4b62-80fa-2f338598ac56",
   "06234dc8-d78d-4ac6-8c04-48ffdba7853d",
   "96eec50d-a4a2-475d-946e-af163ede451c",
   "fd389e2f-3eef-4116-acbb-f424ffc06348",
   "8d6fdbed",
   "423a5bca-cc21-4322-a442-fa42832ba050",
   "c28aaf67-ae2e-4476-ac59-b50cf4749f27",
   "914fa21e-86c9-4bde-b01b-674d49856ad9",
   "afd46582-435f-4e60-9e3b-ff0b24d0bf5a",
   "62a30ff2",
   "ef53e20d-f552-46b1-ba10-3ae79d939e75",
   "1b01e569-b198-4284-a6df-d7b304c80e91",
   "92be5145-28ba-4b34-b022-f5c0baafd3ba",
   "85261314",
   "e58ff7b9-dd9a-41ca-85c1-80001e8a0ee0",
   "04fe5168-5673-4a65-8e32-392fe0c8a885",
   "80eafd26-c471-4942-a5b3-fcdf6c0ce13d",
   "92889a50",
   "5362463a-0d35-4f0f-b5cc-652b3976559e",
   "1877a08d-ee3d-42fc-8ed2-f492e6e429d5",
   "a693816b",
   "61eb439b-2a7f-4660-837b-b5f15e2decbb",
   "704913e3-4b3b-42d3-bcc7-d5e3a29e9669",
   "829304db-a776-445f-a51d-bbb3e0baa71a",
   "b7423a3c-88c1-47c8-89ec-b656ec572ed8",
   "e874828b",
   "99048ff6-f194-4df5-9fc3-fee30c0d02f4",
   "503785f8",
   "285a9713-f4d9-48ba-9bc6-28e5969c5372",
   "0cf1e440-fac6-467f-b5d4-5c35e7523708",
   "ca69281e-3a56-4d3a-a227-38c7f4dcebc2",
   "1e05279e-d976-491f-869e-61b99a0b11ab",
   "d469cccc",
   "e4369771-d3b9-45c6-928f-f4deb75cedce",
   "7c1f20b9",
   "4c935a54-bcfc-4e67-94b4-56a6fb74102d",
   "d3eb7fd2-4b26-4ab5-b89e-b5f967564b34",
   "2633fb5b-2e9c-495a-a98d-091be3e95c20",
   "ce51fb13-8398-4c4c-a7d1-6bf63354e088",
   "72a31dd4"
  ],
  "toc": {
   "base_numbering": 1,
   "nav_menu": {},
   "number_sections": true,
   "sideBar": true,
   "skip_h1_title": true,
   "title_cell": "Table of Contents",
   "title_sidebar": "Contents",
   "toc_cell": false,
   "toc_position": {},
   "toc_section_display": true,
   "toc_window_display": false
  }
 },
 "nbformat": 4,
 "nbformat_minor": 5
}
