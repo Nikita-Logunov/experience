{
 "cells": [
  {
   "cell_type": "markdown",
   "metadata": {
    "id": "u98L9TgH0eMk"
   },
   "source": [
    "# Разработка A/B-тестирования и анализ результатов\n",
    "\n",
    "Компания разрабатывает развлекательное приложение с функцией «бесконечной» ленты, наподобие TikTok. В приложении существует две модели монетизации: первая — ежемесячная платная подписка, которая позволяет пользователям смотреть ленту без рекламы, вторая — демонстрация рекламы для пользователей, которые ещё не оформили подписку.\n",
    "\n",
    "Команда разработчиков рекомендательных систем создала новый алгоритм рекомендаций, который, по их мнению, будет показывать более интересный контент для каждого пользователя. Необходимо рассчитать параметры A/B-теста, который позволит проверить эту гипотезу, и проанализировать его результаты."
   ]
  },
  {
   "cell_type": "markdown",
   "metadata": {
    "id": "LJBRALHs0eMf"
   },
   "source": [
    "## Описание данных\n",
    "\n",
    "Работаем с тремя таблицами:\n",
    "\n",
    "- `sessions_project_history.csv` — таблица с историческими данными по сессиям пользователей на период с 2025-08-11 по 2025-09-23. Путь к файлу: `/datasets/sessions_project_history.csv`.\n",
    "\n",
    "- `sessions_project_test_part.csv` — таблица с данными за первый день проведения A/B-теста, то есть за 2025-10-14. Путь к файлу: `/datasets/sessions_project_test_part.csv`.\n",
    "\n",
    "- `sessions_project_test.csv` — таблица с данными за весь период проведения A/B-теста, то есть с 2025-10-14 по 2025-11-02. Путь к файлу: `/datasets/sessions_project_test.csv`.\n",
    "\n",
    "У этих таблиц почти совпадает структура и содержание колонок, различаются лишь периоды наблюдения.\n",
    "\n",
    "Поля таблиц `sessions_project_history.csv`, `sessions_project_test.csv`, `sessions_project_test_part.csv`:\n",
    "\n",
    "- `user_id` — идентификатор пользователя;\n",
    "\n",
    "- `session_id` — идентификатор сессии в приложении;\n",
    "\n",
    "- `session_date` — дата сессии;\n",
    "\n",
    "- `session_start_ts` — дата и время начала сессии;\n",
    "\n",
    "- `install_date` — дата установки приложения;\n",
    "\n",
    "- `session_number` — порядковый номер сессии для конкретного пользователя;\n",
    "\n",
    "- `registration_flag` — является ли пользователь зарегистрированным;\n",
    "\n",
    "- `page_counter` — количество просмотренных страниц во время сессии;\n",
    "\n",
    "- `region` — регион пользователя;\n",
    "\n",
    "- `device` — тип устройства пользователя;\n",
    "\n",
    "- `test_group` — тестовая группа (в таблице с историческими данными этого столбца нет).\n",
    "\n",
    "\n",
    "## Задачи: \n",
    "Рассчитать параметры теста, оценить корректность его проведения и проанализировать результаты эксперимента."
   ]
  },
  {
   "cell_type": "markdown",
   "metadata": {
    "id": "UpOucjID0eMl"
   },
   "source": [
    "### 1. Работа с историческими данными (EDA)"
   ]
  },
  {
   "cell_type": "markdown",
   "metadata": {
    "id": "8iJMtL-30eMl"
   },
   "source": [
    "#### 1.1. Загрузка исторических данных\n",
    "На первом этапе поработаем с историческими данными приложения"
   ]
  },
  {
   "cell_type": "code",
   "execution_count": 1,
   "metadata": {
    "id": "6TPR2-1RPboT"
   },
   "outputs": [],
   "source": [
    "# Импортируем библиотеку pandas\n",
    "import pandas as pd"
   ]
  },
  {
   "cell_type": "code",
   "execution_count": 2,
   "metadata": {},
   "outputs": [],
   "source": [
    "# Импортируем модуль ttest_ind из библиотеки scipy.stats\n",
    "from scipy.stats import ttest_ind"
   ]
  },
  {
   "cell_type": "code",
   "execution_count": 3,
   "metadata": {},
   "outputs": [],
   "source": [
    "# Импортируем функцию proportions_ztest из пакета statsmodels.stats.proportion\n",
    "from statsmodels.stats.proportion import proportions_ztest"
   ]
  },
  {
   "cell_type": "code",
   "execution_count": 4,
   "metadata": {},
   "outputs": [],
   "source": [
    "# Считаем и сохраним в датафрейм sessions_history CSV-файл с историческими данными о сессиях пользователей\n",
    "sessions_history = pd.read_csv('https://code.s3.yandex.net/datasets/sessions_project_history.csv')"
   ]
  },
  {
   "cell_type": "code",
   "execution_count": 5,
   "metadata": {},
   "outputs": [
    {
     "data": {
      "text/html": [
       "<div>\n",
       "<style scoped>\n",
       "    .dataframe tbody tr th:only-of-type {\n",
       "        vertical-align: middle;\n",
       "    }\n",
       "\n",
       "    .dataframe tbody tr th {\n",
       "        vertical-align: top;\n",
       "    }\n",
       "\n",
       "    .dataframe thead th {\n",
       "        text-align: right;\n",
       "    }\n",
       "</style>\n",
       "<table border=\"1\" class=\"dataframe\">\n",
       "  <thead>\n",
       "    <tr style=\"text-align: right;\">\n",
       "      <th></th>\n",
       "      <th>user_id</th>\n",
       "      <th>session_id</th>\n",
       "      <th>session_date</th>\n",
       "      <th>session_start_ts</th>\n",
       "      <th>install_date</th>\n",
       "      <th>session_number</th>\n",
       "      <th>registration_flag</th>\n",
       "      <th>page_counter</th>\n",
       "      <th>region</th>\n",
       "      <th>device</th>\n",
       "    </tr>\n",
       "  </thead>\n",
       "  <tbody>\n",
       "    <tr>\n",
       "      <th>0</th>\n",
       "      <td>E302123B7000BFE4</td>\n",
       "      <td>F9AF61A0C2023832</td>\n",
       "      <td>2025-08-15</td>\n",
       "      <td>2025-08-15 17:47:35</td>\n",
       "      <td>2025-08-15</td>\n",
       "      <td>1</td>\n",
       "      <td>0</td>\n",
       "      <td>3</td>\n",
       "      <td>CIS</td>\n",
       "      <td>iPhone</td>\n",
       "    </tr>\n",
       "    <tr>\n",
       "      <th>1</th>\n",
       "      <td>2530F72E221829FB</td>\n",
       "      <td>85003A206CBDAC6F</td>\n",
       "      <td>2025-08-15</td>\n",
       "      <td>2025-08-15 16:42:14</td>\n",
       "      <td>2025-08-15</td>\n",
       "      <td>1</td>\n",
       "      <td>0</td>\n",
       "      <td>4</td>\n",
       "      <td>MENA</td>\n",
       "      <td>Android</td>\n",
       "    </tr>\n",
       "    <tr>\n",
       "      <th>2</th>\n",
       "      <td>876E020A4FC512F5</td>\n",
       "      <td>3677423E49D72DEE</td>\n",
       "      <td>2025-08-15</td>\n",
       "      <td>2025-08-15 12:30:00</td>\n",
       "      <td>2025-08-15</td>\n",
       "      <td>1</td>\n",
       "      <td>0</td>\n",
       "      <td>4</td>\n",
       "      <td>EU</td>\n",
       "      <td>PC</td>\n",
       "    </tr>\n",
       "    <tr>\n",
       "      <th>3</th>\n",
       "      <td>2640B349E1D81584</td>\n",
       "      <td>956B45F5915CA225</td>\n",
       "      <td>2025-08-15</td>\n",
       "      <td>2025-08-15 15:31:31</td>\n",
       "      <td>2025-08-15</td>\n",
       "      <td>1</td>\n",
       "      <td>0</td>\n",
       "      <td>4</td>\n",
       "      <td>CIS</td>\n",
       "      <td>Android</td>\n",
       "    </tr>\n",
       "    <tr>\n",
       "      <th>4</th>\n",
       "      <td>94E1CBFAEF1F5EE9</td>\n",
       "      <td>83BF0DA35F9F1F40</td>\n",
       "      <td>2025-08-15</td>\n",
       "      <td>2025-08-15 21:33:53</td>\n",
       "      <td>2025-08-15</td>\n",
       "      <td>1</td>\n",
       "      <td>0</td>\n",
       "      <td>3</td>\n",
       "      <td>CIS</td>\n",
       "      <td>Android</td>\n",
       "    </tr>\n",
       "  </tbody>\n",
       "</table>\n",
       "</div>"
      ],
      "text/plain": [
       "            user_id        session_id session_date     session_start_ts  \\\n",
       "0  E302123B7000BFE4  F9AF61A0C2023832   2025-08-15  2025-08-15 17:47:35   \n",
       "1  2530F72E221829FB  85003A206CBDAC6F   2025-08-15  2025-08-15 16:42:14   \n",
       "2  876E020A4FC512F5  3677423E49D72DEE   2025-08-15  2025-08-15 12:30:00   \n",
       "3  2640B349E1D81584  956B45F5915CA225   2025-08-15  2025-08-15 15:31:31   \n",
       "4  94E1CBFAEF1F5EE9  83BF0DA35F9F1F40   2025-08-15  2025-08-15 21:33:53   \n",
       "\n",
       "  install_date  session_number  registration_flag  page_counter region  \\\n",
       "0   2025-08-15               1                  0             3    CIS   \n",
       "1   2025-08-15               1                  0             4   MENA   \n",
       "2   2025-08-15               1                  0             4     EU   \n",
       "3   2025-08-15               1                  0             4    CIS   \n",
       "4   2025-08-15               1                  0             3    CIS   \n",
       "\n",
       "    device  \n",
       "0   iPhone  \n",
       "1  Android  \n",
       "2       PC  \n",
       "3  Android  \n",
       "4  Android  "
      ]
     },
     "execution_count": 5,
     "metadata": {},
     "output_type": "execute_result"
    }
   ],
   "source": [
    "# Выведем на экран первые пять строк полученного датафрейма\n",
    "sessions_history.head()"
   ]
  },
  {
   "cell_type": "markdown",
   "metadata": {
    "id": "qTDoiODz0eMo"
   },
   "source": [
    "#### 1.2. Знакомство с данными\n",
    "- Для каждого уникального пользователя `user_id` рассчитаем количество уникальных сессий `session_id`.\n",
    "\n",
    "- Выведем на экран все данные из таблицы `sessions_history` для одного пользователя с наибольшим количеством сессий.\n",
    "\n",
    "- Изучим таблицу для одного пользователя, чтобы лучше понять логику формирования каждого столбца данных.\n",
    "\n"
   ]
  },
  {
   "cell_type": "code",
   "execution_count": 6,
   "metadata": {
    "id": "PWZO9vTIPbPN"
   },
   "outputs": [
    {
     "data": {
      "text/plain": [
       "user_id\n",
       "00005FB6A13A6FBE    2\n",
       "0000B15A18D77ED9    3\n",
       "0000C4E3A4A571A9    2\n",
       "000293FAF9E67A81    4\n",
       "00029C5AE889A6C3    2\n",
       "                   ..\n",
       "FFFCDE7746148710    4\n",
       "FFFDD413285E753F    3\n",
       "FFFECBA0F2578AB0    2\n",
       "FFFEDB68228B5F21    5\n",
       "FFFF4228DF580C3B    3\n",
       "Name: session_id, Length: 134039, dtype: int64"
      ]
     },
     "execution_count": 6,
     "metadata": {},
     "output_type": "execute_result"
    }
   ],
   "source": [
    "# Для каждого уникального пользователя user_id рассчитаем количество уникальных сессий\n",
    "sessions_history.groupby('user_id').session_id.nunique()"
   ]
  },
  {
   "cell_type": "code",
   "execution_count": 7,
   "metadata": {},
   "outputs": [],
   "source": [
    "# Найдем id пользователя с наибольшим количеством сессий\n",
    "top_session_user_id = sessions_history.groupby('user_id').session_id.nunique().idxmax()"
   ]
  },
  {
   "cell_type": "code",
   "execution_count": 8,
   "metadata": {
    "scrolled": true
   },
   "outputs": [
    {
     "data": {
      "text/html": [
       "<div>\n",
       "<style scoped>\n",
       "    .dataframe tbody tr th:only-of-type {\n",
       "        vertical-align: middle;\n",
       "    }\n",
       "\n",
       "    .dataframe tbody tr th {\n",
       "        vertical-align: top;\n",
       "    }\n",
       "\n",
       "    .dataframe thead th {\n",
       "        text-align: right;\n",
       "    }\n",
       "</style>\n",
       "<table border=\"1\" class=\"dataframe\">\n",
       "  <thead>\n",
       "    <tr style=\"text-align: right;\">\n",
       "      <th></th>\n",
       "      <th>user_id</th>\n",
       "      <th>session_id</th>\n",
       "      <th>session_date</th>\n",
       "      <th>session_start_ts</th>\n",
       "      <th>install_date</th>\n",
       "      <th>session_number</th>\n",
       "      <th>registration_flag</th>\n",
       "      <th>page_counter</th>\n",
       "      <th>region</th>\n",
       "      <th>device</th>\n",
       "    </tr>\n",
       "  </thead>\n",
       "  <tbody>\n",
       "    <tr>\n",
       "      <th>115558</th>\n",
       "      <td>10E0DEFC1ABDBBE0</td>\n",
       "      <td>B8F0423BBFFCF5DC</td>\n",
       "      <td>2025-08-14</td>\n",
       "      <td>2025-08-14 13:57:39</td>\n",
       "      <td>2025-08-14</td>\n",
       "      <td>1</td>\n",
       "      <td>0</td>\n",
       "      <td>4</td>\n",
       "      <td>CIS</td>\n",
       "      <td>Android</td>\n",
       "    </tr>\n",
       "    <tr>\n",
       "      <th>191751</th>\n",
       "      <td>10E0DEFC1ABDBBE0</td>\n",
       "      <td>87CA2FA549473837</td>\n",
       "      <td>2025-08-15</td>\n",
       "      <td>2025-08-15 16:42:10</td>\n",
       "      <td>2025-08-14</td>\n",
       "      <td>2</td>\n",
       "      <td>0</td>\n",
       "      <td>3</td>\n",
       "      <td>CIS</td>\n",
       "      <td>Android</td>\n",
       "    </tr>\n",
       "    <tr>\n",
       "      <th>239370</th>\n",
       "      <td>10E0DEFC1ABDBBE0</td>\n",
       "      <td>4ADD8011DCDCE318</td>\n",
       "      <td>2025-08-16</td>\n",
       "      <td>2025-08-16 19:53:21</td>\n",
       "      <td>2025-08-14</td>\n",
       "      <td>3</td>\n",
       "      <td>0</td>\n",
       "      <td>3</td>\n",
       "      <td>CIS</td>\n",
       "      <td>Android</td>\n",
       "    </tr>\n",
       "    <tr>\n",
       "      <th>274629</th>\n",
       "      <td>10E0DEFC1ABDBBE0</td>\n",
       "      <td>DF0FD0E09BF1F3D7</td>\n",
       "      <td>2025-08-17</td>\n",
       "      <td>2025-08-17 15:03:43</td>\n",
       "      <td>2025-08-14</td>\n",
       "      <td>4</td>\n",
       "      <td>0</td>\n",
       "      <td>1</td>\n",
       "      <td>CIS</td>\n",
       "      <td>Android</td>\n",
       "    </tr>\n",
       "    <tr>\n",
       "      <th>302501</th>\n",
       "      <td>10E0DEFC1ABDBBE0</td>\n",
       "      <td>3C221774B4DE6885</td>\n",
       "      <td>2025-08-18</td>\n",
       "      <td>2025-08-18 17:29:14</td>\n",
       "      <td>2025-08-14</td>\n",
       "      <td>5</td>\n",
       "      <td>0</td>\n",
       "      <td>4</td>\n",
       "      <td>CIS</td>\n",
       "      <td>Android</td>\n",
       "    </tr>\n",
       "    <tr>\n",
       "      <th>325557</th>\n",
       "      <td>10E0DEFC1ABDBBE0</td>\n",
       "      <td>031BD7A67048105B</td>\n",
       "      <td>2025-08-19</td>\n",
       "      <td>2025-08-19 13:23:55</td>\n",
       "      <td>2025-08-14</td>\n",
       "      <td>6</td>\n",
       "      <td>0</td>\n",
       "      <td>2</td>\n",
       "      <td>CIS</td>\n",
       "      <td>Android</td>\n",
       "    </tr>\n",
       "    <tr>\n",
       "      <th>345336</th>\n",
       "      <td>10E0DEFC1ABDBBE0</td>\n",
       "      <td>FF4315CF4AD4B100</td>\n",
       "      <td>2025-08-20</td>\n",
       "      <td>2025-08-20 19:31:54</td>\n",
       "      <td>2025-08-14</td>\n",
       "      <td>7</td>\n",
       "      <td>0</td>\n",
       "      <td>2</td>\n",
       "      <td>CIS</td>\n",
       "      <td>Android</td>\n",
       "    </tr>\n",
       "    <tr>\n",
       "      <th>377532</th>\n",
       "      <td>10E0DEFC1ABDBBE0</td>\n",
       "      <td>4045FEA0747203B4</td>\n",
       "      <td>2025-08-22</td>\n",
       "      <td>2025-08-22 17:54:13</td>\n",
       "      <td>2025-08-14</td>\n",
       "      <td>8</td>\n",
       "      <td>0</td>\n",
       "      <td>2</td>\n",
       "      <td>CIS</td>\n",
       "      <td>Android</td>\n",
       "    </tr>\n",
       "    <tr>\n",
       "      <th>403538</th>\n",
       "      <td>10E0DEFC1ABDBBE0</td>\n",
       "      <td>344B086C421C7F37</td>\n",
       "      <td>2025-08-24</td>\n",
       "      <td>2025-08-24 14:46:13</td>\n",
       "      <td>2025-08-14</td>\n",
       "      <td>9</td>\n",
       "      <td>0</td>\n",
       "      <td>2</td>\n",
       "      <td>CIS</td>\n",
       "      <td>Android</td>\n",
       "    </tr>\n",
       "    <tr>\n",
       "      <th>414743</th>\n",
       "      <td>10E0DEFC1ABDBBE0</td>\n",
       "      <td>054F20BA371E4C9D</td>\n",
       "      <td>2025-08-25</td>\n",
       "      <td>2025-08-25 18:36:41</td>\n",
       "      <td>2025-08-14</td>\n",
       "      <td>10</td>\n",
       "      <td>0</td>\n",
       "      <td>3</td>\n",
       "      <td>CIS</td>\n",
       "      <td>Android</td>\n",
       "    </tr>\n",
       "  </tbody>\n",
       "</table>\n",
       "</div>"
      ],
      "text/plain": [
       "                 user_id        session_id session_date     session_start_ts  \\\n",
       "115558  10E0DEFC1ABDBBE0  B8F0423BBFFCF5DC   2025-08-14  2025-08-14 13:57:39   \n",
       "191751  10E0DEFC1ABDBBE0  87CA2FA549473837   2025-08-15  2025-08-15 16:42:10   \n",
       "239370  10E0DEFC1ABDBBE0  4ADD8011DCDCE318   2025-08-16  2025-08-16 19:53:21   \n",
       "274629  10E0DEFC1ABDBBE0  DF0FD0E09BF1F3D7   2025-08-17  2025-08-17 15:03:43   \n",
       "302501  10E0DEFC1ABDBBE0  3C221774B4DE6885   2025-08-18  2025-08-18 17:29:14   \n",
       "325557  10E0DEFC1ABDBBE0  031BD7A67048105B   2025-08-19  2025-08-19 13:23:55   \n",
       "345336  10E0DEFC1ABDBBE0  FF4315CF4AD4B100   2025-08-20  2025-08-20 19:31:54   \n",
       "377532  10E0DEFC1ABDBBE0  4045FEA0747203B4   2025-08-22  2025-08-22 17:54:13   \n",
       "403538  10E0DEFC1ABDBBE0  344B086C421C7F37   2025-08-24  2025-08-24 14:46:13   \n",
       "414743  10E0DEFC1ABDBBE0  054F20BA371E4C9D   2025-08-25  2025-08-25 18:36:41   \n",
       "\n",
       "       install_date  session_number  registration_flag  page_counter region  \\\n",
       "115558   2025-08-14               1                  0             4    CIS   \n",
       "191751   2025-08-14               2                  0             3    CIS   \n",
       "239370   2025-08-14               3                  0             3    CIS   \n",
       "274629   2025-08-14               4                  0             1    CIS   \n",
       "302501   2025-08-14               5                  0             4    CIS   \n",
       "325557   2025-08-14               6                  0             2    CIS   \n",
       "345336   2025-08-14               7                  0             2    CIS   \n",
       "377532   2025-08-14               8                  0             2    CIS   \n",
       "403538   2025-08-14               9                  0             2    CIS   \n",
       "414743   2025-08-14              10                  0             3    CIS   \n",
       "\n",
       "         device  \n",
       "115558  Android  \n",
       "191751  Android  \n",
       "239370  Android  \n",
       "274629  Android  \n",
       "302501  Android  \n",
       "325557  Android  \n",
       "345336  Android  \n",
       "377532  Android  \n",
       "403538  Android  \n",
       "414743  Android  "
      ]
     },
     "execution_count": 8,
     "metadata": {},
     "output_type": "execute_result"
    }
   ],
   "source": [
    "# Выведем на экран все данные из таблицы sessions_history для пользователя с наибольшим количеством сессий\n",
    "sessions_history[sessions_history.user_id == top_session_user_id]"
   ]
  },
  {
   "cell_type": "markdown",
   "metadata": {},
   "source": [
    "Видим, что сессии пронумерованы по порядку в завсимости от время начала сессии. Каждая сессия насчитывает определенное количество просмотренных страниц. Авторизация, регион и устройство и пользователя во всех сессиях остались прежними."
   ]
  },
  {
   "cell_type": "markdown",
   "metadata": {
    "id": "CmcGpJTP0eMq"
   },
   "source": [
    "#### 1.3. Анализ числа регистраций\n",
    "Одна из важнейших метрик продукта — число зарегистрированных пользователей. Используя исторические данные, визуализируем, как менялось число регистраций в приложении за время его существования.\n",
    "\n",
    "- Агрегируем исторические данные и рассчитаем число уникальных пользователей и число зарегистрированных пользователей для каждого дня наблюдения. Для простоты будем считать, что у пользователя в течение дня бывает одна сессия максимум и статус регистрации в течение одного дня не может измениться.\n",
    "\n",
    "- Построим линейные графики общего числа пользователей и общего числа зарегистрированных пользователей по дням.\n",
    "\n",
    "- Построим отдельный линейный график доли зарегистрированных пользователей от всех пользователей по дням."
   ]
  },
  {
   "cell_type": "code",
   "execution_count": 9,
   "metadata": {
    "id": "tN_6Ml3EPatS"
   },
   "outputs": [],
   "source": [
    "# Создадим сводную таблицу с числом уникальных и зарегистрированных пользователей для каждого дня наблюдения\n",
    "pivot_table1 = sessions_history.pivot_table(\n",
    "    values = ['user_id', 'registration_flag'],\n",
    "    index = 'session_date',\n",
    "    aggfunc = {\n",
    "        'user_id': 'nunique',\n",
    "        'registration_flag': 'sum'\n",
    "    }\n",
    ")"
   ]
  },
  {
   "cell_type": "code",
   "execution_count": 10,
   "metadata": {},
   "outputs": [],
   "source": [
    "# Импортируем модуль pyplot библиотеки matplotlib\n",
    "import matplotlib.pyplot as plt"
   ]
  },
  {
   "cell_type": "code",
   "execution_count": 11,
   "metadata": {},
   "outputs": [
    {
     "data": {
      "image/png": "[encoded data removed]",
      "text/plain": [
       "<Figure size 1080x576 with 1 Axes>"
      ]
     },
     "metadata": {
      "needs_background": "light"
     },
     "output_type": "display_data"
    }
   ],
   "source": [
    "# Построим линейные графики общего числа пользователей и \n",
    "# общего числа зарегистрированных пользователей по дням на одном графике\n",
    "plt.figure(figsize=(15, 8))\n",
    "plt.plot(pivot_table1.user_id, label ='Уникальные юзеры')\n",
    "plt.plot(pivot_table1.registration_flag,label ='Зарегистрированные юзеры')\n",
    "\n",
    "plt.xlabel('Дата')\n",
    "plt.ylabel('Количество юзеров')\n",
    "plt.legend()\n",
    "plt.title('Динамика уникальных и зарегистрированных юзеров по дням')\n",
    "plt.yscale(\"log\") # Сделаем логарифмическую шкалу для большей наглядности\n",
    "plt.xticks(rotation=45)\n",
    "plt.grid()\n",
    "plt.show()"
   ]
  },
  {
   "cell_type": "markdown",
   "metadata": {},
   "source": [
    "Динамика уникальных и зарегистрированных юзеров по дням с 11 августа по 23 сентября схожа."
   ]
  },
  {
   "cell_type": "code",
   "execution_count": 12,
   "metadata": {},
   "outputs": [],
   "source": [
    "# Создадим столбец с долей зарегистрированных пользователей от всех пользователей \n",
    "pivot_table1['reg_users_share'] = pivot_table1.registration_flag / pivot_table1.user_id"
   ]
  },
  {
   "cell_type": "code",
   "execution_count": 13,
   "metadata": {},
   "outputs": [
    {
     "data": {
      "image/png": "[encoded data removed]",
      "text/plain": [
       "<Figure size 1080x576 with 1 Axes>"
      ]
     },
     "metadata": {
      "needs_background": "light"
     },
     "output_type": "display_data"
    }
   ],
   "source": [
    "# Построим  линейный график доли зарегистрированных пользователей от всех пользователей по дням\n",
    "plt.figure(figsize=(15, 8))\n",
    "plt.plot(pivot_table1.reg_users_share, label ='Доля зарегистрированных юзеров')\n",
    "\n",
    "# Добавим на график скользящую среднюю по 7 дням\n",
    "pivot_table1['reg_users_share_rolling_7'] = pivot_table1['reg_users_share'].rolling(window=7).mean()\n",
    "plt.plot(pivot_table1.reg_users_share_rolling_7, label='Скользящая средняя (7 дней)', linestyle='--', color='orange')\n",
    "\n",
    "plt.xlabel('Дата')\n",
    "plt.ylabel('Доля зарегистрированных юзеров')\n",
    "plt.title('Динамика доли зарегистрированных юзеров по дням')\n",
    "plt.legend()\n",
    "plt.xticks(rotation=45)\n",
    "plt.grid()\n",
    "plt.show()"
   ]
  },
  {
   "cell_type": "markdown",
   "metadata": {},
   "source": [
    "Доля зарегистрированных пользователей от всех пользователей постепенно растет в рассматриваемом периоде. Активный рост начался после 9 сентября."
   ]
  },
  {
   "cell_type": "markdown",
   "metadata": {
    "id": "UR7D7RhF0eMr"
   },
   "source": [
    "#### 1.4. Анализ числа просмотренных страниц\n",
    "Другая важная метрика продукта — число просмотренных страниц в приложении. Чем больше страниц просмотрено, тем сильнее пользователь увлечён контентом, а значит, выше шансы, что он зарегистрируется и оплатит подписку.\n",
    "\n",
    "- Найдем количество сессий для каждого значения количества просмотренных страниц.\n",
    "\n",
    "- Построим столбчатую диаграмму, где по оси X будет число просмотренных страниц, по оси Y — количество сессий."
   ]
  },
  {
   "cell_type": "code",
   "execution_count": 14,
   "metadata": {},
   "outputs": [
    {
     "data": {
      "text/plain": [
       "page_counter\n",
       "1     29160\n",
       "2    105536\n",
       "3    166690\n",
       "4    105569\n",
       "5     26288\n",
       "6      2589\n",
       "7        92\n",
       "Name: session_id, dtype: int64"
      ]
     },
     "execution_count": 14,
     "metadata": {},
     "output_type": "execute_result"
    }
   ],
   "source": [
    "# Найдем количество сессий для каждого значения количества просмотренных страниц\n",
    "count_sessions = sessions_history.groupby('page_counter').session_id.nunique()\n",
    "count_sessions"
   ]
  },
  {
   "cell_type": "code",
   "execution_count": 15,
   "metadata": {},
   "outputs": [
    {
     "data": {
      "image/png": "[encoded data removed]",
      "text/plain": [
       "<Figure size 1080x576 with 1 Axes>"
      ]
     },
     "metadata": {
      "needs_background": "light"
     },
     "output_type": "display_data"
    }
   ],
   "source": [
    "# Построим столбчатую диаграмму\n",
    "\n",
    "plt.figure(figsize=(15, 8))\n",
    "count_sessions.plot(kind = 'bar')\n",
    "\n",
    "plt.xlabel('Число просмотренных страниц')\n",
    "plt.ylabel('Кол-во сессий')\n",
    "plt.title('Количество сессий в засисимости от числа просмотренных страниц')\n",
    "plt.xticks(rotation=0)\n",
    "plt.grid(axis='y', linestyle='--', alpha=0.5)\n",
    "plt.show()"
   ]
  },
  {
   "cell_type": "markdown",
   "metadata": {},
   "source": [
    "В большей части сессий просматривается 3 страницы. Распределение числа просмотренных страниц нормальное. "
   ]
  },
  {
   "cell_type": "markdown",
   "metadata": {
    "id": "xDltSpVP0eMr"
   },
   "source": [
    "#### 1.5. Доля пользователей, просмотревших более четырёх страниц\n",
    "Продуктовая команда продукта считает, что сессии, в рамках которых пользователь просмотрел 4 и более страниц, говорят об удовлетворённости контентом и алгоритмами рекомендаций. Этот показатель является важной прокси-метрикой для продукта.\n",
    "\n",
    "- В датафрейме `sessions_history` создадим дополнительный столбец `good_session`. В него войдёт значение `1`, если за одну сессию было просмотрено 4 и более страниц, и значение `0`, если было просмотрено меньше.\n",
    "\n",
    "- Построим график со средним значением доли успешных сессий от всех сессий по дням за весь период наблюдения."
   ]
  },
  {
   "cell_type": "code",
   "execution_count": 16,
   "metadata": {},
   "outputs": [],
   "source": [
    "# Создадим дополнительный столбец good_session и заполним его по условию\n",
    "sessions_history['good_session'] = 0\n",
    "sessions_history.loc[sessions_history['page_counter'] >= 4, 'good_session'] = 1"
   ]
  },
  {
   "cell_type": "code",
   "execution_count": 17,
   "metadata": {},
   "outputs": [],
   "source": [
    "# Агрегируем данные, чтобы рассчитать долю успешных сессий \n",
    "agg_good = sessions_history.groupby('session_date').agg({\n",
    "    'session_id': 'nunique',\n",
    "    'good_session': 'sum'\n",
    "})"
   ]
  },
  {
   "cell_type": "code",
   "execution_count": 18,
   "metadata": {},
   "outputs": [],
   "source": [
    "# Создадим столбец для рассчета доли успешных сессий \n",
    "agg_good['good_session_share'] = agg_good.good_session / agg_good.session_id"
   ]
  },
  {
   "cell_type": "code",
   "execution_count": 19,
   "metadata": {},
   "outputs": [
    {
     "data": {
      "image/png": "[encoded data removed]",
      "text/plain": [
       "<Figure size 1080x576 with 1 Axes>"
      ]
     },
     "metadata": {
      "needs_background": "light"
     },
     "output_type": "display_data"
    }
   ],
   "source": [
    "# Построим график со средним значением доли успешных сессий от всех сессий по дням за весь период наблюдения.\n",
    "\n",
    "plt.figure(figsize=(15, 8))\n",
    "plt.plot(agg_good['good_session_share'], label ='Доля успешных сессий')\n",
    "\n",
    "plt.xlabel('Дата')\n",
    "plt.ylabel('Доля успешных сессий')\n",
    "plt.title('Динамика доли успешных сессий по дням')\n",
    "plt.legend()\n",
    "plt.xticks(rotation=45)\n",
    "plt.grid()\n",
    "plt.show()"
   ]
  },
  {
   "cell_type": "markdown",
   "metadata": {},
   "source": [
    "Доля успешных сессий стабильна в рассматриваемом периоде (29-32%), есть незначительные колебания в рамках 3%. "
   ]
  },
  {
   "cell_type": "markdown",
   "metadata": {
    "id": "21JcG77Y0eMt"
   },
   "source": [
    "### 2. Подготовка к тесту\n",
    "При планировании теста необходимо проделать несколько важных шагов:\n",
    "\n",
    "- Сформулировать нулевую и альтернативную гипотезы.\n",
    "\n",
    "- Определиться с целевой метрикой.\n",
    "\n",
    "- Рассчитать необходимый размер выборки.\n",
    "\n",
    "- Исходя из текущих значений трафика рассчитать необходимую длительность проведения теста."
   ]
  },
  {
   "cell_type": "markdown",
   "metadata": {
    "id": "kXdcwkjf859k"
   },
   "source": [
    "#### 2.1 Формулировка нулевой и альтернативной гипотез\n",
    "\n",
    "Изначальное условие: команда разработчиков рекомендательных систем создала новый алгоритм, который, по их мнению, будет показывать более интересный контент для каждого пользователя."
   ]
  },
  {
   "cell_type": "markdown",
   "metadata": {},
   "source": [
    "За целевую метрику возьмем __долю успешных сессий в день__. Если были бы данные о длительности сессий, то можно было рассмотреть еще среднее время сессии пользователя за день. "
   ]
  },
  {
   "cell_type": "markdown",
   "metadata": {
    "id": "RiKI8eT49h3F"
   },
   "source": [
    "Сформулируем нулевую и альтернативную гипотезы:\n",
    "\n",
    "* H0: Доля успешных сессий в день в контрольной группе не отличается от показателя в тестовой группе.\n",
    "\n",
    "* H1: Доля успешных сессий в день у пользователей в тестовой группе больше, чем в контрольной группе, во время проведения теста.\n",
    "\n",
    "\n",
    "\n"
   ]
  },
  {
   "cell_type": "markdown",
   "metadata": {
    "id": "uzaeln270eMt"
   },
   "source": [
    "#### 2.2. Расчёт размера выборки\n",
    "\n",
    "Для расчета размера выборки установим в коде ниже следующие параметры:\n",
    "\n",
    "- Уровень значимости — 0.05.\n",
    "\n",
    "- Вероятность ошибки второго рода — 0.2.\n",
    "\n",
    "- Мощность теста.\n",
    "\n",
    "- Минимальный детектируемый эффект, или MDE, — 3%. Обратите внимание, что здесь нужно указать десятичную дробь, а не процент.\n",
    "\n",
    "При расчёте размера выборки используем метод `solve_power()` из класса `power.NormalIndPower` модуля `statsmodels.stats`."
   ]
  },
  {
   "cell_type": "code",
   "execution_count": 20,
   "metadata": {
    "id": "zSxJyPGPNdaI"
   },
   "outputs": [
    {
     "name": "stdout",
     "output_type": "stream",
     "text": [
      "Необходимый размер выборки для каждой группы: 41040\n"
     ]
    }
   ],
   "source": [
    "from statsmodels.stats.power import NormalIndPower\n",
    "from statsmodels.stats.proportion import proportion_effectsize\n",
    "\n",
    "# Задаём параметры\n",
    "alpha = 0.05  # Уровень значимости\n",
    "beta = 0.2  # Ошибка второго рода, часто 1 - мощность\n",
    "power = 1-beta  # Мощность теста\n",
    "p = 0.3 # Базовый уровень доли\n",
    "mde = 0.03 * p  # Минимальный детектируемый эффект\n",
    "effect_size = proportion_effectsize(p, p + mde)\n",
    "\n",
    "# Инициализируем класс NormalIndPower\n",
    "power_analysis = NormalIndPower()\n",
    "\n",
    "# Рассчитываем размер выборки\n",
    "sample_size = power_analysis.solve_power(\n",
    "    effect_size = effect_size,\n",
    "    power = power,\n",
    "    alpha = alpha,\n",
    "    ratio = 1 # Равномерное распределение выборок\n",
    ")\n",
    "\n",
    "print(f\"Необходимый размер выборки для каждой группы: {int(sample_size)}\")"
   ]
  },
  {
   "cell_type": "markdown",
   "metadata": {
    "id": "qLEv4RoV0eMu"
   },
   "source": [
    "#### 2.3. Расчёт длительности A/B-теста\n",
    "\n",
    "Используем данные о количестве пользователей в каждой выборке и среднем количестве пользователей приложения. Рассчитайте длительность теста, разделив одно на другое.\n",
    "\n",
    "- Рассчитаем среднее количество уникальных пользователей приложения в день.\n",
    "\n",
    "- Определим длительность теста исходя из рассчитанного значения размера выборок и среднего дневного трафика приложения."
   ]
  },
  {
   "cell_type": "code",
   "execution_count": 21,
   "metadata": {
    "scrolled": true
   },
   "outputs": [
    {
     "data": {
      "text/plain": [
       "session_date\n",
       "2025-08-11     3919\n",
       "2025-08-12     6056\n",
       "2025-08-13     8489\n",
       "2025-08-14    10321\n",
       "2025-08-15    14065\n",
       "2025-08-16    12205\n",
       "2025-08-17    11200\n",
       "2025-08-18    10839\n",
       "2025-08-19    12118\n",
       "2025-08-20    13514\n",
       "2025-08-21    15051\n",
       "2025-08-22    17563\n",
       "2025-08-23    16082\n",
       "2025-08-24    13683\n",
       "2025-08-25    13635\n",
       "2025-08-26    13289\n",
       "2025-08-27    14766\n",
       "2025-08-28    15388\n",
       "2025-08-29    16873\n",
       "2025-08-30    14891\n",
       "2025-08-31    13266\n",
       "2025-09-01    12685\n",
       "2025-09-02    12672\n",
       "2025-09-03    12777\n",
       "2025-09-04    13683\n",
       "2025-09-05    15324\n",
       "2025-09-06    13078\n",
       "2025-09-07    12367\n",
       "2025-09-08    11826\n",
       "2025-09-09    11780\n",
       "2025-09-10    12526\n",
       "2025-09-11     8623\n",
       "2025-09-12     6436\n",
       "2025-09-13     5183\n",
       "2025-09-14     4364\n",
       "2025-09-15     3698\n",
       "2025-09-16     3032\n",
       "2025-09-17     2548\n",
       "2025-09-18     1952\n",
       "2025-09-19     1418\n",
       "2025-09-20     1100\n",
       "2025-09-21      776\n",
       "2025-09-22      546\n",
       "2025-09-23      317\n",
       "Name: user_id, dtype: int64"
      ]
     },
     "execution_count": 21,
     "metadata": {},
     "output_type": "execute_result"
    }
   ],
   "source": [
    "# Рассчитаем среднее количество уникальных пользователей приложения в день\n",
    "sessions_history.groupby('session_date').user_id.nunique()"
   ]
  },
  {
   "cell_type": "code",
   "execution_count": 22,
   "metadata": {
    "id": "KZDRbryDOGHa"
   },
   "outputs": [
    {
     "name": "stdout",
     "output_type": "stream",
     "text": [
      "Рассчитанная длительность A/B-теста при текущем уровене трафика в 9908 пользователей в день составит 9 дней\n"
     ]
    }
   ],
   "source": [
    "from math import ceil\n",
    "\n",
    "# Среднее количество пользователей приложения в день по историческим данным\n",
    "# округляем в большую сторону, потому что пользователи корректно описывать целым числом\n",
    "avg_daily_users = ceil(sessions_history.groupby('session_date').user_id.nunique().mean())\n",
    "\n",
    "# Рассчитываем длительность теста в днях как отношение размера выборки к среднему числу пользователей\n",
    "test_duration = ceil(sample_size*2/avg_daily_users)\n",
    "\n",
    "print(f\"Рассчитанная длительность A/B-теста при текущем уровене трафика в {avg_daily_users} пользователей в день составит {test_duration} дней\")"
   ]
  },
  {
   "cell_type": "markdown",
   "metadata": {
    "id": "ZuvtAdha0eMv"
   },
   "source": [
    "### 3. Мониторинг А/В-теста"
   ]
  },
  {
   "cell_type": "markdown",
   "metadata": {
    "id": "jq5sE3Ya0eMv"
   },
   "source": [
    "#### 3.1. Проверка распределения пользователей\n",
    "\n",
    "A/B-тест успешно запущен, и уже доступны данные за первый день. На этом этапе нужно убедиться, что всё идёт хорошо: пользователи разделены правильным образом, а интересующие нас метрики корректно считаются.\n",
    "\n",
    "- Рассчитаем количество уникальных пользователей в каждой из экспериментальных групп для одного дня наблюдения.\n",
    "\n",
    "- Рассчитаем и выведем на экран процентную разницу в количестве пользователей в группах A и B. Построим визуализацию, на которой будет видно возможное различие двух групп.\n",
    "\n",
    "Для расчёта процентной разницы воспользуемся формулой:\n",
    "$$P = 100 \\cdot  \\frac{|A − B|}{A}$$"
   ]
  },
  {
   "cell_type": "code",
   "execution_count": 23,
   "metadata": {
    "id": "G1bqIzDJOUiz"
   },
   "outputs": [],
   "source": [
    "# Считаем и сохраним в датафрейм sessions_test_part CSV-файл с историческими данными о сессиях пользователей\n",
    "sessions_test_part = pd.read_csv('https://code.s3.yandex.net/datasets/sessions_project_test_part.csv')"
   ]
  },
  {
   "cell_type": "code",
   "execution_count": 24,
   "metadata": {},
   "outputs": [],
   "source": [
    "# Рассчитаем количество уникальных пользователей в каждой из экспериментальных групп для одного дня наблюдения\n",
    "users_by_test_groups = sessions_test_part.groupby(['test_group','session_date']).user_id.nunique()"
   ]
  },
  {
   "cell_type": "code",
   "execution_count": 25,
   "metadata": {},
   "outputs": [
    {
     "name": "stdout",
     "output_type": "stream",
     "text": [
      "Процентная разница между количеством пользователей в группах А и В составила 0.745% (11 пользователей)\n"
     ]
    }
   ],
   "source": [
    "# Рассчитаем и выведем на экран процентную разницу в количестве пользователей в группах A и B\n",
    "percent_difference = round(100.0 * (users_by_test_groups.iloc[0] - users_by_test_groups.iloc[1]) / users_by_test_groups.iloc[0], 3)\n",
    "print(f'Процентная разница между количеством пользователей в группах А и В составила {percent_difference}% ({users_by_test_groups.iloc[0] - users_by_test_groups.iloc[1]} пользователей)')"
   ]
  },
  {
   "cell_type": "code",
   "execution_count": 26,
   "metadata": {},
   "outputs": [
    {
     "data": {
      "image/png": "[encoded data removed]",
      "text/plain": [
       "<Figure size 504x288 with 1 Axes>"
      ]
     },
     "metadata": {
      "needs_background": "light"
     },
     "output_type": "display_data"
    }
   ],
   "source": [
    "# Построим столбчатую диаграмму, на которой будет видно различие двух групп\n",
    "plt.figure(figsize=(7, 4))\n",
    "ax = users_by_test_groups.plot(kind = 'bar')\n",
    "\n",
    "# Добавление подписей над столбцами\n",
    "for x, y in enumerate(users_by_test_groups):\n",
    "    ax.text(x, y, str(y), ha='center', va='bottom', fontsize=10)\n",
    "\n",
    "plt.xlabel('Группы')\n",
    "plt.ylabel('Количество пользователей')\n",
    "plt.title('Количество пользователей в группах А и В')\n",
    "plt.xticks([0, 1], ['A', 'B'], rotation=0)\n",
    "plt.ylim(1450, 1480)\n",
    "plt.show()"
   ]
  },
  {
   "cell_type": "markdown",
   "metadata": {},
   "source": [
    "Процентная разница между количеством пользователей в группах А и В составила 0.745% (11 пользователей). Различие незначительное, можем далее проводить A/B тест. Сделаем проверку пересечений пользователей."
   ]
  },
  {
   "cell_type": "markdown",
   "metadata": {
    "id": "sgpNY5bv0eM0"
   },
   "source": [
    "#### 3.2. Проверка пересечений пользователей\n",
    "Убедимся в том, что никто из пользователей случайно не попал в обе группы одновременно."
   ]
  },
  {
   "cell_type": "code",
   "execution_count": 19,
   "metadata": {
    "id": "E72ozN9FOX1u"
   },
   "outputs": [
    {
     "ename": "NameError",
     "evalue": "name 'sessions_test_part' is not defined",
     "output_type": "error",
     "traceback": [
      "\u001b[0;31m---------------------------------------------------------------------------\u001b[0m",
      "\u001b[0;31mNameError\u001b[0m                                 Traceback (most recent call last)",
      "Cell \u001b[0;32mIn[19], line 2\u001b[0m\n\u001b[1;32m      1\u001b[0m \u001b[38;5;66;03m# Рассчитаем количество пользователей в группах A и B\u001b[39;00m\n\u001b[0;32m----> 2\u001b[0m a_group \u001b[38;5;241m=\u001b[39m sessions_test_part[sessions_test_part[\u001b[38;5;124m'\u001b[39m\u001b[38;5;124mtest_group\u001b[39m\u001b[38;5;124m'\u001b[39m] \u001b[38;5;241m==\u001b[39m \u001b[38;5;124m'\u001b[39m\u001b[38;5;124mA\u001b[39m\u001b[38;5;124m'\u001b[39m][\u001b[38;5;124m'\u001b[39m\u001b[38;5;124muser_id\u001b[39m\u001b[38;5;124m'\u001b[39m]\n\u001b[1;32m      3\u001b[0m b_group \u001b[38;5;241m=\u001b[39m sessions_test_part[sessions_test_part[\u001b[38;5;124m'\u001b[39m\u001b[38;5;124mtest_group\u001b[39m\u001b[38;5;124m'\u001b[39m] \u001b[38;5;241m==\u001b[39m \u001b[38;5;124m'\u001b[39m\u001b[38;5;124mB\u001b[39m\u001b[38;5;124m'\u001b[39m][\u001b[38;5;124m'\u001b[39m\u001b[38;5;124muser_id\u001b[39m\u001b[38;5;124m'\u001b[39m]\n\u001b[1;32m      5\u001b[0m \u001b[38;5;66;03m# Найдем пересечения\u001b[39;00m\n",
      "\u001b[0;31mNameError\u001b[0m: name 'sessions_test_part' is not defined"
     ]
    }
   ],
   "source": [
    "# Рассчитаем количество пользователей в группах A и B\n",
    "a_group = sessions_test_part[sessions_test_part['test_group'] == 'A']['user_id']\n",
    "b_group = sessions_test_part[sessions_test_part['test_group'] == 'B']['user_id']\n",
    "\n",
    "# Найдем пересечения\n",
    "intersection = len(set(a_group) & set(b_group))\n",
    "\n",
    "print(f'Количество юзеров, попавших в обе группы: {intersection}')"
   ]
  },
  {
   "cell_type": "code",
   "execution_count": 28,
   "metadata": {},
   "outputs": [
    {
     "data": {
      "text/plain": [
       "user_id\n",
       "00079359B9D3C6F7    1\n",
       "ADC2E1E1158CFBB2    1\n",
       "ADCEEDAD20F4782F    1\n",
       "ADDCDDC883993FA6    1\n",
       "AE072C4F9B473BCD    1\n",
       "                   ..\n",
       "54C3FA4C32B6ABBA    1\n",
       "54F28A45A5E77DB8    1\n",
       "54FF42B690A9B2E5    1\n",
       "55529D5E3198D24D    1\n",
       "FFFCDE7746148710    1\n",
       "Name: test_group, Length: 2943, dtype: int64"
      ]
     },
     "execution_count": 28,
     "metadata": {},
     "output_type": "execute_result"
    }
   ],
   "source": [
    "sessions_test_part.groupby('user_id').test_group.nunique().sort_values(ascending = False)"
   ]
  },
  {
   "cell_type": "markdown",
   "metadata": {},
   "source": [
    "Пользователей, попавших одновременно в обе группы, нет. Группы независимы. "
   ]
  },
  {
   "cell_type": "markdown",
   "metadata": {
    "id": "6RvkNLrg0eM1"
   },
   "source": [
    "#### 3.3. Равномерность разделения пользователей по устройствам\n",
    "Убедимся в том, что пользователи равномерно распределены по всем доступным категориальным переменным — типам устройств и регионам.\n",
    "\n",
    "Построим две диаграммы:\n",
    "\n",
    "- доля каждого типа устройства для пользователей из группы A,\n",
    "\n",
    "- доля каждого типа устройства для пользователей из группы B.\n"
   ]
  },
  {
   "cell_type": "code",
   "execution_count": 29,
   "metadata": {
    "id": "x_IP6PUNPWHC"
   },
   "outputs": [],
   "source": [
    "# Агрегируем данные, получим кол-во уникальных пользователей по группам и устройствам\n",
    "agg_dev = sessions_test_part.groupby(['test_group','device']).user_id.nunique().reset_index()"
   ]
  },
  {
   "cell_type": "code",
   "execution_count": 30,
   "metadata": {},
   "outputs": [],
   "source": [
    "# Создадим новый столбец и рассчитаем в нем долю каждого типа устройства для пользователей из групп А и В\n",
    "agg_dev['users_share'] = 0\n",
    "agg_dev.loc[agg_dev.test_group == 'A', 'users_share'] = round(agg_dev[agg_dev.test_group == 'A']['user_id'] / a_group.nunique(), 3)\n",
    "agg_dev.loc[agg_dev.test_group == 'B', 'users_share'] = round(agg_dev[agg_dev.test_group == 'B']['user_id'] / b_group.nunique(), 3)"
   ]
  },
  {
   "cell_type": "code",
   "execution_count": 31,
   "metadata": {},
   "outputs": [],
   "source": [
    "# Для удобства построения диаграмм разделим агрегированный датафрейм в зависимости от группы\n",
    "agg_devA = agg_dev[agg_dev.test_group == 'A'].drop(columns={'test_group'}).set_index('device')\n",
    "agg_devB = agg_dev[agg_dev.test_group == 'B'].drop(columns={'test_group'}).set_index('device') "
   ]
  },
  {
   "cell_type": "code",
   "execution_count": 32,
   "metadata": {},
   "outputs": [
    {
     "data": {
      "image/png": "[encoded data removed]",
      "text/plain": [
       "<Figure size 864x432 with 2 Axes>"
      ]
     },
     "metadata": {},
     "output_type": "display_data"
    }
   ],
   "source": [
    "# Создаём два подграфика рядом\n",
    "fig, axes = plt.subplots(1, 2, figsize=(12, 6))\n",
    "\n",
    "# График для группы A\n",
    "axes[0].pie(agg_devA['users_share'], labels=agg_devA.index, autopct='%1.1f%%', startangle=90)\n",
    "axes[0].set_title('Круговая диаграмма доли юзеров по устройствам для группы A')\n",
    "\n",
    "# График для группы B\n",
    "axes[1].pie(agg_devB['users_share'], labels=agg_devB.index, autopct='%1.1f%%', startangle=90)\n",
    "axes[1].set_title('Круговая диаграмма доли юзеров по устройствам для группы B')\n",
    "\n",
    "plt.tight_layout()\n",
    "plt.show()"
   ]
  },
  {
   "cell_type": "markdown",
   "metadata": {},
   "source": [
    "Круговые диаграммы позволяют сделать вывод о том, что распределение  устройств в группах A и B совпадает."
   ]
  },
  {
   "cell_type": "markdown",
   "metadata": {
    "id": "gAgmP6vo0eM1"
   },
   "source": [
    "#### 3.4. Равномерность распределения пользователей по регионам\n",
    "Теперь убедимся, что пользователи равномерно распределены по регионам.\n",
    "\n",
    "Построим две диаграммы:\n",
    "\n",
    "- доля каждого региона для пользователей из группы A,\n",
    "\n",
    "- доля каждого региона для пользователей из группы B."
   ]
  },
  {
   "cell_type": "code",
   "execution_count": 33,
   "metadata": {
    "id": "3hAq-FG4OdYM"
   },
   "outputs": [],
   "source": [
    "# Агрегируем данные, получим кол-во уникальных пользователей по группам и регионам\n",
    "agg_reg = sessions_test_part.groupby(['test_group','region']).user_id.nunique().reset_index()"
   ]
  },
  {
   "cell_type": "code",
   "execution_count": 34,
   "metadata": {},
   "outputs": [],
   "source": [
    "# Создадим новый столбец и рассчитаем в нем долю каждого региона для пользователей из групп А и В\n",
    "agg_reg['users_share'] = 0\n",
    "agg_reg.loc[agg_reg.test_group == 'A', 'users_share'] = round(agg_reg[agg_reg.test_group == 'A']['user_id'] / a_group.nunique(), 3)\n",
    "agg_reg.loc[agg_reg.test_group == 'B', 'users_share'] = round(agg_reg[agg_reg.test_group == 'B']['user_id'] / b_group.nunique(), 3)"
   ]
  },
  {
   "cell_type": "code",
   "execution_count": 35,
   "metadata": {},
   "outputs": [],
   "source": [
    "# Для удобства построения графиков разделим агрегированный датафрейм в зависимости от группы\n",
    "agg_regA = agg_reg[agg_reg.test_group == 'A'].drop(columns={'test_group'}).set_index('region')\n",
    "agg_regB = agg_reg[agg_reg.test_group == 'B'].drop(columns={'test_group'}).set_index('region') "
   ]
  },
  {
   "cell_type": "code",
   "execution_count": 36,
   "metadata": {},
   "outputs": [
    {
     "data": {
      "image/png": "[encoded data removed]",
      "text/plain": [
       "<Figure size 864x432 with 2 Axes>"
      ]
     },
     "metadata": {
      "needs_background": "light"
     },
     "output_type": "display_data"
    }
   ],
   "source": [
    "# Создаём два подграфика рядом\n",
    "fig, axes = plt.subplots(1, 2, figsize=(12, 6))\n",
    "\n",
    "# График для группы A\n",
    "bars_a = axes[0].bar(agg_regA.index, agg_regA['users_share'])\n",
    "axes[0].set_title('Доля юзеров по регионам для группы A')\n",
    "axes[0].set_ylabel('Доля юзеров')\n",
    "axes[0].set_xlabel('Регион')\n",
    "\n",
    "# Добавляем подписи над столбцами\n",
    "for bar in bars_a:\n",
    "    height = bar.get_height()\n",
    "    axes[0].text(bar.get_x() + bar.get_width() / 2, height,\n",
    "                 f'{height:.3f}', ha='center', va='bottom', fontsize=10)\n",
    "\n",
    "# График для группы B\n",
    "bars_b = axes[1].bar(agg_regB.index, agg_regB['users_share'], color='orange')\n",
    "axes[1].set_title('Доля юзеров по регионам для группы B')\n",
    "\n",
    "axes[1].set_xlabel('Регион')\n",
    "\n",
    "# Добавляем подписи над столбцами\n",
    "for bar in bars_b:\n",
    "    height = bar.get_height()\n",
    "    axes[1].text(bar.get_x() + bar.get_width() / 2, height,\n",
    "                 f'{height:.3f}', ha='center', va='bottom', fontsize=10)\n",
    "\n",
    "    \n",
    "plt.tight_layout()\n",
    "plt.show()"
   ]
  },
  {
   "cell_type": "markdown",
   "metadata": {},
   "source": [
    "Доли пользователей по регионам в обеих группах практически одинаковы."
   ]
  },
  {
   "cell_type": "markdown",
   "metadata": {
    "id": "X2WSZ-sDrSUi"
   },
   "source": [
    "#### 3.5. Вывод после проверки A/B-теста"
   ]
  },
  {
   "cell_type": "markdown",
   "metadata": {
    "id": "dDELHlAcOi8d"
   },
   "source": [
    "__На основе проведённого анализа A/B-теста можно сделать следующие выводы:__\n",
    "* Процентная разница между количеством пользователей в группах А и В составила 0.745% (11 пользователей). Различие незначительное.\n",
    "* Пользователей, попавших одновременно в обе группы, нет. Группы независимы. \n",
    "* Распределение пользователей по устройствам и регионам в группах A и B совпадает. \n",
    "\n",
    "A/B-тест проходит корректно."
   ]
  },
  {
   "cell_type": "markdown",
   "metadata": {
    "id": "nudRr_BQ0eM2"
   },
   "source": [
    "### 4. Проверка результатов A/B-теста\n",
    "\n",
    "A/B-тест завершён, и у нас есть результаты за все дни проведения эксперимента. Необходимо убедиться в корректности теста и верно интерпретировать результаты."
   ]
  },
  {
   "cell_type": "markdown",
   "metadata": {
    "id": "JVve-YBB0eM2"
   },
   "source": [
    "#### 4.1. Получение результатов теста и подсчёт основной метрики\n",
    "\n",
    "В датафрейме `sessions_test` создадим дополнительный столбец `good_session`. В него войдёт значение `1`, если за одну сессию было просмотрено 4 и более страниц, и значение `0`, если просмотрено меньше."
   ]
  },
  {
   "cell_type": "code",
   "execution_count": 37,
   "metadata": {
    "id": "EqRlwMtKPTir"
   },
   "outputs": [],
   "source": [
    "# Считаем и сохраним в датафрейм sessions_test CSV-файл с историческими данными о сессиях пользователей\n",
    "sessions_test = pd.read_csv('https://code.s3.yandex.net/datasets/sessions_project_test.csv')"
   ]
  },
  {
   "cell_type": "code",
   "execution_count": 38,
   "metadata": {},
   "outputs": [],
   "source": [
    "# Создадим дополнительный столбец good_session и заполним его по условию\n",
    "sessions_test['good_session'] = 0\n",
    "sessions_test.loc[sessions_test['page_counter'] >= 4, 'good_session'] = 1"
   ]
  },
  {
   "cell_type": "markdown",
   "metadata": {
    "id": "aeYhrMYy0eM2"
   },
   "source": [
    "#### 4.2. Проверка корректности результатов теста\n",
    "\n",
    "Прежде чем приступать к анализу ключевых продуктовых метрик, необходимо убедиться, что тест проведён корректно и мы будем сравнивать две сопоставимые группы.\n",
    "\n",
    "- Рассчитаем количество уникальных сессий для каждого дня и обеих тестовых групп, используя группировку.\n",
    "\n",
    "- Проверим, что количество уникальных дневных сессий в двух выборках не различается или различия не статистически значимыми. Используем  Т-тест для двух выборок, который позволит сделать вывод о равенстве средних."
   ]
  },
  {
   "cell_type": "code",
   "execution_count": 39,
   "metadata": {
    "id": "5NUlcltkTTSU",
    "scrolled": true
   },
   "outputs": [],
   "source": [
    "# Рассчитаем количество уникальных сессий для каждого дня и обеих тестовых групп, используя группировку\n",
    "sessions_by_groups = sessions_test.groupby(['session_date', 'test_group']).session_id.nunique().reset_index()"
   ]
  },
  {
   "cell_type": "markdown",
   "metadata": {},
   "source": [
    "Сформулируем нулевую и альтернативную гипотезы:\n",
    "\n",
    "* H0: Количество уникальных дневных сессий в двух выборках не различается, или различия статистически не значимы.\n",
    "\n",
    "* H1: Различия в количестве уникальных дневных сессий в двух выборках есть, и они статистически значимы."
   ]
  },
  {
   "cell_type": "code",
   "execution_count": 40,
   "metadata": {},
   "outputs": [],
   "source": [
    "# Для расчета значимости различий в кол-ве уникальных сессий разделим агрегированный датафрейм в зависимости от группы\n",
    "sessions_A = sessions_by_groups[sessions_by_groups.test_group == 'A'].drop(columns={'test_group'}).set_index('session_date').session_id\n",
    "sessions_B = sessions_by_groups[sessions_by_groups.test_group == 'B'].drop(columns={'test_group'}).set_index('session_date').session_id"
   ]
  },
  {
   "cell_type": "code",
   "execution_count": 41,
   "metadata": {
    "scrolled": true
   },
   "outputs": [
    {
     "name": "stdout",
     "output_type": "stream",
     "text": [
      "pvalue=0.938219304859116 > 0.05\n",
      "Не получилось отвергнуть нулевую гипотезу\n"
     ]
    }
   ],
   "source": [
    "# Рассчитываем критерий Стьюдента для двух выборок \n",
    "test_result = ttest_ind(sessions_A, sessions_B)\n",
    "\n",
    "# Задаем уровень значимости 0.05\n",
    "alpha = 0.05\n",
    "\n",
    "if test_result.pvalue > alpha:\n",
    "    print(f'pvalue={test_result.pvalue} > {alpha}')\n",
    "    print('Не получилось отвергнуть нулевую гипотезу')\n",
    "else:\n",
    "    print(f'pvalue={test_result.pvalue} < {alpha}')\n",
    "    print('Отвергаем нулевую гипотезу') "
   ]
  },
  {
   "cell_type": "markdown",
   "metadata": {},
   "source": [
    "Не получилось отвергнуть нулевую гипотезу, то есть различие в количестве дневных сессий в группах А и В статистически незначимы. При этом p-value очень высокое, можно говорить, что выборки идентичны. "
   ]
  },
  {
   "cell_type": "markdown",
   "metadata": {
    "id": "7kwRxzg70eM3"
   },
   "source": [
    "#### 4.3. Сравнение доли успешных сессий\n",
    "\n",
    "Можно переходить к анализу ключевой метрики — доли успешных сессий.\n"
   ]
  },
  {
   "cell_type": "code",
   "execution_count": 42,
   "metadata": {
    "id": "Uku-V1CpPRCz",
    "scrolled": true
   },
   "outputs": [
    {
     "name": "stdout",
     "output_type": "stream",
     "text": [
      "Доля успешных сессий для выборки A: 30.77%\n"
     ]
    }
   ],
   "source": [
    "# Рассчитаем долю успешных сессий для выборки A\n",
    "good_sessions_A = sessions_test[sessions_test.test_group == 'A'].good_session.sum()\n",
    "num_sessions_A = sessions_test[sessions_test.test_group == 'A'].session_id.nunique()\n",
    "good_sessions_share_A = round(100.0*good_sessions_A / num_sessions_A, 2)\n",
    "print(f'Доля успешных сессий для выборки A: {good_sessions_share_A}%')"
   ]
  },
  {
   "cell_type": "code",
   "execution_count": 43,
   "metadata": {
    "scrolled": true
   },
   "outputs": [
    {
     "name": "stdout",
     "output_type": "stream",
     "text": [
      "Доля успешных сессий для выборки B: 31.83%\n"
     ]
    }
   ],
   "source": [
    "# Рассчитаем долю успешных сессий для выборки B\n",
    "good_sessions_B = sessions_test[sessions_test.test_group == 'B'].good_session.sum()\n",
    "num_sessions_B = sessions_test[sessions_test.test_group == 'B'].session_id.nunique()\n",
    "good_sessions_share_B = round(100.0*good_sessions_B / num_sessions_B, 2)\n",
    "print(f'Доля успешных сессий для выборки B: {good_sessions_share_B}%')"
   ]
  },
  {
   "cell_type": "code",
   "execution_count": 44,
   "metadata": {},
   "outputs": [
    {
     "name": "stdout",
     "output_type": "stream",
     "text": [
      "Разница долей успешных сессий для выборок A и B: 1.1 процентных пункта (в тестовой выборке B показатель выше, чем в контрольной выборке А)\n"
     ]
    }
   ],
   "source": [
    "good_sessions_share_diff = round(good_sessions_share_B - good_sessions_share_A,1)\n",
    "print(f'Разница долей успешных сессий для выборок A и B: {good_sessions_share_diff} процентных пункта (в тестовой выборке B показатель выше, чем в контрольной выборке А)')"
   ]
  },
  {
   "cell_type": "markdown",
   "metadata": {
    "id": "9fMFuja10eM4"
   },
   "source": [
    "#### 4.4. Насколько статистически значимо изменение ключевой метрики\n",
    "\n",
    "На предыдущем шаге мы убедились, что количество успешных сессий в тестовой выборке примерно на 1.1% выше, чем в контрольной.\n",
    "\n",
    "- Используя Z-тест пропорций, рассчитаем, является ли изменение в метрике доли успешных сессий статистически значимым."
   ]
  },
  {
   "cell_type": "markdown",
   "metadata": {},
   "source": [
    "Будем использовать Z-тест пропорций, так как именно этот тест позволяет определить, существует ли значимая разница между долями в двух независимых выборках. \n",
    "Для начала проверим, выполняется ли предпосылка Z-теста пропорций о достаточном размере выборок. Для этого посчитаем количество наблюдений в каждой группе, а также — количество «успехов» в них. Убедимся, что условия для проведения теста выполнены."
   ]
  },
  {
   "cell_type": "code",
   "execution_count": 45,
   "metadata": {
    "id": "gFvhRGwlPLS0"
   },
   "outputs": [
    {
     "name": "stdout",
     "output_type": "stream",
     "text": [
      "n_a=49551, n_b=50454\n",
      "m_a=15248, m_b=16059\n",
      "p_a=0.3077233557344958, p_b=0.31828992745867524\n",
      "Предпосылка о достаточном количестве данных выполняется!\n"
     ]
    }
   ],
   "source": [
    "# Проверим, выполняется ли предпосылка Z-теста пропорций о достаточном размере выборок\n",
    "n_a, n_b = num_sessions_A, num_sessions_B # размеры выборок A и B\n",
    "m_a = good_sessions_A # количество успехов в группе A\n",
    "m_b = good_sessions_B # количество успехов в группе B\n",
    "\n",
    "p_a, p_b = m_a/n_a, m_b/n_b # рассчитываем доли успехов для каждой группы: A и B\n",
    "\n",
    "print(f'n_a={n_a}, n_b={n_b}')\n",
    "\n",
    "print(f'm_a={m_a}, m_b={m_b}')\n",
    "\n",
    "print(f'p_a={p_a}, p_b={p_b}')\n",
    "\n",
    "if (p_a*n_a > 10)and((1-p_a)*n_a > 10)and(p_b*n_b > 10)and((1-p_b)*n_b > 10):\n",
    "    print('Предпосылка о достаточном количестве данных выполняется!')\n",
    "else:\n",
    "    print('Предпосылка о достаточном количестве данных НЕ выполняется!')"
   ]
  },
  {
   "cell_type": "markdown",
   "metadata": {},
   "source": [
    "__Сформулируем нулевую и альтернативную гипотезы:__\n",
    "\n",
    "* H0: Доли успешных сессий в двух выборках не различаются, или различия статистически не значимы.\n",
    "\n",
    "* H1: В тестовой выборке B доля успешных сессий выше, чем в контрольной выборке А, и различие статистически значимо."
   ]
  },
  {
   "cell_type": "code",
   "execution_count": 46,
   "metadata": {},
   "outputs": [
    {
     "name": "stdout",
     "output_type": "stream",
     "text": [
      "pvalue=0.0001574739988036123 < 0.05\n",
      "Нулевая гипотеза не находит подтверждения!\n"
     ]
    }
   ],
   "source": [
    "alpha = 0.05 # задаем уровень значимости\n",
    "\n",
    "stat_ztest, p_value_ztest = proportions_ztest(\n",
    "    [m_a, m_b],\n",
    "    [n_a, n_b],\n",
    "    alternative='smaller' # так как H_1: p_a < p_b\n",
    ")\n",
    "\n",
    "if p_value_ztest > alpha:\n",
    "    print(f'pvalue={p_value_ztest} > {alpha}')\n",
    "    print('Нулевая гипотеза находит подтверждение!')\n",
    "else:\n",
    "    print(f'pvalue={p_value_ztest} < {alpha}')\n",
    "    print('Нулевая гипотеза не находит подтверждения!')"
   ]
  },
  {
   "cell_type": "markdown",
   "metadata": {},
   "source": [
    "В тестовой выборке B доля успешных сессий выше на 1.1%, чем в контрольной выборке А, и различие статистически значимо, так как по итогам Z-теста пропорций p-value меньше уровня значимости."
   ]
  },
  {
   "cell_type": "markdown",
   "metadata": {
    "id": "GnJrkY9Q63zS"
   },
   "source": [
    "#### 4.5. Вывод по результатам A/B-эксперимента"
   ]
  },
  {
   "cell_type": "markdown",
   "metadata": {
    "id": "rri8KRIgPMrW"
   },
   "source": [
    "Чтобы проверить гипотезу о том, что новый алгоритм рекомендаций будет показывать более интересный контент, были  рассчитаны параметры A/B-теста.\n",
    "\n",
    "\n",
    "Исторические данные предоставлены за период с 9 августа по 23 сентября 2025.\n",
    "Даты проведения теста: 14 октября 2025 - 2 ноября 2025.\n",
    "\n",
    "\n",
    "Чтобы начать тест, было необходимо выяснить, подходят ли данные для его проведения. \n",
    "\n",
    "__Анализ исторических данных__:\n",
    "* Динамика уникальных и зарегистрированных юзеров по дням схожа. \n",
    "* Доля зарегистрированных пользователей от всех пользователей постепенно растет в рассматриваемом периоде.\n",
    "* Распределение числа просмотренных страниц нормальное. \n",
    "* Доля успешных сессий стабильна (29-32%), есть незначительные колебания в рамках 3%. \n",
    "\n",
    "\n",
    "Было принято решение, что __данные подходят для проведения теста__.\n",
    "\n",
    "\n",
    "Чтобы рассчитать необходимый размер выборки, зафиксировали:\n",
    "* Уровень значимости — 0.05.\n",
    "* Вероятность ошибки второго рода — 0.2.\n",
    "* Мощность теста - 0.8.\n",
    "* Минимальный детектируемый эффект, или MDE, — 3%.\n",
    "\n",
    "\n",
    "Получили необходимый __размер выборки__ для каждой группы: __41040__.\n",
    "\n",
    "\n",
    "Рассчитанная __длительность A/B-теста__ при текущем уровене трафика в 9908 пользователей в день составила __9 дней__.\n",
    "\n",
    "\n",
    "__На основе проведённого анализа первого дня A/B-теста сделали следующие выводы:__\n",
    "* Процентная разница между количеством пользователей в группах А и В составила 0.745% (11 пользователей). Различие незначительное.\n",
    "* Пользователей, попавших одновременно в обе группы, нет. Группы независимы. \n",
    "* Распределение пользователей по устройствам и регионам в группах A и B совпадает. \n",
    "\n",
    "Можно сказать, что в первый день __A/B-тест проходит корректно__.\n",
    "\n",
    "\n",
    "Далее мы посчитали, отличаются ли доли усепешных сессий в двух выборках.\n",
    "\n",
    "* Доля успешных сессий для выборки A: 30.77%\n",
    "* Доля успешных сессий для выборки B: 31.83%\n",
    "\n",
    "__Разница долей успешных сессий для выборок A и B: 1.1% (в тестовой выборке B ключевая метрика выше, чем в контрольной выборке А).__\n",
    "\n",
    "По итогам проведенного Z-теста пропорций было выяснено, что различие в долях усепешных сессий статистически значимо, так как p-value меньше уровня значимости (p-value=0.00016 < 0.05). Поэтому у нас есть достаточно оснований отвергнуть нулевую гипотезу об отсутствии эффекта эксперимента.\n",
    "\n",
    "__Итоговый вывод:__\n",
    "Можно утверждать, что новый алгоритм рекомендаций будет показывать более интересный контент для пользователей. Можно внедрять нововведение в приложение."
   ]
  }
 ],
 "metadata": {
  "ExecuteTimeLog": [
   {
    "duration": 425,
    "start_time": "2025-08-22T05:14:28.545Z"
   },
   {
    "duration": 82,
    "start_time": "2025-08-22T05:17:58.583Z"
   },
   {
    "duration": 114,
    "start_time": "2025-08-22T05:19:47.001Z"
   },
   {
    "duration": 106,
    "start_time": "2025-08-22T05:19:51.262Z"
   },
   {
    "duration": 92,
    "start_time": "2025-08-22T05:19:54.964Z"
   },
   {
    "duration": 60,
    "start_time": "2025-08-22T05:20:27.910Z"
   },
   {
    "duration": 85,
    "start_time": "2025-08-22T05:20:31.900Z"
   },
   {
    "duration": 83,
    "start_time": "2025-08-22T05:20:48.226Z"
   },
   {
    "duration": 1965,
    "start_time": "2025-08-22T05:21:01.474Z"
   },
   {
    "duration": 17,
    "start_time": "2025-08-22T05:21:22.271Z"
   },
   {
    "duration": 622,
    "start_time": "2025-08-22T05:24:33.225Z"
   },
   {
    "duration": 630,
    "start_time": "2025-08-22T05:25:02.184Z"
   },
   {
    "duration": 586,
    "start_time": "2025-08-22T05:26:27.288Z"
   },
   {
    "duration": 548,
    "start_time": "2025-08-22T05:26:56.320Z"
   },
   {
    "duration": 546,
    "start_time": "2025-08-22T05:27:31.374Z"
   },
   {
    "duration": 4,
    "start_time": "2025-08-22T05:27:41.132Z"
   },
   {
    "duration": 536,
    "start_time": "2025-08-22T05:28:50.331Z"
   },
   {
    "duration": 11,
    "start_time": "2025-08-22T05:29:35.728Z"
   },
   {
    "duration": 5,
    "start_time": "2025-08-22T05:31:10.191Z"
   },
   {
    "duration": 507,
    "start_time": "2025-08-22T05:31:36.241Z"
   },
   {
    "duration": 526,
    "start_time": "2025-08-22T05:31:46.774Z"
   },
   {
    "duration": 4,
    "start_time": "2025-08-22T05:31:49.034Z"
   },
   {
    "duration": 530,
    "start_time": "2025-08-22T05:32:22.679Z"
   },
   {
    "duration": 4,
    "start_time": "2025-08-22T05:32:24.931Z"
   },
   {
    "duration": 10,
    "start_time": "2025-08-22T05:32:37.678Z"
   },
   {
    "duration": 30,
    "start_time": "2025-08-22T05:33:03.057Z"
   },
   {
    "duration": 4,
    "start_time": "2025-08-22T05:33:13.398Z"
   },
   {
    "duration": 536,
    "start_time": "2025-08-22T05:35:47.165Z"
   },
   {
    "duration": 3,
    "start_time": "2025-08-22T05:35:49.018Z"
   },
   {
    "duration": 36,
    "start_time": "2025-08-22T05:35:56.838Z"
   },
   {
    "duration": 53,
    "start_time": "2025-08-22T05:41:07.185Z"
   },
   {
    "duration": 293,
    "start_time": "2025-08-22T05:50:41.938Z"
   },
   {
    "duration": 9,
    "start_time": "2025-08-22T05:50:45.551Z"
   },
   {
    "duration": 199,
    "start_time": "2025-08-22T05:51:57.640Z"
   },
   {
    "duration": 9,
    "start_time": "2025-08-22T05:51:58.326Z"
   },
   {
    "duration": 184,
    "start_time": "2025-08-22T05:52:02.368Z"
   },
   {
    "duration": 9,
    "start_time": "2025-08-22T05:52:04.729Z"
   },
   {
    "duration": 190,
    "start_time": "2025-08-22T05:52:21.480Z"
   },
   {
    "duration": 7,
    "start_time": "2025-08-22T05:52:27.163Z"
   },
   {
    "duration": 194,
    "start_time": "2025-08-22T05:57:53.910Z"
   },
   {
    "duration": 9,
    "start_time": "2025-08-22T05:57:58.425Z"
   },
   {
    "duration": 4,
    "start_time": "2025-08-22T06:02:51.374Z"
   },
   {
    "duration": 10,
    "start_time": "2025-08-22T06:05:09.070Z"
   },
   {
    "duration": 10,
    "start_time": "2025-08-22T06:05:19.175Z"
   },
   {
    "duration": 439,
    "start_time": "2025-08-22T06:05:56.364Z"
   },
   {
    "duration": 562,
    "start_time": "2025-08-22T06:05:57.390Z"
   },
   {
    "duration": 818,
    "start_time": "2025-08-22T06:14:29.992Z"
   },
   {
    "duration": 684,
    "start_time": "2025-08-22T06:14:54.699Z"
   },
   {
    "duration": 534,
    "start_time": "2025-08-22T06:15:13.722Z"
   },
   {
    "duration": 5,
    "start_time": "2025-08-22T06:17:08.992Z"
   },
   {
    "duration": 11,
    "start_time": "2025-08-22T06:17:13.060Z"
   },
   {
    "duration": 497,
    "start_time": "2025-08-22T06:19:46.621Z"
   },
   {
    "duration": 486,
    "start_time": "2025-08-22T06:19:51.950Z"
   },
   {
    "duration": 532,
    "start_time": "2025-08-22T06:20:04.234Z"
   },
   {
    "duration": 659,
    "start_time": "2025-08-22T06:21:03.445Z"
   },
   {
    "duration": 539,
    "start_time": "2025-08-22T06:22:21.966Z"
   },
   {
    "duration": 542,
    "start_time": "2025-08-22T06:22:32.401Z"
   },
   {
    "duration": 514,
    "start_time": "2025-08-22T06:23:05.561Z"
   },
   {
    "duration": 534,
    "start_time": "2025-08-22T06:23:48.835Z"
   },
   {
    "duration": 522,
    "start_time": "2025-08-22T06:24:14.563Z"
   },
   {
    "duration": 11,
    "start_time": "2025-08-22T06:44:25.921Z"
   },
   {
    "duration": 261,
    "start_time": "2025-08-22T06:45:33.478Z"
   },
   {
    "duration": 244,
    "start_time": "2025-08-22T06:46:25.145Z"
   },
   {
    "duration": 96,
    "start_time": "2025-08-22T06:49:53.339Z"
   },
   {
    "duration": 202,
    "start_time": "2025-08-22T06:52:37.663Z"
   },
   {
    "duration": 284,
    "start_time": "2025-08-22T06:53:03.820Z"
   },
   {
    "duration": 190,
    "start_time": "2025-08-22T06:53:14.103Z"
   },
   {
    "duration": 203,
    "start_time": "2025-08-22T06:53:46.297Z"
   },
   {
    "duration": 190,
    "start_time": "2025-08-22T06:53:54.492Z"
   },
   {
    "duration": 216,
    "start_time": "2025-08-22T06:54:01.530Z"
   },
   {
    "duration": 211,
    "start_time": "2025-08-22T06:54:05.356Z"
   },
   {
    "duration": 195,
    "start_time": "2025-08-22T06:54:26.831Z"
   },
   {
    "duration": 174,
    "start_time": "2025-08-22T06:55:41.151Z"
   },
   {
    "duration": 3,
    "start_time": "2025-08-22T06:58:34.356Z"
   },
   {
    "duration": 52,
    "start_time": "2025-08-22T06:59:23.180Z"
   },
   {
    "duration": 17,
    "start_time": "2025-08-22T06:59:44.762Z"
   },
   {
    "duration": 4,
    "start_time": "2025-08-22T07:00:49.004Z"
   },
   {
    "duration": 35,
    "start_time": "2025-08-22T07:01:07.792Z"
   },
   {
    "duration": 5,
    "start_time": "2025-08-22T07:01:09.031Z"
   },
   {
    "duration": 37,
    "start_time": "2025-08-22T07:01:13.424Z"
   },
   {
    "duration": 18,
    "start_time": "2025-08-22T07:01:16.149Z"
   },
   {
    "duration": 1363,
    "start_time": "2025-08-22T07:01:31.457Z"
   },
   {
    "duration": 28,
    "start_time": "2025-08-22T07:01:44.642Z"
   },
   {
    "duration": 38,
    "start_time": "2025-08-22T07:02:09.879Z"
   },
   {
    "duration": 9,
    "start_time": "2025-08-22T07:05:16.862Z"
   },
   {
    "duration": 4,
    "start_time": "2025-08-22T07:05:19.636Z"
   },
   {
    "duration": 10,
    "start_time": "2025-08-22T07:05:21.319Z"
   },
   {
    "duration": 18,
    "start_time": "2025-08-22T07:05:26.320Z"
   },
   {
    "duration": 244,
    "start_time": "2025-08-22T07:14:08.909Z"
   },
   {
    "duration": 11,
    "start_time": "2025-08-22T07:16:15.462Z"
   },
   {
    "duration": 244,
    "start_time": "2025-08-22T07:16:21.167Z"
   },
   {
    "duration": 4,
    "start_time": "2025-08-22T07:16:23.763Z"
   },
   {
    "duration": 10,
    "start_time": "2025-08-22T07:19:10.514Z"
   },
   {
    "duration": 524,
    "start_time": "2025-08-22T07:20:47.835Z"
   },
   {
    "duration": 918,
    "start_time": "2025-08-23T04:48:51.671Z"
   },
   {
    "duration": 17,
    "start_time": "2025-08-23T04:59:45.588Z"
   },
   {
    "duration": 8,
    "start_time": "2025-08-23T05:06:07.846Z"
   },
   {
    "duration": 407,
    "start_time": "2025-08-23T05:06:28.642Z"
   },
   {
    "duration": 2388,
    "start_time": "2025-08-23T05:06:29.051Z"
   },
   {
    "duration": 17,
    "start_time": "2025-08-23T05:06:31.441Z"
   },
   {
    "duration": 551,
    "start_time": "2025-08-23T05:06:31.460Z"
   },
   {
    "duration": 43,
    "start_time": "2025-08-23T05:06:32.013Z"
   },
   {
    "duration": 208,
    "start_time": "2025-08-23T05:06:32.058Z"
   },
   {
    "duration": 406,
    "start_time": "2025-08-23T05:06:32.268Z"
   },
   {
    "duration": 608,
    "start_time": "2025-08-23T05:06:32.676Z"
   },
   {
    "duration": 6,
    "start_time": "2025-08-23T05:06:33.285Z"
   },
   {
    "duration": 575,
    "start_time": "2025-08-23T05:06:33.292Z"
   },
   {
    "duration": 266,
    "start_time": "2025-08-23T05:06:33.869Z"
   },
   {
    "duration": 234,
    "start_time": "2025-08-23T05:06:34.139Z"
   },
   {
    "duration": 4,
    "start_time": "2025-08-23T05:06:34.374Z"
   },
   {
    "duration": 43,
    "start_time": "2025-08-23T05:06:34.381Z"
   },
   {
    "duration": 306,
    "start_time": "2025-08-23T05:06:34.426Z"
   },
   {
    "duration": 6,
    "start_time": "2025-08-23T05:06:34.734Z"
   },
   {
    "duration": 501,
    "start_time": "2025-08-23T05:06:34.741Z"
   },
   {
    "duration": 424,
    "start_time": "2025-08-23T05:06:35.244Z"
   },
   {
    "duration": 180,
    "start_time": "2025-08-23T05:06:35.669Z"
   },
   {
    "duration": 258,
    "start_time": "2025-08-23T05:06:35.851Z"
   },
   {
    "duration": 0,
    "start_time": "2025-08-23T05:06:36.111Z"
   },
   {
    "duration": 9,
    "start_time": "2025-08-23T05:06:53.964Z"
   },
   {
    "duration": 9,
    "start_time": "2025-08-23T05:07:00.664Z"
   },
   {
    "duration": 167,
    "start_time": "2025-08-23T05:07:55.744Z"
   },
   {
    "duration": 166,
    "start_time": "2025-08-23T05:08:59.280Z"
   },
   {
    "duration": 178,
    "start_time": "2025-08-23T05:10:36.924Z"
   },
   {
    "duration": 177,
    "start_time": "2025-08-23T05:11:00.644Z"
   },
   {
    "duration": 171,
    "start_time": "2025-08-23T05:12:07.995Z"
   },
   {
    "duration": 61,
    "start_time": "2025-08-23T05:13:18.808Z"
   },
   {
    "duration": 7,
    "start_time": "2025-08-23T05:14:35.995Z"
   },
   {
    "duration": 5,
    "start_time": "2025-08-23T05:15:16.799Z"
   },
   {
    "duration": 4,
    "start_time": "2025-08-23T05:26:37.349Z"
   },
   {
    "duration": 8,
    "start_time": "2025-08-23T05:26:41.870Z"
   },
   {
    "duration": 8,
    "start_time": "2025-08-23T05:32:34.814Z"
   },
   {
    "duration": 5,
    "start_time": "2025-08-23T05:32:44.838Z"
   },
   {
    "duration": 4,
    "start_time": "2025-08-23T05:33:46.655Z"
   },
   {
    "duration": 4,
    "start_time": "2025-08-23T05:33:50.660Z"
   },
   {
    "duration": 4,
    "start_time": "2025-08-23T05:34:10.675Z"
   },
   {
    "duration": 4,
    "start_time": "2025-08-23T05:34:18.017Z"
   },
   {
    "duration": 3,
    "start_time": "2025-08-23T05:35:01.284Z"
   },
   {
    "duration": 5,
    "start_time": "2025-08-23T05:35:02.151Z"
   },
   {
    "duration": 4,
    "start_time": "2025-08-23T05:35:08.155Z"
   },
   {
    "duration": 4,
    "start_time": "2025-08-23T05:35:10.353Z"
   },
   {
    "duration": 5,
    "start_time": "2025-08-23T05:36:46.447Z"
   },
   {
    "duration": 119,
    "start_time": "2025-08-23T05:39:06.869Z"
   },
   {
    "duration": 114,
    "start_time": "2025-08-23T05:39:20.614Z"
   },
   {
    "duration": 197,
    "start_time": "2025-08-23T05:42:14.689Z"
   },
   {
    "duration": 130,
    "start_time": "2025-08-23T05:43:45.137Z"
   },
   {
    "duration": 118,
    "start_time": "2025-08-23T05:43:50.001Z"
   },
   {
    "duration": 141,
    "start_time": "2025-08-23T05:44:07.451Z"
   },
   {
    "duration": 149,
    "start_time": "2025-08-23T05:44:13.104Z"
   },
   {
    "duration": 119,
    "start_time": "2025-08-23T05:44:25.266Z"
   },
   {
    "duration": 122,
    "start_time": "2025-08-23T05:46:40.717Z"
   },
   {
    "duration": 115,
    "start_time": "2025-08-23T05:50:04.112Z"
   },
   {
    "duration": 130,
    "start_time": "2025-08-23T05:50:12.769Z"
   },
   {
    "duration": 120,
    "start_time": "2025-08-23T05:50:28.593Z"
   },
   {
    "duration": 127,
    "start_time": "2025-08-23T05:50:34.949Z"
   },
   {
    "duration": 227,
    "start_time": "2025-08-23T05:51:29.158Z"
   },
   {
    "duration": 8,
    "start_time": "2025-08-23T05:58:11.743Z"
   },
   {
    "duration": 8,
    "start_time": "2025-08-23T05:59:01.323Z"
   },
   {
    "duration": 7,
    "start_time": "2025-08-23T05:59:26.220Z"
   },
   {
    "duration": 8,
    "start_time": "2025-08-23T05:59:44.043Z"
   },
   {
    "duration": 5,
    "start_time": "2025-08-23T06:09:31.665Z"
   },
   {
    "duration": 5,
    "start_time": "2025-08-23T06:09:37.178Z"
   },
   {
    "duration": 7,
    "start_time": "2025-08-23T06:10:25.663Z"
   },
   {
    "duration": 8,
    "start_time": "2025-08-23T06:11:08.416Z"
   },
   {
    "duration": 7,
    "start_time": "2025-08-23T06:12:39.120Z"
   },
   {
    "duration": 5,
    "start_time": "2025-08-23T06:12:55.094Z"
   },
   {
    "duration": 4,
    "start_time": "2025-08-23T06:13:06.616Z"
   },
   {
    "duration": 5,
    "start_time": "2025-08-23T06:13:31.088Z"
   },
   {
    "duration": 11,
    "start_time": "2025-08-23T06:14:18.976Z"
   },
   {
    "duration": 9,
    "start_time": "2025-08-23T06:16:20.818Z"
   },
   {
    "duration": 7,
    "start_time": "2025-08-23T06:16:26.131Z"
   },
   {
    "duration": 7,
    "start_time": "2025-08-23T06:16:28.554Z"
   },
   {
    "duration": 6,
    "start_time": "2025-08-23T06:16:46.583Z"
   },
   {
    "duration": 8,
    "start_time": "2025-08-23T06:17:01.133Z"
   },
   {
    "duration": 10,
    "start_time": "2025-08-23T06:17:25.304Z"
   },
   {
    "duration": 11,
    "start_time": "2025-08-23T06:17:30.292Z"
   },
   {
    "duration": 7,
    "start_time": "2025-08-23T06:18:13.782Z"
   },
   {
    "duration": 8,
    "start_time": "2025-08-23T06:18:20.715Z"
   },
   {
    "duration": 12,
    "start_time": "2025-08-23T06:18:56.426Z"
   },
   {
    "duration": 13,
    "start_time": "2025-08-23T06:19:02.264Z"
   },
   {
    "duration": 8,
    "start_time": "2025-08-23T06:19:06.407Z"
   },
   {
    "duration": 8,
    "start_time": "2025-08-23T06:19:10.350Z"
   },
   {
    "duration": 11,
    "start_time": "2025-08-23T06:19:37.385Z"
   },
   {
    "duration": 9,
    "start_time": "2025-08-23T06:20:43.944Z"
   },
   {
    "duration": 9,
    "start_time": "2025-08-23T06:20:45.757Z"
   },
   {
    "duration": 8,
    "start_time": "2025-08-23T06:27:15.594Z"
   },
   {
    "duration": 7,
    "start_time": "2025-08-23T06:27:20.371Z"
   },
   {
    "duration": 9,
    "start_time": "2025-08-23T06:27:57.370Z"
   },
   {
    "duration": 9,
    "start_time": "2025-08-23T06:27:58.751Z"
   },
   {
    "duration": 6,
    "start_time": "2025-08-23T06:28:01.637Z"
   },
   {
    "duration": 8,
    "start_time": "2025-08-23T06:28:02.425Z"
   },
   {
    "duration": 346,
    "start_time": "2025-08-23T06:29:10.612Z"
   },
   {
    "duration": 150,
    "start_time": "2025-08-23T06:29:18.855Z"
   },
   {
    "duration": 154,
    "start_time": "2025-08-23T06:29:27.176Z"
   },
   {
    "duration": 148,
    "start_time": "2025-08-23T06:29:42.415Z"
   },
   {
    "duration": 144,
    "start_time": "2025-08-23T06:30:20.297Z"
   },
   {
    "duration": 173,
    "start_time": "2025-08-23T06:30:27.304Z"
   },
   {
    "duration": 193,
    "start_time": "2025-08-23T06:30:31.146Z"
   },
   {
    "duration": 7,
    "start_time": "2025-08-23T06:31:27.376Z"
   },
   {
    "duration": 13,
    "start_time": "2025-08-23T06:31:40.237Z"
   },
   {
    "duration": 8,
    "start_time": "2025-08-23T06:31:47.852Z"
   },
   {
    "duration": 7,
    "start_time": "2025-08-23T06:32:44.255Z"
   },
   {
    "duration": 19,
    "start_time": "2025-08-23T06:32:45.337Z"
   },
   {
    "duration": 6,
    "start_time": "2025-08-23T06:32:50.724Z"
   },
   {
    "duration": 181,
    "start_time": "2025-08-23T06:32:53.413Z"
   },
   {
    "duration": 7,
    "start_time": "2025-08-23T07:28:57.878Z"
   },
   {
    "duration": 12,
    "start_time": "2025-08-23T07:28:59.428Z"
   },
   {
    "duration": 6,
    "start_time": "2025-08-23T07:31:48.735Z"
   },
   {
    "duration": 7,
    "start_time": "2025-08-23T07:31:56.322Z"
   },
   {
    "duration": 10,
    "start_time": "2025-08-23T07:31:56.725Z"
   },
   {
    "duration": 5,
    "start_time": "2025-08-23T07:31:57.347Z"
   },
   {
    "duration": 9,
    "start_time": "2025-08-23T07:32:07.986Z"
   },
   {
    "duration": 10,
    "start_time": "2025-08-23T07:33:12.219Z"
   },
   {
    "duration": 10,
    "start_time": "2025-08-23T07:33:21.954Z"
   },
   {
    "duration": 5,
    "start_time": "2025-08-23T07:33:40.949Z"
   },
   {
    "duration": 8,
    "start_time": "2025-08-23T07:33:45.830Z"
   },
   {
    "duration": 6,
    "start_time": "2025-08-23T07:34:00.480Z"
   },
   {
    "duration": 8,
    "start_time": "2025-08-23T07:34:01.163Z"
   },
   {
    "duration": 7,
    "start_time": "2025-08-23T07:34:04.337Z"
   },
   {
    "duration": 13,
    "start_time": "2025-08-23T07:36:21.381Z"
   },
   {
    "duration": 8,
    "start_time": "2025-08-23T07:36:41.211Z"
   },
   {
    "duration": 7,
    "start_time": "2025-08-23T07:36:46.235Z"
   },
   {
    "duration": 151,
    "start_time": "2025-08-23T07:36:54.137Z"
   },
   {
    "duration": 168,
    "start_time": "2025-08-23T07:37:24.803Z"
   },
   {
    "duration": 244,
    "start_time": "2025-08-23T07:37:35.077Z"
   },
   {
    "duration": 157,
    "start_time": "2025-08-23T07:52:04.860Z"
   },
   {
    "duration": 174,
    "start_time": "2025-08-23T07:53:52.486Z"
   },
   {
    "duration": 169,
    "start_time": "2025-08-23T07:54:09.125Z"
   },
   {
    "duration": 187,
    "start_time": "2025-08-23T07:58:53.736Z"
   },
   {
    "duration": 167,
    "start_time": "2025-08-23T07:59:34.959Z"
   },
   {
    "duration": 86,
    "start_time": "2025-08-23T08:04:08.289Z"
   },
   {
    "duration": 94,
    "start_time": "2025-08-23T08:05:02.264Z"
   },
   {
    "duration": 197,
    "start_time": "2025-08-23T08:05:17.743Z"
   },
   {
    "duration": 236,
    "start_time": "2025-08-23T08:05:25.721Z"
   },
   {
    "duration": 87,
    "start_time": "2025-08-23T08:05:36.176Z"
   },
   {
    "duration": 97,
    "start_time": "2025-08-23T08:05:41.733Z"
   },
   {
    "duration": 283,
    "start_time": "2025-08-23T08:06:44.829Z"
   },
   {
    "duration": 289,
    "start_time": "2025-08-23T08:08:20.444Z"
   },
   {
    "duration": 8,
    "start_time": "2025-08-23T08:10:55.630Z"
   },
   {
    "duration": 7,
    "start_time": "2025-08-23T08:11:00.730Z"
   },
   {
    "duration": 10,
    "start_time": "2025-08-23T08:12:10.530Z"
   },
   {
    "duration": 8,
    "start_time": "2025-08-23T08:12:43.457Z"
   },
   {
    "duration": 182,
    "start_time": "2025-08-23T08:15:09.707Z"
   },
   {
    "duration": 177,
    "start_time": "2025-08-23T08:50:07.931Z"
   },
   {
    "duration": 308,
    "start_time": "2025-08-23T08:50:19.094Z"
   },
   {
    "duration": 179,
    "start_time": "2025-08-23T08:50:27.875Z"
   },
   {
    "duration": 213,
    "start_time": "2025-08-23T08:50:47.540Z"
   },
   {
    "duration": 161,
    "start_time": "2025-08-23T08:50:59.294Z"
   },
   {
    "duration": 158,
    "start_time": "2025-08-23T08:51:17.819Z"
   },
   {
    "duration": 189,
    "start_time": "2025-08-23T08:52:59.913Z"
   },
   {
    "duration": 163,
    "start_time": "2025-08-23T08:53:20.677Z"
   },
   {
    "duration": 278,
    "start_time": "2025-08-23T08:53:27.856Z"
   },
   {
    "duration": 171,
    "start_time": "2025-08-23T08:54:04.226Z"
   },
   {
    "duration": 166,
    "start_time": "2025-08-23T08:54:14.869Z"
   },
   {
    "duration": 7,
    "start_time": "2025-08-23T08:54:47.810Z"
   },
   {
    "duration": 7,
    "start_time": "2025-08-23T08:54:56.805Z"
   },
   {
    "duration": 174,
    "start_time": "2025-08-23T08:55:12.165Z"
   },
   {
    "duration": 185,
    "start_time": "2025-08-23T08:56:41.758Z"
   },
   {
    "duration": 175,
    "start_time": "2025-08-23T08:57:04.144Z"
   },
   {
    "duration": 173,
    "start_time": "2025-08-23T08:59:00.619Z"
   },
   {
    "duration": 183,
    "start_time": "2025-08-23T08:59:46.823Z"
   },
   {
    "duration": 8,
    "start_time": "2025-08-23T09:00:03.530Z"
   },
   {
    "duration": 189,
    "start_time": "2025-08-23T09:00:03.882Z"
   },
   {
    "duration": 187,
    "start_time": "2025-08-23T09:00:44.430Z"
   },
   {
    "duration": 189,
    "start_time": "2025-08-23T09:00:53.118Z"
   },
   {
    "duration": 585,
    "start_time": "2025-08-23T09:06:09.110Z"
   },
   {
    "duration": 508,
    "start_time": "2025-08-23T09:06:54.052Z"
   },
   {
    "duration": 225,
    "start_time": "2025-08-23T09:11:37.550Z"
   },
   {
    "duration": 3,
    "start_time": "2025-08-23T09:12:07.219Z"
   },
   {
    "duration": 2,
    "start_time": "2025-08-23T09:12:12.854Z"
   },
   {
    "duration": 3,
    "start_time": "2025-08-23T09:12:17.523Z"
   },
   {
    "duration": 2,
    "start_time": "2025-08-23T09:12:47.493Z"
   },
   {
    "duration": 944,
    "start_time": "2025-08-23T09:14:07.195Z"
   },
   {
    "duration": 4,
    "start_time": "2025-08-23T09:16:18.077Z"
   },
   {
    "duration": 545,
    "start_time": "2025-08-23T09:16:18.354Z"
   },
   {
    "duration": 522,
    "start_time": "2025-08-23T09:17:49.092Z"
   },
   {
    "duration": 603,
    "start_time": "2025-08-23T09:23:47.575Z"
   },
   {
    "duration": 564,
    "start_time": "2025-08-23T09:26:22.565Z"
   },
   {
    "duration": 230,
    "start_time": "2025-08-23T09:27:08.889Z"
   },
   {
    "duration": 292,
    "start_time": "2025-08-23T09:27:34.961Z"
   },
   {
    "duration": 188,
    "start_time": "2025-08-23T09:28:29.246Z"
   },
   {
    "duration": 10,
    "start_time": "2025-08-23T09:32:01.671Z"
   },
   {
    "duration": 9,
    "start_time": "2025-08-23T09:32:14.271Z"
   },
   {
    "duration": 237,
    "start_time": "2025-08-23T09:32:18.209Z"
   },
   {
    "duration": 4,
    "start_time": "2025-08-23T09:33:56.516Z"
   },
   {
    "duration": 571,
    "start_time": "2025-08-23T09:33:58.833Z"
   },
   {
    "duration": 621,
    "start_time": "2025-08-23T09:35:17.191Z"
   },
   {
    "duration": 600,
    "start_time": "2025-08-23T09:35:31.998Z"
   },
   {
    "duration": 577,
    "start_time": "2025-08-23T09:35:40.481Z"
   },
   {
    "duration": 541,
    "start_time": "2025-08-23T09:36:13.848Z"
   },
   {
    "duration": 568,
    "start_time": "2025-08-23T09:36:23.522Z"
   },
   {
    "duration": 675,
    "start_time": "2025-08-23T09:36:29.785Z"
   },
   {
    "duration": 8,
    "start_time": "2025-08-23T09:48:16.395Z"
   },
   {
    "duration": 11,
    "start_time": "2025-08-23T09:48:54.866Z"
   },
   {
    "duration": 11,
    "start_time": "2025-08-23T09:50:02.681Z"
   },
   {
    "duration": 299,
    "start_time": "2025-08-23T09:50:10.143Z"
   },
   {
    "duration": 191,
    "start_time": "2025-08-23T09:51:01.732Z"
   },
   {
    "duration": 319,
    "start_time": "2025-08-23T09:51:07.035Z"
   },
   {
    "duration": 8,
    "start_time": "2025-08-23T09:53:28.556Z"
   },
   {
    "duration": 8,
    "start_time": "2025-08-23T09:53:31.694Z"
   },
   {
    "duration": 10,
    "start_time": "2025-08-23T09:53:31.861Z"
   },
   {
    "duration": 8,
    "start_time": "2025-08-23T09:53:32.209Z"
   },
   {
    "duration": 206,
    "start_time": "2025-08-23T09:53:44.542Z"
   },
   {
    "duration": 350,
    "start_time": "2025-08-23T09:53:53.915Z"
   },
   {
    "duration": 6,
    "start_time": "2025-08-23T09:56:49.598Z"
   },
   {
    "duration": 6,
    "start_time": "2025-08-23T09:56:56.613Z"
   },
   {
    "duration": 46,
    "start_time": "2025-08-24T20:24:18.877Z"
   },
   {
    "duration": 417,
    "start_time": "2025-08-24T20:24:45.622Z"
   },
   {
    "duration": 1668,
    "start_time": "2025-08-24T20:24:46.041Z"
   },
   {
    "duration": 18,
    "start_time": "2025-08-24T20:24:47.710Z"
   },
   {
    "duration": 558,
    "start_time": "2025-08-24T20:24:47.730Z"
   },
   {
    "duration": 535,
    "start_time": "2025-08-24T20:24:48.289Z"
   },
   {
    "duration": 43,
    "start_time": "2025-08-24T20:24:48.825Z"
   },
   {
    "duration": 201,
    "start_time": "2025-08-24T20:24:48.869Z"
   },
   {
    "duration": 396,
    "start_time": "2025-08-24T20:24:49.072Z"
   },
   {
    "duration": 836,
    "start_time": "2025-08-24T20:24:49.470Z"
   },
   {
    "duration": 4,
    "start_time": "2025-08-24T20:24:50.308Z"
   },
   {
    "duration": 599,
    "start_time": "2025-08-24T20:24:50.313Z"
   },
   {
    "duration": 269,
    "start_time": "2025-08-24T20:24:50.914Z"
   },
   {
    "duration": 176,
    "start_time": "2025-08-24T20:24:51.185Z"
   },
   {
    "duration": 13,
    "start_time": "2025-08-24T20:24:51.362Z"
   },
   {
    "duration": 248,
    "start_time": "2025-08-24T20:24:51.377Z"
   },
   {
    "duration": 4,
    "start_time": "2025-08-24T20:24:51.627Z"
   },
   {
    "duration": 536,
    "start_time": "2025-08-24T20:24:51.638Z"
   },
   {
    "duration": 510,
    "start_time": "2025-08-24T20:24:52.176Z"
   },
   {
    "duration": 175,
    "start_time": "2025-08-24T20:24:52.688Z"
   },
   {
    "duration": 175,
    "start_time": "2025-08-24T20:24:52.865Z"
   },
   {
    "duration": 55,
    "start_time": "2025-08-24T20:24:53.042Z"
   },
   {
    "duration": 8,
    "start_time": "2025-08-24T20:24:53.099Z"
   },
   {
    "duration": 15,
    "start_time": "2025-08-24T20:24:53.108Z"
   },
   {
    "duration": 121,
    "start_time": "2025-08-24T20:24:53.124Z"
   },
   {
    "duration": 6,
    "start_time": "2025-08-24T20:24:53.247Z"
   },
   {
    "duration": 26,
    "start_time": "2025-08-24T20:24:53.255Z"
   },
   {
    "duration": 10,
    "start_time": "2025-08-24T20:24:53.283Z"
   },
   {
    "duration": 12,
    "start_time": "2025-08-24T20:24:53.297Z"
   },
   {
    "duration": 350,
    "start_time": "2025-08-24T20:24:53.311Z"
   },
   {
    "duration": 7,
    "start_time": "2025-08-24T20:24:53.663Z"
   },
   {
    "duration": 9,
    "start_time": "2025-08-24T20:24:53.672Z"
   },
   {
    "duration": 13,
    "start_time": "2025-08-24T20:24:53.682Z"
   },
   {
    "duration": 347,
    "start_time": "2025-08-24T20:24:53.697Z"
   },
   {
    "duration": 480,
    "start_time": "2025-08-24T20:24:54.046Z"
   },
   {
    "duration": 5,
    "start_time": "2025-08-24T20:25:30.640Z"
   },
   {
    "duration": 12,
    "start_time": "2025-08-24T20:27:41.867Z"
   },
   {
    "duration": 52,
    "start_time": "2025-08-24T20:28:35.673Z"
   },
   {
    "duration": 41,
    "start_time": "2025-08-24T20:32:17.870Z"
   },
   {
    "duration": 61,
    "start_time": "2025-08-24T20:32:25.826Z"
   },
   {
    "duration": 5,
    "start_time": "2025-08-24T20:32:29.844Z"
   },
   {
    "duration": 43,
    "start_time": "2025-08-24T20:32:59.592Z"
   },
   {
    "duration": 9,
    "start_time": "2025-08-24T20:33:02.099Z"
   },
   {
    "duration": 5,
    "start_time": "2025-08-24T20:37:10.490Z"
   },
   {
    "duration": 7,
    "start_time": "2025-08-24T20:37:28.821Z"
   },
   {
    "duration": 7,
    "start_time": "2025-08-24T20:38:13.258Z"
   },
   {
    "duration": 7,
    "start_time": "2025-08-24T20:41:36.073Z"
   },
   {
    "duration": 5,
    "start_time": "2025-08-24T20:41:42.515Z"
   },
   {
    "duration": 7,
    "start_time": "2025-08-24T20:41:50.745Z"
   },
   {
    "duration": 453,
    "start_time": "2025-08-25T03:57:14.613Z"
   },
   {
    "duration": 1973,
    "start_time": "2025-08-25T03:57:15.068Z"
   },
   {
    "duration": 19,
    "start_time": "2025-08-25T03:57:17.043Z"
   },
   {
    "duration": 699,
    "start_time": "2025-08-25T03:57:17.063Z"
   },
   {
    "duration": 649,
    "start_time": "2025-08-25T03:57:17.765Z"
   },
   {
    "duration": 47,
    "start_time": "2025-08-25T03:57:18.416Z"
   },
   {
    "duration": 248,
    "start_time": "2025-08-25T03:57:18.465Z"
   },
   {
    "duration": 504,
    "start_time": "2025-08-25T03:57:18.715Z"
   },
   {
    "duration": 978,
    "start_time": "2025-08-25T03:57:19.221Z"
   },
   {
    "duration": 4,
    "start_time": "2025-08-25T03:57:20.201Z"
   },
   {
    "duration": 726,
    "start_time": "2025-08-25T03:57:20.207Z"
   },
   {
    "duration": 299,
    "start_time": "2025-08-25T03:57:20.935Z"
   },
   {
    "duration": 220,
    "start_time": "2025-08-25T03:57:21.235Z"
   },
   {
    "duration": 16,
    "start_time": "2025-08-25T03:57:21.458Z"
   },
   {
    "duration": 305,
    "start_time": "2025-08-25T03:57:21.476Z"
   },
   {
    "duration": 4,
    "start_time": "2025-08-25T03:57:21.782Z"
   },
   {
    "duration": 598,
    "start_time": "2025-08-25T03:57:21.788Z"
   },
   {
    "duration": 569,
    "start_time": "2025-08-25T03:57:22.388Z"
   },
   {
    "duration": 228,
    "start_time": "2025-08-25T03:57:22.959Z"
   },
   {
    "duration": 213,
    "start_time": "2025-08-25T03:57:23.189Z"
   },
   {
    "duration": 69,
    "start_time": "2025-08-25T03:57:23.404Z"
   },
   {
    "duration": 6,
    "start_time": "2025-08-25T03:57:23.475Z"
   },
   {
    "duration": 42,
    "start_time": "2025-08-25T03:57:23.482Z"
   },
   {
    "duration": 172,
    "start_time": "2025-08-25T03:57:23.526Z"
   },
   {
    "duration": 9,
    "start_time": "2025-08-25T03:57:23.701Z"
   },
   {
    "duration": 9,
    "start_time": "2025-08-25T03:57:23.712Z"
   },
   {
    "duration": 27,
    "start_time": "2025-08-25T03:57:23.722Z"
   },
   {
    "duration": 7,
    "start_time": "2025-08-25T03:57:23.752Z"
   },
   {
    "duration": 422,
    "start_time": "2025-08-25T03:57:23.761Z"
   },
   {
    "duration": 7,
    "start_time": "2025-08-25T03:57:24.185Z"
   },
   {
    "duration": 75,
    "start_time": "2025-08-25T03:57:24.194Z"
   },
   {
    "duration": 8,
    "start_time": "2025-08-25T03:57:24.271Z"
   },
   {
    "duration": 381,
    "start_time": "2025-08-25T03:57:24.280Z"
   },
   {
    "duration": 528,
    "start_time": "2025-08-25T03:57:24.662Z"
   },
   {
    "duration": 9,
    "start_time": "2025-08-25T03:57:25.191Z"
   },
   {
    "duration": 56,
    "start_time": "2025-08-25T03:57:25.203Z"
   },
   {
    "duration": 102,
    "start_time": "2025-08-25T03:57:25.261Z"
   },
   {
    "duration": 10,
    "start_time": "2025-08-25T03:57:25.365Z"
   },
   {
    "duration": 9,
    "start_time": "2025-08-25T03:57:25.376Z"
   },
   {
    "duration": 3,
    "start_time": "2025-08-25T03:57:25.386Z"
   },
   {
    "duration": 5,
    "start_time": "2025-08-25T04:07:00.792Z"
   },
   {
    "duration": 32,
    "start_time": "2025-08-25T04:16:54.179Z"
   },
   {
    "duration": 21,
    "start_time": "2025-08-25T04:17:15.715Z"
   },
   {
    "duration": 134,
    "start_time": "2025-08-25T04:19:09.754Z"
   },
   {
    "duration": 36,
    "start_time": "2025-08-25T04:19:18.696Z"
   },
   {
    "duration": 36,
    "start_time": "2025-08-25T04:19:30.688Z"
   },
   {
    "duration": 35,
    "start_time": "2025-08-25T04:22:57.122Z"
   },
   {
    "duration": 79,
    "start_time": "2025-08-25T04:25:27.113Z"
   },
   {
    "duration": 48,
    "start_time": "2025-08-25T04:26:27.906Z"
   },
   {
    "duration": 48,
    "start_time": "2025-08-25T04:26:39.020Z"
   },
   {
    "duration": 53,
    "start_time": "2025-08-25T04:27:52.591Z"
   },
   {
    "duration": 50,
    "start_time": "2025-08-25T04:28:07.427Z"
   },
   {
    "duration": 49,
    "start_time": "2025-08-25T04:28:07.801Z"
   },
   {
    "duration": 3,
    "start_time": "2025-08-25T04:29:23.900Z"
   },
   {
    "duration": 3,
    "start_time": "2025-08-25T04:29:51.202Z"
   },
   {
    "duration": 3,
    "start_time": "2025-08-25T04:29:56.727Z"
   },
   {
    "duration": 4,
    "start_time": "2025-08-25T04:30:03.683Z"
   },
   {
    "duration": 4,
    "start_time": "2025-08-25T04:30:35.739Z"
   },
   {
    "duration": 9,
    "start_time": "2025-08-25T04:31:26.528Z"
   },
   {
    "duration": 4,
    "start_time": "2025-08-25T04:35:32.798Z"
   },
   {
    "duration": 60,
    "start_time": "2025-08-25T04:45:14.838Z"
   },
   {
    "duration": 6,
    "start_time": "2025-08-25T04:46:46.584Z"
   },
   {
    "duration": 7,
    "start_time": "2025-08-25T04:52:01.633Z"
   },
   {
    "duration": 15,
    "start_time": "2025-08-25T04:58:41.271Z"
   },
   {
    "duration": 440,
    "start_time": "2025-08-25T05:23:34.469Z"
   },
   {
    "duration": 1930,
    "start_time": "2025-08-25T05:23:34.911Z"
   },
   {
    "duration": 20,
    "start_time": "2025-08-25T05:23:36.844Z"
   },
   {
    "duration": 691,
    "start_time": "2025-08-25T05:23:36.865Z"
   },
   {
    "duration": 632,
    "start_time": "2025-08-25T05:23:37.558Z"
   },
   {
    "duration": 63,
    "start_time": "2025-08-25T05:23:38.191Z"
   },
   {
    "duration": 238,
    "start_time": "2025-08-25T05:23:38.256Z"
   },
   {
    "duration": 270,
    "start_time": "2025-08-25T05:23:38.496Z"
   },
   {
    "duration": 900,
    "start_time": "2025-08-25T05:23:38.767Z"
   },
   {
    "duration": 4,
    "start_time": "2025-08-25T05:23:39.668Z"
   },
   {
    "duration": 724,
    "start_time": "2025-08-25T05:23:39.674Z"
   },
   {
    "duration": 281,
    "start_time": "2025-08-25T05:23:40.399Z"
   },
   {
    "duration": 217,
    "start_time": "2025-08-25T05:23:40.682Z"
   },
   {
    "duration": 16,
    "start_time": "2025-08-25T05:23:40.902Z"
   },
   {
    "duration": 304,
    "start_time": "2025-08-25T05:23:40.920Z"
   },
   {
    "duration": 4,
    "start_time": "2025-08-25T05:23:41.225Z"
   },
   {
    "duration": 583,
    "start_time": "2025-08-25T05:23:41.231Z"
   },
   {
    "duration": 495,
    "start_time": "2025-08-25T05:23:41.815Z"
   },
   {
    "duration": 201,
    "start_time": "2025-08-25T05:23:42.312Z"
   },
   {
    "duration": 195,
    "start_time": "2025-08-25T05:23:42.515Z"
   },
   {
    "duration": 63,
    "start_time": "2025-08-25T05:23:42.711Z"
   },
   {
    "duration": 8,
    "start_time": "2025-08-25T05:23:42.776Z"
   },
   {
    "duration": 85,
    "start_time": "2025-08-25T05:23:42.786Z"
   },
   {
    "duration": 214,
    "start_time": "2025-08-25T05:23:42.873Z"
   },
   {
    "duration": 9,
    "start_time": "2025-08-25T05:23:43.088Z"
   },
   {
    "duration": 11,
    "start_time": "2025-08-25T05:23:43.098Z"
   },
   {
    "duration": 27,
    "start_time": "2025-08-25T05:23:43.110Z"
   },
   {
    "duration": 12,
    "start_time": "2025-08-25T05:23:43.138Z"
   },
   {
    "duration": 325,
    "start_time": "2025-08-25T05:23:43.152Z"
   },
   {
    "duration": 8,
    "start_time": "2025-08-25T05:23:43.479Z"
   },
   {
    "duration": 38,
    "start_time": "2025-08-25T05:23:43.489Z"
   },
   {
    "duration": 11,
    "start_time": "2025-08-25T05:23:43.528Z"
   },
   {
    "duration": 348,
    "start_time": "2025-08-25T05:23:43.540Z"
   },
   {
    "duration": 487,
    "start_time": "2025-08-25T05:23:43.890Z"
   },
   {
    "duration": 6,
    "start_time": "2025-08-25T05:23:44.379Z"
   },
   {
    "duration": 49,
    "start_time": "2025-08-25T05:23:44.387Z"
   },
   {
    "duration": 16,
    "start_time": "2025-08-25T05:23:44.438Z"
   },
   {
    "duration": 7,
    "start_time": "2025-08-25T05:23:44.456Z"
   },
   {
    "duration": 5,
    "start_time": "2025-08-25T05:23:44.464Z"
   },
   {
    "duration": 49,
    "start_time": "2025-08-25T05:23:44.471Z"
   },
   {
    "duration": 67,
    "start_time": "2025-08-25T05:23:44.524Z"
   },
   {
    "duration": 4,
    "start_time": "2025-08-25T05:23:44.593Z"
   },
   {
    "duration": 19,
    "start_time": "2025-08-25T05:23:44.598Z"
   },
   {
    "duration": 9,
    "start_time": "2025-08-25T05:23:44.619Z"
   },
   {
    "duration": 426,
    "start_time": "2025-08-25T10:03:46.689Z"
   },
   {
    "duration": 1970,
    "start_time": "2025-08-25T10:03:47.117Z"
   },
   {
    "duration": 16,
    "start_time": "2025-08-25T10:03:49.090Z"
   },
   {
    "duration": 533,
    "start_time": "2025-08-25T10:03:49.107Z"
   },
   {
    "duration": 502,
    "start_time": "2025-08-25T10:03:49.642Z"
   },
   {
    "duration": 56,
    "start_time": "2025-08-25T10:03:50.145Z"
   },
   {
    "duration": 206,
    "start_time": "2025-08-25T10:03:50.203Z"
   },
   {
    "duration": 405,
    "start_time": "2025-08-25T10:03:50.411Z"
   },
   {
    "duration": 875,
    "start_time": "2025-08-25T10:03:50.818Z"
   },
   {
    "duration": 3,
    "start_time": "2025-08-25T10:03:51.695Z"
   },
   {
    "duration": 596,
    "start_time": "2025-08-25T10:03:51.700Z"
   },
   {
    "duration": 243,
    "start_time": "2025-08-25T10:03:52.297Z"
   },
   {
    "duration": 193,
    "start_time": "2025-08-25T10:03:52.542Z"
   },
   {
    "duration": 12,
    "start_time": "2025-08-25T10:03:52.738Z"
   },
   {
    "duration": 240,
    "start_time": "2025-08-25T10:03:52.752Z"
   },
   {
    "duration": 4,
    "start_time": "2025-08-25T10:03:52.993Z"
   },
   {
    "duration": 562,
    "start_time": "2025-08-25T10:03:52.998Z"
   },
   {
    "duration": 541,
    "start_time": "2025-08-25T10:03:53.562Z"
   },
   {
    "duration": 185,
    "start_time": "2025-08-25T10:03:54.107Z"
   },
   {
    "duration": 169,
    "start_time": "2025-08-25T10:03:54.293Z"
   },
   {
    "duration": 96,
    "start_time": "2025-08-25T10:03:54.463Z"
   },
   {
    "duration": 7,
    "start_time": "2025-08-25T10:03:54.560Z"
   },
   {
    "duration": 4,
    "start_time": "2025-08-25T10:03:54.569Z"
   },
   {
    "duration": 124,
    "start_time": "2025-08-25T10:03:54.575Z"
   },
   {
    "duration": 8,
    "start_time": "2025-08-25T10:03:54.701Z"
   },
   {
    "duration": 18,
    "start_time": "2025-08-25T10:03:54.710Z"
   },
   {
    "duration": 10,
    "start_time": "2025-08-25T10:03:54.730Z"
   },
   {
    "duration": 8,
    "start_time": "2025-08-25T10:03:54.742Z"
   },
   {
    "duration": 379,
    "start_time": "2025-08-25T10:03:54.752Z"
   },
   {
    "duration": 7,
    "start_time": "2025-08-25T10:03:55.133Z"
   },
   {
    "duration": 48,
    "start_time": "2025-08-25T10:03:55.142Z"
   },
   {
    "duration": 11,
    "start_time": "2025-08-25T10:03:55.191Z"
   },
   {
    "duration": 354,
    "start_time": "2025-08-25T10:03:55.203Z"
   },
   {
    "duration": 502,
    "start_time": "2025-08-25T10:03:55.559Z"
   },
   {
    "duration": 6,
    "start_time": "2025-08-25T10:03:56.063Z"
   },
   {
    "duration": 56,
    "start_time": "2025-08-25T10:03:56.071Z"
   },
   {
    "duration": 8,
    "start_time": "2025-08-25T10:03:56.129Z"
   },
   {
    "duration": 3,
    "start_time": "2025-08-25T10:03:56.139Z"
   },
   {
    "duration": 6,
    "start_time": "2025-08-25T10:03:56.144Z"
   },
   {
    "duration": 58,
    "start_time": "2025-08-25T10:03:56.151Z"
   },
   {
    "duration": 41,
    "start_time": "2025-08-25T10:03:56.213Z"
   },
   {
    "duration": 3,
    "start_time": "2025-08-25T10:03:56.256Z"
   },
   {
    "duration": 6,
    "start_time": "2025-08-25T10:03:56.260Z"
   },
   {
    "duration": 23,
    "start_time": "2025-08-25T10:03:56.267Z"
   },
   {
    "duration": 560,
    "start_time": "2025-08-25T10:05:16.966Z"
   },
   {
    "duration": 447,
    "start_time": "2025-08-25T10:10:05.074Z"
   },
   {
    "duration": 1480,
    "start_time": "2025-08-25T10:10:05.523Z"
   },
   {
    "duration": 16,
    "start_time": "2025-08-25T10:10:07.005Z"
   },
   {
    "duration": 567,
    "start_time": "2025-08-25T10:10:07.023Z"
   },
   {
    "duration": 517,
    "start_time": "2025-08-25T10:10:07.592Z"
   },
   {
    "duration": 38,
    "start_time": "2025-08-25T10:10:08.111Z"
   },
   {
    "duration": 203,
    "start_time": "2025-08-25T10:10:08.151Z"
   },
   {
    "duration": 239,
    "start_time": "2025-08-25T10:10:08.356Z"
   },
   {
    "duration": 810,
    "start_time": "2025-08-25T10:10:08.597Z"
   },
   {
    "duration": 3,
    "start_time": "2025-08-25T10:10:09.409Z"
   },
   {
    "duration": 611,
    "start_time": "2025-08-25T10:10:09.414Z"
   },
   {
    "duration": 238,
    "start_time": "2025-08-25T10:10:10.027Z"
   },
   {
    "duration": 201,
    "start_time": "2025-08-25T10:10:10.267Z"
   },
   {
    "duration": 18,
    "start_time": "2025-08-25T10:10:10.471Z"
   },
   {
    "duration": 242,
    "start_time": "2025-08-25T10:10:10.491Z"
   },
   {
    "duration": 4,
    "start_time": "2025-08-25T10:10:10.735Z"
   },
   {
    "duration": 557,
    "start_time": "2025-08-25T10:10:10.741Z"
   },
   {
    "duration": 418,
    "start_time": "2025-08-25T10:10:11.301Z"
   },
   {
    "duration": 161,
    "start_time": "2025-08-25T10:10:11.721Z"
   },
   {
    "duration": 164,
    "start_time": "2025-08-25T10:10:11.887Z"
   },
   {
    "duration": 54,
    "start_time": "2025-08-25T10:10:12.053Z"
   },
   {
    "duration": 7,
    "start_time": "2025-08-25T10:10:12.108Z"
   },
   {
    "duration": 4,
    "start_time": "2025-08-25T10:10:12.116Z"
   },
   {
    "duration": 224,
    "start_time": "2025-08-25T10:10:12.121Z"
   },
   {
    "duration": 7,
    "start_time": "2025-08-25T10:10:12.347Z"
   },
   {
    "duration": 7,
    "start_time": "2025-08-25T10:10:12.356Z"
   },
   {
    "duration": 28,
    "start_time": "2025-08-25T10:10:12.364Z"
   },
   {
    "duration": 7,
    "start_time": "2025-08-25T10:10:12.393Z"
   },
   {
    "duration": 298,
    "start_time": "2025-08-25T10:10:12.401Z"
   },
   {
    "duration": 7,
    "start_time": "2025-08-25T10:10:12.700Z"
   },
   {
    "duration": 9,
    "start_time": "2025-08-25T10:10:12.709Z"
   },
   {
    "duration": 107,
    "start_time": "2025-08-25T10:10:12.720Z"
   },
   {
    "duration": 369,
    "start_time": "2025-08-25T10:10:12.829Z"
   },
   {
    "duration": 457,
    "start_time": "2025-08-25T10:10:13.200Z"
   },
   {
    "duration": 6,
    "start_time": "2025-08-25T10:10:13.659Z"
   },
   {
    "duration": 121,
    "start_time": "2025-08-25T10:10:13.667Z"
   },
   {
    "duration": 8,
    "start_time": "2025-08-25T10:10:13.789Z"
   },
   {
    "duration": 3,
    "start_time": "2025-08-25T10:10:13.799Z"
   },
   {
    "duration": 5,
    "start_time": "2025-08-25T10:10:13.804Z"
   },
   {
    "duration": 50,
    "start_time": "2025-08-25T10:10:13.811Z"
   },
   {
    "duration": 56,
    "start_time": "2025-08-25T10:10:13.865Z"
   },
   {
    "duration": 17,
    "start_time": "2025-08-25T10:10:13.923Z"
   },
   {
    "duration": 50,
    "start_time": "2025-08-25T10:10:13.942Z"
   },
   {
    "duration": 7,
    "start_time": "2025-08-25T10:10:13.994Z"
   },
   {
    "duration": 457,
    "start_time": "2025-08-25T19:54:25.751Z"
   },
   {
    "duration": 1963,
    "start_time": "2025-08-25T19:54:26.210Z"
   },
   {
    "duration": 19,
    "start_time": "2025-08-25T19:54:28.175Z"
   },
   {
    "duration": 676,
    "start_time": "2025-08-25T19:54:28.196Z"
   },
   {
    "duration": 651,
    "start_time": "2025-08-25T19:54:28.874Z"
   },
   {
    "duration": 48,
    "start_time": "2025-08-25T19:54:29.527Z"
   },
   {
    "duration": 244,
    "start_time": "2025-08-25T19:54:29.576Z"
   },
   {
    "duration": 475,
    "start_time": "2025-08-25T19:54:29.822Z"
   },
   {
    "duration": 980,
    "start_time": "2025-08-25T19:54:30.299Z"
   },
   {
    "duration": 4,
    "start_time": "2025-08-25T19:54:31.281Z"
   },
   {
    "duration": 703,
    "start_time": "2025-08-25T19:54:31.287Z"
   },
   {
    "duration": 296,
    "start_time": "2025-08-25T19:54:31.992Z"
   },
   {
    "duration": 218,
    "start_time": "2025-08-25T19:54:32.290Z"
   },
   {
    "duration": 16,
    "start_time": "2025-08-25T19:54:32.512Z"
   },
   {
    "duration": 308,
    "start_time": "2025-08-25T19:54:32.530Z"
   },
   {
    "duration": 9,
    "start_time": "2025-08-25T19:54:32.840Z"
   },
   {
    "duration": 615,
    "start_time": "2025-08-25T19:54:32.851Z"
   },
   {
    "duration": 544,
    "start_time": "2025-08-25T19:54:33.468Z"
   },
   {
    "duration": 228,
    "start_time": "2025-08-25T19:54:34.014Z"
   },
   {
    "duration": 197,
    "start_time": "2025-08-25T19:54:38.041Z"
   },
   {
    "duration": 3,
    "start_time": "2025-08-25T19:57:07.274Z"
   },
   {
    "duration": 1942,
    "start_time": "2025-08-25T19:57:07.279Z"
   },
   {
    "duration": 12,
    "start_time": "2025-08-25T19:57:09.223Z"
   },
   {
    "duration": 654,
    "start_time": "2025-08-25T19:57:09.248Z"
   },
   {
    "duration": 608,
    "start_time": "2025-08-25T19:57:09.903Z"
   },
   {
    "duration": 48,
    "start_time": "2025-08-25T19:57:10.513Z"
   },
   {
    "duration": 242,
    "start_time": "2025-08-25T19:57:10.563Z"
   },
   {
    "duration": 4,
    "start_time": "2025-08-25T19:57:10.806Z"
   },
   {
    "duration": 813,
    "start_time": "2025-08-25T19:57:10.813Z"
   },
   {
    "duration": 4,
    "start_time": "2025-08-25T19:57:11.627Z"
   },
   {
    "duration": 643,
    "start_time": "2025-08-25T19:57:11.632Z"
   },
   {
    "duration": 290,
    "start_time": "2025-08-25T19:57:12.277Z"
   },
   {
    "duration": 212,
    "start_time": "2025-08-25T19:57:12.569Z"
   },
   {
    "duration": 15,
    "start_time": "2025-08-25T19:57:12.783Z"
   },
   {
    "duration": 314,
    "start_time": "2025-08-25T19:57:12.800Z"
   },
   {
    "duration": 4,
    "start_time": "2025-08-25T19:57:13.116Z"
   },
   {
    "duration": 624,
    "start_time": "2025-08-25T19:57:13.121Z"
   },
   {
    "duration": 17,
    "start_time": "2025-08-25T19:57:13.748Z"
   },
   {
    "duration": 213,
    "start_time": "2025-08-25T19:57:13.767Z"
   },
   {
    "duration": 202,
    "start_time": "2025-08-25T19:57:13.981Z"
   },
   {
    "duration": 62,
    "start_time": "2025-08-25T19:57:14.185Z"
   },
   {
    "duration": 7,
    "start_time": "2025-08-25T19:57:14.249Z"
   },
   {
    "duration": 5,
    "start_time": "2025-08-25T19:57:14.257Z"
   },
   {
    "duration": 154,
    "start_time": "2025-08-25T19:57:14.265Z"
   },
   {
    "duration": 9,
    "start_time": "2025-08-25T19:57:14.420Z"
   },
   {
    "duration": 20,
    "start_time": "2025-08-25T19:57:14.431Z"
   },
   {
    "duration": 10,
    "start_time": "2025-08-25T19:57:14.453Z"
   },
   {
    "duration": 9,
    "start_time": "2025-08-25T19:57:14.465Z"
   },
   {
    "duration": 517,
    "start_time": "2025-08-25T19:57:14.475Z"
   },
   {
    "duration": 8,
    "start_time": "2025-08-25T19:57:14.993Z"
   },
   {
    "duration": 132,
    "start_time": "2025-08-25T19:57:15.003Z"
   },
   {
    "duration": 102,
    "start_time": "2025-08-25T19:57:15.137Z"
   },
   {
    "duration": 352,
    "start_time": "2025-08-25T19:57:15.241Z"
   },
   {
    "duration": 475,
    "start_time": "2025-08-25T19:57:15.595Z"
   },
   {
    "duration": 6,
    "start_time": "2025-08-25T19:57:16.072Z"
   },
   {
    "duration": 54,
    "start_time": "2025-08-25T19:57:16.080Z"
   },
   {
    "duration": 117,
    "start_time": "2025-08-25T20:01:12.740Z"
   },
   {
    "duration": 19,
    "start_time": "2025-08-25T20:01:28.254Z"
   },
   {
    "duration": 45,
    "start_time": "2025-08-25T20:01:54.738Z"
   },
   {
    "duration": 8,
    "start_time": "2025-08-25T20:01:56.357Z"
   },
   {
    "duration": 3,
    "start_time": "2025-08-25T20:02:45.270Z"
   },
   {
    "duration": 5,
    "start_time": "2025-08-25T20:03:06.159Z"
   },
   {
    "duration": 45,
    "start_time": "2025-08-25T20:03:14.853Z"
   },
   {
    "duration": 8,
    "start_time": "2025-08-25T20:03:15.996Z"
   },
   {
    "duration": 5,
    "start_time": "2025-08-25T20:03:16.590Z"
   },
   {
    "duration": 51,
    "start_time": "2025-08-25T20:05:14.431Z"
   },
   {
    "duration": 67,
    "start_time": "2025-08-25T20:05:15.142Z"
   },
   {
    "duration": 4,
    "start_time": "2025-08-25T20:05:16.686Z"
   },
   {
    "duration": 4,
    "start_time": "2025-08-25T20:07:10.682Z"
   },
   {
    "duration": 12,
    "start_time": "2025-08-25T21:08:02.314Z"
   },
   {
    "duration": 10,
    "start_time": "2025-08-25T21:08:35.098Z"
   },
   {
    "duration": 10,
    "start_time": "2025-08-25T21:11:52.218Z"
   },
   {
    "duration": 10,
    "start_time": "2025-08-25T21:12:17.755Z"
   },
   {
    "duration": 10,
    "start_time": "2025-08-25T21:12:34.104Z"
   },
   {
    "duration": 410,
    "start_time": "2025-08-26T05:50:25.254Z"
   },
   {
    "duration": 434,
    "start_time": "2025-08-26T05:50:25.666Z"
   },
   {
    "duration": 10,
    "start_time": "2025-08-26T05:50:26.102Z"
   },
   {
    "duration": 3732,
    "start_time": "2025-08-26T05:50:26.114Z"
   },
   {
    "duration": 17,
    "start_time": "2025-08-26T05:50:29.849Z"
   },
   {
    "duration": 617,
    "start_time": "2025-08-26T05:50:29.868Z"
   },
   {
    "duration": 578,
    "start_time": "2025-08-26T05:50:30.487Z"
   },
   {
    "duration": 40,
    "start_time": "2025-08-26T05:50:31.067Z"
   },
   {
    "duration": 219,
    "start_time": "2025-08-26T05:50:31.109Z"
   },
   {
    "duration": 475,
    "start_time": "2025-08-26T05:50:31.330Z"
   },
   {
    "duration": 847,
    "start_time": "2025-08-26T05:50:31.806Z"
   },
   {
    "duration": 5,
    "start_time": "2025-08-26T05:50:32.654Z"
   },
   {
    "duration": 622,
    "start_time": "2025-08-26T05:50:32.661Z"
   },
   {
    "duration": 274,
    "start_time": "2025-08-26T05:50:33.286Z"
   },
   {
    "duration": 194,
    "start_time": "2025-08-26T05:50:33.561Z"
   },
   {
    "duration": 14,
    "start_time": "2025-08-26T05:50:33.756Z"
   },
   {
    "duration": 274,
    "start_time": "2025-08-26T05:50:33.772Z"
   },
   {
    "duration": 4,
    "start_time": "2025-08-26T05:50:34.048Z"
   },
   {
    "duration": 598,
    "start_time": "2025-08-26T05:50:34.053Z"
   },
   {
    "duration": 15,
    "start_time": "2025-08-26T05:50:34.652Z"
   },
   {
    "duration": 211,
    "start_time": "2025-08-26T05:50:34.669Z"
   },
   {
    "duration": 197,
    "start_time": "2025-08-26T05:50:34.882Z"
   },
   {
    "duration": 124,
    "start_time": "2025-08-26T05:50:35.081Z"
   },
   {
    "duration": 83,
    "start_time": "2025-08-26T05:50:35.207Z"
   },
   {
    "duration": 62,
    "start_time": "2025-08-26T05:50:35.292Z"
   },
   {
    "duration": 164,
    "start_time": "2025-08-26T05:50:35.356Z"
   },
   {
    "duration": 18,
    "start_time": "2025-08-26T05:50:35.522Z"
   },
   {
    "duration": 15,
    "start_time": "2025-08-26T05:50:35.542Z"
   },
   {
    "duration": 19,
    "start_time": "2025-08-26T05:50:35.559Z"
   },
   {
    "duration": 70,
    "start_time": "2025-08-26T05:50:35.580Z"
   },
   {
    "duration": 107,
    "start_time": "2025-08-26T05:50:35.652Z"
   },
   {
    "duration": 411,
    "start_time": "2025-08-26T05:50:35.761Z"
   },
   {
    "duration": 9,
    "start_time": "2025-08-26T05:50:36.175Z"
   },
   {
    "duration": 20,
    "start_time": "2025-08-26T05:50:36.185Z"
   },
   {
    "duration": 72,
    "start_time": "2025-08-26T05:50:36.207Z"
   },
   {
    "duration": 363,
    "start_time": "2025-08-26T05:50:36.280Z"
   },
   {
    "duration": 519,
    "start_time": "2025-08-26T05:50:36.645Z"
   },
   {
    "duration": 5,
    "start_time": "2025-08-26T05:50:37.166Z"
   },
   {
    "duration": 42,
    "start_time": "2025-08-26T05:50:37.173Z"
   },
   {
    "duration": 20,
    "start_time": "2025-08-26T05:50:37.217Z"
   },
   {
    "duration": 62,
    "start_time": "2025-08-26T05:50:37.241Z"
   },
   {
    "duration": 56,
    "start_time": "2025-08-26T05:50:37.305Z"
   },
   {
    "duration": 44,
    "start_time": "2025-08-26T05:50:37.362Z"
   },
   {
    "duration": 4,
    "start_time": "2025-08-26T05:50:37.407Z"
   },
   {
    "duration": 26,
    "start_time": "2025-08-26T05:50:37.412Z"
   },
   {
    "duration": 20,
    "start_time": "2025-08-26T05:50:37.440Z"
   },
   {
    "duration": 440,
    "start_time": "2025-08-26T06:15:39.011Z"
   },
   {
    "duration": 464,
    "start_time": "2025-08-26T06:15:39.452Z"
   },
   {
    "duration": 11,
    "start_time": "2025-08-26T06:15:39.917Z"
   },
   {
    "duration": 1761,
    "start_time": "2025-08-26T06:15:39.935Z"
   },
   {
    "duration": 17,
    "start_time": "2025-08-26T06:15:41.697Z"
   },
   {
    "duration": 676,
    "start_time": "2025-08-26T06:15:41.716Z"
   },
   {
    "duration": 608,
    "start_time": "2025-08-26T06:15:42.393Z"
   },
   {
    "duration": 46,
    "start_time": "2025-08-26T06:15:43.003Z"
   },
   {
    "duration": 228,
    "start_time": "2025-08-26T06:15:43.050Z"
   },
   {
    "duration": 224,
    "start_time": "2025-08-26T06:15:43.281Z"
   },
   {
    "duration": 983,
    "start_time": "2025-08-26T06:15:43.507Z"
   },
   {
    "duration": 5,
    "start_time": "2025-08-26T06:15:44.492Z"
   },
   {
    "duration": 668,
    "start_time": "2025-08-26T06:15:44.499Z"
   },
   {
    "duration": 305,
    "start_time": "2025-08-26T06:15:45.170Z"
   },
   {
    "duration": 213,
    "start_time": "2025-08-26T06:15:45.476Z"
   },
   {
    "duration": 15,
    "start_time": "2025-08-26T06:15:45.691Z"
   },
   {
    "duration": 328,
    "start_time": "2025-08-26T06:15:45.708Z"
   },
   {
    "duration": 4,
    "start_time": "2025-08-26T06:15:46.038Z"
   },
   {
    "duration": 577,
    "start_time": "2025-08-26T06:15:46.044Z"
   },
   {
    "duration": 20,
    "start_time": "2025-08-26T06:15:46.623Z"
   },
   {
    "duration": 202,
    "start_time": "2025-08-26T06:15:46.645Z"
   },
   {
    "duration": 195,
    "start_time": "2025-08-26T06:15:46.849Z"
   },
   {
    "duration": 42,
    "start_time": "2025-08-26T06:15:47.046Z"
   },
   {
    "duration": 5,
    "start_time": "2025-08-26T06:15:47.090Z"
   },
   {
    "duration": 60,
    "start_time": "2025-08-26T06:15:47.097Z"
   },
   {
    "duration": 128,
    "start_time": "2025-08-26T06:15:47.159Z"
   },
   {
    "duration": 8,
    "start_time": "2025-08-26T06:15:47.289Z"
   },
   {
    "duration": 10,
    "start_time": "2025-08-26T06:15:47.300Z"
   },
   {
    "duration": 24,
    "start_time": "2025-08-26T06:15:47.311Z"
   },
   {
    "duration": 10,
    "start_time": "2025-08-26T06:15:47.337Z"
   },
   {
    "duration": 18,
    "start_time": "2025-08-26T06:15:47.349Z"
   },
   {
    "duration": 398,
    "start_time": "2025-08-26T06:15:47.369Z"
   },
   {
    "duration": 7,
    "start_time": "2025-08-26T06:15:47.769Z"
   },
   {
    "duration": 96,
    "start_time": "2025-08-26T06:15:47.778Z"
   },
   {
    "duration": 54,
    "start_time": "2025-08-26T06:15:47.875Z"
   },
   {
    "duration": 356,
    "start_time": "2025-08-26T06:15:47.931Z"
   },
   {
    "duration": 860,
    "start_time": "2025-08-26T06:15:48.289Z"
   },
   {
    "duration": 7,
    "start_time": "2025-08-26T06:15:49.150Z"
   },
   {
    "duration": 50,
    "start_time": "2025-08-26T06:15:49.158Z"
   },
   {
    "duration": 8,
    "start_time": "2025-08-26T06:15:49.210Z"
   },
   {
    "duration": 17,
    "start_time": "2025-08-26T06:15:49.220Z"
   },
   {
    "duration": 48,
    "start_time": "2025-08-26T06:15:49.239Z"
   },
   {
    "duration": 61,
    "start_time": "2025-08-26T06:15:49.289Z"
   },
   {
    "duration": 4,
    "start_time": "2025-08-26T06:15:49.352Z"
   },
   {
    "duration": 14,
    "start_time": "2025-08-26T06:15:49.357Z"
   },
   {
    "duration": 10,
    "start_time": "2025-08-26T06:15:49.372Z"
   },
   {
    "duration": 421,
    "start_time": "2025-08-26T06:27:50.041Z"
   },
   {
    "duration": 433,
    "start_time": "2025-08-26T06:27:50.464Z"
   },
   {
    "duration": 9,
    "start_time": "2025-08-26T06:27:50.899Z"
   },
   {
    "duration": 3961,
    "start_time": "2025-08-26T06:27:50.910Z"
   },
   {
    "duration": 17,
    "start_time": "2025-08-26T06:27:54.874Z"
   },
   {
    "duration": 700,
    "start_time": "2025-08-26T06:27:54.893Z"
   },
   {
    "duration": 586,
    "start_time": "2025-08-26T06:27:55.594Z"
   },
   {
    "duration": 40,
    "start_time": "2025-08-26T06:27:56.182Z"
   },
   {
    "duration": 235,
    "start_time": "2025-08-26T06:27:56.224Z"
   },
   {
    "duration": 212,
    "start_time": "2025-08-26T06:27:56.461Z"
   },
   {
    "duration": 889,
    "start_time": "2025-08-26T06:27:56.675Z"
   },
   {
    "duration": 4,
    "start_time": "2025-08-26T06:27:57.566Z"
   },
   {
    "duration": 593,
    "start_time": "2025-08-26T06:27:57.571Z"
   },
   {
    "duration": 270,
    "start_time": "2025-08-26T06:27:58.167Z"
   },
   {
    "duration": 198,
    "start_time": "2025-08-26T06:27:58.439Z"
   },
   {
    "duration": 15,
    "start_time": "2025-08-26T06:27:58.638Z"
   },
   {
    "duration": 280,
    "start_time": "2025-08-26T06:27:58.654Z"
   },
   {
    "duration": 4,
    "start_time": "2025-08-26T06:27:58.936Z"
   },
   {
    "duration": 567,
    "start_time": "2025-08-26T06:27:58.941Z"
   },
   {
    "duration": 25,
    "start_time": "2025-08-26T06:27:59.509Z"
   },
   {
    "duration": 193,
    "start_time": "2025-08-26T06:27:59.537Z"
   },
   {
    "duration": 181,
    "start_time": "2025-08-26T06:27:59.735Z"
   },
   {
    "duration": 39,
    "start_time": "2025-08-26T06:27:59.918Z"
   },
   {
    "duration": 5,
    "start_time": "2025-08-26T06:27:59.959Z"
   },
   {
    "duration": 9,
    "start_time": "2025-08-26T06:27:59.965Z"
   },
   {
    "duration": 154,
    "start_time": "2025-08-26T06:27:59.975Z"
   },
   {
    "duration": 7,
    "start_time": "2025-08-26T06:28:00.131Z"
   },
   {
    "duration": 42,
    "start_time": "2025-08-26T06:28:00.140Z"
   },
   {
    "duration": 54,
    "start_time": "2025-08-26T06:28:00.184Z"
   },
   {
    "duration": 174,
    "start_time": "2025-08-26T06:28:00.240Z"
   },
   {
    "duration": 51,
    "start_time": "2025-08-26T06:28:00.416Z"
   },
   {
    "duration": 390,
    "start_time": "2025-08-26T06:28:00.468Z"
   },
   {
    "duration": 8,
    "start_time": "2025-08-26T06:28:00.860Z"
   },
   {
    "duration": 23,
    "start_time": "2025-08-26T06:28:00.870Z"
   },
   {
    "duration": 45,
    "start_time": "2025-08-26T06:28:00.894Z"
   },
   {
    "duration": 324,
    "start_time": "2025-08-26T06:28:00.941Z"
   },
   {
    "duration": 859,
    "start_time": "2025-08-26T06:28:01.266Z"
   },
   {
    "duration": 7,
    "start_time": "2025-08-26T06:28:02.127Z"
   },
   {
    "duration": 101,
    "start_time": "2025-08-26T06:28:02.136Z"
   },
   {
    "duration": 9,
    "start_time": "2025-08-26T06:28:02.239Z"
   },
   {
    "duration": 43,
    "start_time": "2025-08-26T06:28:02.252Z"
   },
   {
    "duration": 131,
    "start_time": "2025-08-26T06:28:02.297Z"
   },
   {
    "duration": 79,
    "start_time": "2025-08-26T06:28:02.431Z"
   },
   {
    "duration": 4,
    "start_time": "2025-08-26T06:28:02.512Z"
   },
   {
    "duration": 46,
    "start_time": "2025-08-26T06:28:02.518Z"
   },
   {
    "duration": 100,
    "start_time": "2025-08-26T06:28:02.566Z"
   }
  ],
  "colab": {
   "provenance": []
  },
  "kernelspec": {
   "display_name": "Python [conda env:base] *",
   "language": "python",
   "name": "conda-base-py"
  },
  "language_info": {
   "codemirror_mode": {
    "name": "ipython",
    "version": 3
   },
   "file_extension": ".py",
   "mimetype": "text/x-python",
   "name": "python",
   "nbconvert_exporter": "python",
   "pygments_lexer": "ipython3",
   "version": "3.12.7"
  },
  "toc": {
   "base_numbering": 1,
   "nav_menu": {},
   "number_sections": true,
   "sideBar": true,
   "skip_h1_title": true,
   "title_cell": "Table of Contents",
   "title_sidebar": "Contents",
   "toc_cell": false,
   "toc_position": {},
   "toc_section_display": true,
   "toc_window_display": false
  }
 },
 "nbformat": 4,
 "nbformat_minor": 4
}
